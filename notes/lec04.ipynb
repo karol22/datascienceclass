{
 "cells": [
  {
   "cell_type": "code",
   "execution_count": 1,
   "metadata": {},
   "outputs": [],
   "source": [
    "from datascience import *\n",
    "import numpy as np\n",
    "\n",
    "%matplotlib inline\n",
    "import matplotlib.pyplot as plt\n",
    "plt.style.use('fivethirtyeight')\n",
    "\n",
    "from ipywidgets import interact, interactive, fixed, interact_manual\n",
    "import ipywidgets as widgets"
   ]
  },
  {
   "cell_type": "markdown",
   "metadata": {},
   "source": [
    "## Functions\n",
    "\n"
   ]
  },
  {
   "cell_type": "markdown",
   "metadata": {},
   "source": [
    "Before, we've seen these:"
   ]
  },
  {
   "cell_type": "code",
   "execution_count": null,
   "metadata": {},
   "outputs": [],
   "source": [
    "abs(-2)"
   ]
  },
  {
   "cell_type": "code",
   "execution_count": null,
   "metadata": {},
   "outputs": [],
   "source": [
    "max(1, 2, 3)"
   ]
  },
  {
   "cell_type": "markdown",
   "metadata": {},
   "source": [
    "Let's suppose we want to convert a number from degrees Celsius to Fahrenheit. There's no built-in function for that..."
   ]
  },
  {
   "cell_type": "code",
   "execution_count": null,
   "metadata": {},
   "outputs": [],
   "source": [
    "0 * (9/5) + 32"
   ]
  },
  {
   "cell_type": "code",
   "execution_count": null,
   "metadata": {},
   "outputs": [],
   "source": [
    "100 * (9/5) + 32"
   ]
  },
  {
   "cell_type": "code",
   "execution_count": null,
   "metadata": {},
   "outputs": [],
   "source": [
    "-40 * (9/5) + 32"
   ]
  },
  {
   "cell_type": "code",
   "execution_count": null,
   "metadata": {},
   "outputs": [],
   "source": []
  },
  {
   "cell_type": "code",
   "execution_count": null,
   "metadata": {},
   "outputs": [],
   "source": []
  },
  {
   "cell_type": "code",
   "execution_count": null,
   "metadata": {},
   "outputs": [],
   "source": []
  },
  {
   "cell_type": "code",
   "execution_count": null,
   "metadata": {},
   "outputs": [],
   "source": []
  },
  {
   "cell_type": "code",
   "execution_count": null,
   "metadata": {},
   "outputs": [],
   "source": []
  },
  {
   "cell_type": "code",
   "execution_count": null,
   "metadata": {},
   "outputs": [],
   "source": []
  },
  {
   "cell_type": "code",
   "execution_count": 2,
   "metadata": {},
   "outputs": [],
   "source": [
    "def fahrenheit(x):\n",
    "    \"\"\" Converts x to deg F \"\"\"\n",
    "    return x * (9/5) + 32"
   ]
  },
  {
   "cell_type": "code",
   "execution_count": null,
   "metadata": {},
   "outputs": [],
   "source": [
    "fahrenheit(100)"
   ]
  },
  {
   "cell_type": "code",
   "execution_count": null,
   "metadata": {},
   "outputs": [],
   "source": [
    "fahrenheit(0)"
   ]
  },
  {
   "cell_type": "code",
   "execution_count": 3,
   "metadata": {},
   "outputs": [
    {
     "data": {
      "text/plain": [
       "77.0"
      ]
     },
     "execution_count": 3,
     "metadata": {},
     "output_type": "execute_result"
    }
   ],
   "source": [
    "y = 100\n",
    "fahrenheit(y/4)"
   ]
  },
  {
   "cell_type": "code",
   "execution_count": 4,
   "metadata": {},
   "outputs": [
    {
     "ename": "NameError",
     "evalue": "name 'x' is not defined",
     "output_type": "error",
     "traceback": [
      "\u001b[0;31m---------------------------------------------------------------------------\u001b[0m",
      "\u001b[0;31mNameError\u001b[0m                                 Traceback (most recent call last)",
      "\u001b[0;32m<ipython-input-4-1ec7f0507fb1>\u001b[0m in \u001b[0;36m<module>\u001b[0;34m\u001b[0m\n\u001b[1;32m      1\u001b[0m \u001b[0;31m# what would be the output?\u001b[0m\u001b[0;34m\u001b[0m\u001b[0;34m\u001b[0m\u001b[0;34m\u001b[0m\u001b[0m\n\u001b[0;32m----> 2\u001b[0;31m \u001b[0mx\u001b[0m\u001b[0;34m\u001b[0m\u001b[0;34m\u001b[0m\u001b[0m\n\u001b[0m",
      "\u001b[0;31mNameError\u001b[0m: name 'x' is not defined"
     ]
    }
   ],
   "source": [
    "# what would be the output?\n",
    "x"
   ]
  },
  {
   "cell_type": "code",
   "execution_count": 5,
   "metadata": {},
   "outputs": [
    {
     "data": {
      "text/plain": [
       "170.6"
      ]
     },
     "execution_count": 5,
     "metadata": {},
     "output_type": "execute_result"
    }
   ],
   "source": [
    "fahrenheit(fahrenheit(25))"
   ]
  },
  {
   "cell_type": "code",
   "execution_count": 6,
   "metadata": {},
   "outputs": [
    {
     "data": {
      "text/plain": [
       "170.6"
      ]
     },
     "execution_count": 6,
     "metadata": {},
     "output_type": "execute_result"
    }
   ],
   "source": [
    "fahrenheit(77)"
   ]
  },
  {
   "cell_type": "code",
   "execution_count": null,
   "metadata": {},
   "outputs": [],
   "source": [
    "x = 25\n",
    "fahrenheit(x)"
   ]
  },
  {
   "cell_type": "code",
   "execution_count": null,
   "metadata": {},
   "outputs": [],
   "source": [
    "x"
   ]
  },
  {
   "cell_type": "markdown",
   "metadata": {},
   "source": [
    "Back to slides"
   ]
  },
  {
   "cell_type": "code",
   "execution_count": 7,
   "metadata": {},
   "outputs": [
    {
     "data": {
      "text/plain": [
       "array([16.67, 33.33, 50.  ])"
      ]
     },
     "execution_count": 7,
     "metadata": {},
     "output_type": "execute_result"
    }
   ],
   "source": [
    "counts = make_array(1, 2, 3)\n",
    "total = counts.sum()\n",
    "np.round((counts/total)*100, 2)"
   ]
  },
  {
   "cell_type": "code",
   "execution_count": 8,
   "metadata": {},
   "outputs": [],
   "source": [
    "def percents(counts):\n",
    "    \"\"\"Convert the counts to percents out of the total.\"\"\"\n",
    "    total = counts.sum()\n",
    "    return np.round((counts/total)*100, 2)"
   ]
  },
  {
   "cell_type": "code",
   "execution_count": 9,
   "metadata": {},
   "outputs": [
    {
     "data": {
      "text/plain": [
       "array([16.67, 33.33, 50.  ])"
      ]
     },
     "execution_count": 9,
     "metadata": {},
     "output_type": "execute_result"
    }
   ],
   "source": [
    "percents(make_array(1, 2, 3))"
   ]
  },
  {
   "cell_type": "markdown",
   "metadata": {},
   "source": [
    "Write this without default arg first."
   ]
  },
  {
   "cell_type": "code",
   "execution_count": 15,
   "metadata": {},
   "outputs": [],
   "source": [
    "def percents(counts, decimal_places=2):\n",
    "    \"\"\"Convert the values in array_x to percents out of the total of array_x.\"\"\"\n",
    "    total = counts.sum()\n",
    "    return np.round((counts/total)*100, decimal_places)"
   ]
  },
  {
   "cell_type": "code",
   "execution_count": 11,
   "metadata": {
    "scrolled": true
   },
   "outputs": [
    {
     "data": {
      "text/plain": [
       "array([2, 1, 4])"
      ]
     },
     "execution_count": 11,
     "metadata": {},
     "output_type": "execute_result"
    }
   ],
   "source": [
    "parts = make_array(2, 1, 4)\n",
    "parts"
   ]
  },
  {
   "cell_type": "code",
   "execution_count": 13,
   "metadata": {},
   "outputs": [
    {
     "data": {
      "text/plain": [
       "array([28.571, 14.286, 57.143])"
      ]
     },
     "execution_count": 13,
     "metadata": {},
     "output_type": "execute_result"
    }
   ],
   "source": [
    "percents(parts)"
   ]
  },
  {
   "cell_type": "code",
   "execution_count": null,
   "metadata": {},
   "outputs": [],
   "source": []
  },
  {
   "cell_type": "markdown",
   "metadata": {},
   "source": [
    "## Interact\n",
    "\n"
   ]
  },
  {
   "cell_type": "code",
   "execution_count": 18,
   "metadata": {},
   "outputs": [
    {
     "data": {
      "application/vnd.jupyter.widget-view+json": {
       "model_id": "b4476e080a1c4c6bbcb75483eab33b5a",
       "version_major": 2,
       "version_minor": 0
      },
      "text/plain": [
       "interactive(children=(IntSlider(value=50, description='x', max=150, min=-50), Output()), _dom_classes=('widget…"
      ]
     },
     "metadata": {},
     "output_type": "display_data"
    }
   ],
   "source": [
    "_ = interact(fahrenheit, x=50)"
   ]
  },
  {
   "cell_type": "code",
   "execution_count": 19,
   "metadata": {
    "scrolled": true
   },
   "outputs": [
    {
     "data": {
      "application/vnd.jupyter.widget-view+json": {
       "model_id": "c74f493412f844d194e9c1ab2a804f80",
       "version_major": 2,
       "version_minor": 0
      },
      "text/plain": [
       "interactive(children=(IntSlider(value=50, description='x', step=5), Output()), _dom_classes=('widget-interact'…"
      ]
     },
     "metadata": {},
     "output_type": "display_data"
    }
   ],
   "source": [
    "_ = interact(fahrenheit, x=(0, 100, 5))"
   ]
  },
  {
   "cell_type": "code",
   "execution_count": 20,
   "metadata": {},
   "outputs": [
    {
     "ename": "NameError",
     "evalue": "name 'x' is not defined",
     "output_type": "error",
     "traceback": [
      "\u001b[0;31m---------------------------------------------------------------------------\u001b[0m",
      "\u001b[0;31mNameError\u001b[0m                                 Traceback (most recent call last)",
      "\u001b[0;32m<ipython-input-20-fd1e78818c72>\u001b[0m in \u001b[0;36m<module>\u001b[0;34m\u001b[0m\n\u001b[1;32m      1\u001b[0m \u001b[0;31m# What will be the output?\u001b[0m\u001b[0;34m\u001b[0m\u001b[0;34m\u001b[0m\u001b[0;34m\u001b[0m\u001b[0m\n\u001b[0;32m----> 2\u001b[0;31m \u001b[0mx\u001b[0m\u001b[0;34m\u001b[0m\u001b[0;34m\u001b[0m\u001b[0m\n\u001b[0m",
      "\u001b[0;31mNameError\u001b[0m: name 'x' is not defined"
     ]
    }
   ],
   "source": [
    "# What will be the output?\n",
    "x"
   ]
  },
  {
   "cell_type": "code",
   "execution_count": 21,
   "metadata": {
    "scrolled": true
   },
   "outputs": [
    {
     "data": {
      "application/vnd.jupyter.widget-view+json": {
       "model_id": "da256d93e7ff46fdb416ca028d0ff236",
       "version_major": 2,
       "version_minor": 0
      },
      "text/plain": [
       "interactive(children=(Dropdown(description='x', options=(0, 20, 30, 50), value=0), Output()), _dom_classes=('w…"
      ]
     },
     "metadata": {},
     "output_type": "display_data"
    }
   ],
   "source": [
    "_ = interact(fahrenheit, x=make_array(0, 20, 30, 50))"
   ]
  },
  {
   "cell_type": "markdown",
   "metadata": {},
   "source": [
    "## Apply\n",
    "\n"
   ]
  },
  {
   "cell_type": "code",
   "execution_count": 22,
   "metadata": {},
   "outputs": [],
   "source": [
    "def cut_off_at_a_billion(x):\n",
    "    \"\"\"The smaller of x and 1,000,000,000\"\"\"\n",
    "    return min(x, 1e9)"
   ]
  },
  {
   "cell_type": "code",
   "execution_count": 26,
   "metadata": {},
   "outputs": [
    {
     "data": {
      "text/plain": [
       "1000000000.0"
      ]
     },
     "execution_count": 26,
     "metadata": {},
     "output_type": "execute_result"
    }
   ],
   "source": [
    "cut_off_at_a_billion(12300000000)"
   ]
  },
  {
   "cell_type": "code",
   "execution_count": 27,
   "metadata": {},
   "outputs": [
    {
     "data": {
      "text/html": [
       "<table border=\"1\" class=\"dataframe\">\n",
       "    <thead>\n",
       "        <tr>\n",
       "            <th>Title</th> <th>Studio</th> <th>Gross</th> <th>Gross (Adjusted)</th> <th>Year</th>\n",
       "        </tr>\n",
       "    </thead>\n",
       "    <tbody>\n",
       "        <tr>\n",
       "            <td>Star Wars                                </td> <td>Fox   </td> <td>460998007</td> <td>1583483200      </td> <td>1977</td>\n",
       "        </tr>\n",
       "        <tr>\n",
       "            <td>The Sound of Music                       </td> <td>Fox   </td> <td>158671368</td> <td>1266072700      </td> <td>1965</td>\n",
       "        </tr>\n",
       "        <tr>\n",
       "            <td>The Empire Strikes Back                  </td> <td>Fox   </td> <td>290475067</td> <td>872825900       </td> <td>1980</td>\n",
       "        </tr>\n",
       "        <tr>\n",
       "            <td>Avatar                                   </td> <td>Fox   </td> <td>760507625</td> <td>865082100       </td> <td>2009</td>\n",
       "        </tr>\n",
       "        <tr>\n",
       "            <td>Return of the Jedi                       </td> <td>Fox   </td> <td>309306177</td> <td>836188200       </td> <td>1983</td>\n",
       "        </tr>\n",
       "        <tr>\n",
       "            <td>Star Wars: Episode I - The Phantom Menace</td> <td>Fox   </td> <td>474544677</td> <td>802874300       </td> <td>1999</td>\n",
       "        </tr>\n",
       "        <tr>\n",
       "            <td>Butch Cassidy and the Sundance Kid       </td> <td>Fox   </td> <td>102308889</td> <td>627259300       </td> <td>1969</td>\n",
       "        </tr>\n",
       "        <tr>\n",
       "            <td>Independence Day                         </td> <td>Fox   </td> <td>306169268</td> <td>615800300       </td> <td>1996</td>\n",
       "        </tr>\n",
       "        <tr>\n",
       "            <td>Home Alone                               </td> <td>Fox   </td> <td>285761243</td> <td>602157000       </td> <td>1990</td>\n",
       "        </tr>\n",
       "        <tr>\n",
       "            <td>Cleopatra (1963)                         </td> <td>Fox   </td> <td>57777778 </td> <td>597261000       </td> <td>1963</td>\n",
       "        </tr>\n",
       "    </tbody>\n",
       "</table>\n",
       "<p>... (14 rows omitted)</p>"
      ],
      "text/plain": [
       "Title                                     | Studio | Gross     | Gross (Adjusted) | Year\n",
       "Star Wars                                 | Fox    | 460998007 | 1583483200       | 1977\n",
       "The Sound of Music                        | Fox    | 158671368 | 1266072700       | 1965\n",
       "The Empire Strikes Back                   | Fox    | 290475067 | 872825900        | 1980\n",
       "Avatar                                    | Fox    | 760507625 | 865082100        | 2009\n",
       "Return of the Jedi                        | Fox    | 309306177 | 836188200        | 1983\n",
       "Star Wars: Episode I - The Phantom Menace | Fox    | 474544677 | 802874300        | 1999\n",
       "Butch Cassidy and the Sundance Kid        | Fox    | 102308889 | 627259300        | 1969\n",
       "Independence Day                          | Fox    | 306169268 | 615800300        | 1996\n",
       "Home Alone                                | Fox    | 285761243 | 602157000        | 1990\n",
       "Cleopatra (1963)                          | Fox    | 57777778  | 597261000        | 1963\n",
       "... (14 rows omitted)"
      ]
     },
     "execution_count": 27,
     "metadata": {},
     "output_type": "execute_result"
    }
   ],
   "source": [
    "top = Table.read_table('top_movies_2017.csv').where('Studio', 'Fox')\n",
    "top"
   ]
  },
  {
   "cell_type": "code",
   "execution_count": 28,
   "metadata": {},
   "outputs": [
    {
     "data": {
      "text/plain": [
       "1000000000.0"
      ]
     },
     "execution_count": 28,
     "metadata": {},
     "output_type": "execute_result"
    }
   ],
   "source": [
    "cut_off_at_a_billion(top.column('Gross (Adjusted)').item(0))"
   ]
  },
  {
   "cell_type": "code",
   "execution_count": 29,
   "metadata": {},
   "outputs": [
    {
     "ename": "ValueError",
     "evalue": "The truth value of an array with more than one element is ambiguous. Use a.any() or a.all()",
     "output_type": "error",
     "traceback": [
      "\u001b[0;31m---------------------------------------------------------------------------\u001b[0m",
      "\u001b[0;31mValueError\u001b[0m                                Traceback (most recent call last)",
      "\u001b[0;32m<ipython-input-29-2f76fdb46a4f>\u001b[0m in \u001b[0;36m<module>\u001b[0;34m\u001b[0m\n\u001b[0;32m----> 1\u001b[0;31m \u001b[0mcut_off_at_a_billion\u001b[0m\u001b[0;34m(\u001b[0m\u001b[0mtop\u001b[0m\u001b[0;34m.\u001b[0m\u001b[0mcolumn\u001b[0m\u001b[0;34m(\u001b[0m\u001b[0;34m'Gross (Adjusted)'\u001b[0m\u001b[0;34m)\u001b[0m\u001b[0;34m)\u001b[0m\u001b[0;34m\u001b[0m\u001b[0;34m\u001b[0m\u001b[0m\n\u001b[0m",
      "\u001b[0;32m<ipython-input-22-941bd2f79e21>\u001b[0m in \u001b[0;36mcut_off_at_a_billion\u001b[0;34m(x)\u001b[0m\n\u001b[1;32m      1\u001b[0m \u001b[0;32mdef\u001b[0m \u001b[0mcut_off_at_a_billion\u001b[0m\u001b[0;34m(\u001b[0m\u001b[0mx\u001b[0m\u001b[0;34m)\u001b[0m\u001b[0;34m:\u001b[0m\u001b[0;34m\u001b[0m\u001b[0;34m\u001b[0m\u001b[0m\n\u001b[1;32m      2\u001b[0m     \u001b[0;34m\"\"\"The smaller of x and 1,000,000,000\"\"\"\u001b[0m\u001b[0;34m\u001b[0m\u001b[0;34m\u001b[0m\u001b[0m\n\u001b[0;32m----> 3\u001b[0;31m     \u001b[0;32mreturn\u001b[0m \u001b[0mmin\u001b[0m\u001b[0;34m(\u001b[0m\u001b[0mx\u001b[0m\u001b[0;34m,\u001b[0m \u001b[0;36m1e9\u001b[0m\u001b[0;34m)\u001b[0m\u001b[0;34m\u001b[0m\u001b[0;34m\u001b[0m\u001b[0m\n\u001b[0m",
      "\u001b[0;31mValueError\u001b[0m: The truth value of an array with more than one element is ambiguous. Use a.any() or a.all()"
     ]
    }
   ],
   "source": [
    "cut_off_at_a_billion(top.column('Gross (Adjusted)'))"
   ]
  },
  {
   "cell_type": "code",
   "execution_count": 30,
   "metadata": {},
   "outputs": [
    {
     "data": {
      "text/plain": [
       "array([1.000000e+09, 1.000000e+09, 8.728259e+08, 8.650821e+08,\n",
       "       8.361882e+08, 8.028743e+08, 6.272593e+08, 6.158003e+08,\n",
       "       6.021570e+08, 5.972610e+08, 5.818909e+08, 5.456296e+08,\n",
       "       5.273955e+08, 4.895672e+08, 4.880784e+08, 4.772526e+08,\n",
       "       4.753347e+08, 4.683642e+08, 4.058042e+08, 3.759846e+08,\n",
       "       3.724394e+08, 3.720429e+08, 3.541648e+08, 3.413578e+08])"
      ]
     },
     "execution_count": 30,
     "metadata": {},
     "output_type": "execute_result"
    }
   ],
   "source": [
    "cut_off = top.apply(cut_off_at_a_billion, 'Gross (Adjusted)')\n",
    "cut_off"
   ]
  },
  {
   "cell_type": "code",
   "execution_count": 31,
   "metadata": {},
   "outputs": [
    {
     "data": {
      "text/plain": [
       "<function __main__.cut_off_at_a_billion(x)>"
      ]
     },
     "execution_count": 31,
     "metadata": {},
     "output_type": "execute_result"
    }
   ],
   "source": [
    "cut_off_at_a_billion"
   ]
  },
  {
   "cell_type": "code",
   "execution_count": 32,
   "metadata": {},
   "outputs": [
    {
     "data": {
      "text/plain": [
       "function"
      ]
     },
     "execution_count": 32,
     "metadata": {},
     "output_type": "execute_result"
    }
   ],
   "source": [
    "type(cut_off_at_a_billion)"
   ]
  },
  {
   "cell_type": "code",
   "execution_count": 33,
   "metadata": {},
   "outputs": [],
   "source": [
    "cut_off_at_a_billion?"
   ]
  },
  {
   "cell_type": "code",
   "execution_count": 34,
   "metadata": {},
   "outputs": [
    {
     "name": "stdout",
     "output_type": "stream",
     "text": [
      "Help on function cut_off_at_a_billion in module __main__:\n",
      "\n",
      "cut_off_at_a_billion(x)\n",
      "    The smaller of x and 1,000,000,000\n",
      "\n"
     ]
    }
   ],
   "source": [
    "help(cut_off_at_a_billion)"
   ]
  },
  {
   "cell_type": "markdown",
   "metadata": {},
   "source": [
    "## Prediction\n",
    "\n"
   ]
  },
  {
   "cell_type": "code",
   "execution_count": 35,
   "metadata": {
    "scrolled": true
   },
   "outputs": [
    {
     "data": {
      "text/html": [
       "<table border=\"1\" class=\"dataframe\">\n",
       "    <thead>\n",
       "        <tr>\n",
       "            <th>family</th> <th>father</th> <th>mother</th> <th>midparentHeight</th> <th>children</th> <th>childNum</th> <th>gender</th> <th>childHeight</th>\n",
       "        </tr>\n",
       "    </thead>\n",
       "    <tbody>\n",
       "        <tr>\n",
       "            <td>1     </td> <td>78.5  </td> <td>67    </td> <td>75.43          </td> <td>4       </td> <td>1       </td> <td>male  </td> <td>73.2       </td>\n",
       "        </tr>\n",
       "        <tr>\n",
       "            <td>1     </td> <td>78.5  </td> <td>67    </td> <td>75.43          </td> <td>4       </td> <td>2       </td> <td>female</td> <td>69.2       </td>\n",
       "        </tr>\n",
       "        <tr>\n",
       "            <td>1     </td> <td>78.5  </td> <td>67    </td> <td>75.43          </td> <td>4       </td> <td>3       </td> <td>female</td> <td>69         </td>\n",
       "        </tr>\n",
       "        <tr>\n",
       "            <td>1     </td> <td>78.5  </td> <td>67    </td> <td>75.43          </td> <td>4       </td> <td>4       </td> <td>female</td> <td>69         </td>\n",
       "        </tr>\n",
       "        <tr>\n",
       "            <td>2     </td> <td>75.5  </td> <td>66.5  </td> <td>73.66          </td> <td>4       </td> <td>1       </td> <td>male  </td> <td>73.5       </td>\n",
       "        </tr>\n",
       "        <tr>\n",
       "            <td>2     </td> <td>75.5  </td> <td>66.5  </td> <td>73.66          </td> <td>4       </td> <td>2       </td> <td>male  </td> <td>72.5       </td>\n",
       "        </tr>\n",
       "        <tr>\n",
       "            <td>2     </td> <td>75.5  </td> <td>66.5  </td> <td>73.66          </td> <td>4       </td> <td>3       </td> <td>female</td> <td>65.5       </td>\n",
       "        </tr>\n",
       "        <tr>\n",
       "            <td>2     </td> <td>75.5  </td> <td>66.5  </td> <td>73.66          </td> <td>4       </td> <td>4       </td> <td>female</td> <td>65.5       </td>\n",
       "        </tr>\n",
       "        <tr>\n",
       "            <td>3     </td> <td>75    </td> <td>64    </td> <td>72.06          </td> <td>2       </td> <td>1       </td> <td>male  </td> <td>71         </td>\n",
       "        </tr>\n",
       "        <tr>\n",
       "            <td>3     </td> <td>75    </td> <td>64    </td> <td>72.06          </td> <td>2       </td> <td>2       </td> <td>female</td> <td>68         </td>\n",
       "        </tr>\n",
       "    </tbody>\n",
       "</table>\n",
       "<p>... (924 rows omitted)</p>"
      ],
      "text/plain": [
       "family | father | mother | midparentHeight | children | childNum | gender | childHeight\n",
       "1      | 78.5   | 67     | 75.43           | 4        | 1        | male   | 73.2\n",
       "1      | 78.5   | 67     | 75.43           | 4        | 2        | female | 69.2\n",
       "1      | 78.5   | 67     | 75.43           | 4        | 3        | female | 69\n",
       "1      | 78.5   | 67     | 75.43           | 4        | 4        | female | 69\n",
       "2      | 75.5   | 66.5   | 73.66           | 4        | 1        | male   | 73.5\n",
       "2      | 75.5   | 66.5   | 73.66           | 4        | 2        | male   | 72.5\n",
       "2      | 75.5   | 66.5   | 73.66           | 4        | 3        | female | 65.5\n",
       "2      | 75.5   | 66.5   | 73.66           | 4        | 4        | female | 65.5\n",
       "3      | 75     | 64     | 72.06           | 2        | 1        | male   | 71\n",
       "3      | 75     | 64     | 72.06           | 2        | 2        | female | 68\n",
       "... (924 rows omitted)"
      ]
     },
     "execution_count": 35,
     "metadata": {},
     "output_type": "execute_result"
    }
   ],
   "source": [
    "galton = Table.read_table('galton.csv')\n",
    "galton"
   ]
  },
  {
   "cell_type": "code",
   "execution_count": 36,
   "metadata": {
    "scrolled": true
   },
   "outputs": [
    {
     "data": {
      "image/png": "[encoded data removed]",
      "text/plain": [
       "<Figure size 432x288 with 1 Axes>"
      ]
     },
     "metadata": {},
     "output_type": "display_data"
    }
   ],
   "source": [
    "galton.select(1, 2, 7).hist()"
   ]
  },
  {
   "cell_type": "markdown",
   "metadata": {},
   "source": [
    "Why are the child bars shorter than the father and mother bars?"
   ]
  },
  {
   "cell_type": "code",
   "execution_count": 37,
   "metadata": {},
   "outputs": [
    {
     "data": {
      "text/html": [
       "<table border=\"1\" class=\"dataframe\">\n",
       "    <thead>\n",
       "        <tr>\n",
       "            <th>MidParent</th> <th>Child</th>\n",
       "        </tr>\n",
       "    </thead>\n",
       "    <tbody>\n",
       "        <tr>\n",
       "            <td>75.43    </td> <td>73.2 </td>\n",
       "        </tr>\n",
       "        <tr>\n",
       "            <td>75.43    </td> <td>69.2 </td>\n",
       "        </tr>\n",
       "        <tr>\n",
       "            <td>75.43    </td> <td>69   </td>\n",
       "        </tr>\n",
       "        <tr>\n",
       "            <td>75.43    </td> <td>69   </td>\n",
       "        </tr>\n",
       "        <tr>\n",
       "            <td>73.66    </td> <td>73.5 </td>\n",
       "        </tr>\n",
       "        <tr>\n",
       "            <td>73.66    </td> <td>72.5 </td>\n",
       "        </tr>\n",
       "        <tr>\n",
       "            <td>73.66    </td> <td>65.5 </td>\n",
       "        </tr>\n",
       "        <tr>\n",
       "            <td>73.66    </td> <td>65.5 </td>\n",
       "        </tr>\n",
       "        <tr>\n",
       "            <td>72.06    </td> <td>71   </td>\n",
       "        </tr>\n",
       "        <tr>\n",
       "            <td>72.06    </td> <td>68   </td>\n",
       "        </tr>\n",
       "    </tbody>\n",
       "</table>\n",
       "<p>... (924 rows omitted)</p>"
      ],
      "text/plain": [
       "MidParent | Child\n",
       "75.43     | 73.2\n",
       "75.43     | 69.2\n",
       "75.43     | 69\n",
       "75.43     | 69\n",
       "73.66     | 73.5\n",
       "73.66     | 72.5\n",
       "73.66     | 65.5\n",
       "73.66     | 65.5\n",
       "72.06     | 71\n",
       "72.06     | 68\n",
       "... (924 rows omitted)"
      ]
     },
     "execution_count": 37,
     "metadata": {},
     "output_type": "execute_result"
    }
   ],
   "source": [
    "heights = galton.select(3, 7).relabeled(0, 'MidParent').relabeled(1, 'Child')\n",
    "heights"
   ]
  },
  {
   "cell_type": "code",
   "execution_count": 38,
   "metadata": {},
   "outputs": [
    {
     "data": {
      "image/png": "[encoded data removed]",
      "text/plain": [
       "<Figure size 360x360 with 1 Axes>"
      ]
     },
     "metadata": {},
     "output_type": "display_data"
    }
   ],
   "source": [
    "heights.scatter(0)"
   ]
  },
  {
   "cell_type": "code",
   "execution_count": 39,
   "metadata": {},
   "outputs": [
    {
     "data": {
      "text/html": [
       "<table border=\"1\" class=\"dataframe\">\n",
       "    <thead>\n",
       "        <tr>\n",
       "            <th>MidParent</th> <th>Child</th>\n",
       "        </tr>\n",
       "    </thead>\n",
       "    <tbody>\n",
       "        <tr>\n",
       "            <td>68.44    </td> <td>62   </td>\n",
       "        </tr>\n",
       "        <tr>\n",
       "            <td>67.94    </td> <td>71.2 </td>\n",
       "        </tr>\n",
       "        <tr>\n",
       "            <td>67.94    </td> <td>67   </td>\n",
       "        </tr>\n",
       "        <tr>\n",
       "            <td>68.33    </td> <td>62.5 </td>\n",
       "        </tr>\n",
       "        <tr>\n",
       "            <td>68.23    </td> <td>73   </td>\n",
       "        </tr>\n",
       "        <tr>\n",
       "            <td>68.23    </td> <td>72   </td>\n",
       "        </tr>\n",
       "        <tr>\n",
       "            <td>68.23    </td> <td>69   </td>\n",
       "        </tr>\n",
       "        <tr>\n",
       "            <td>67.98    </td> <td>73   </td>\n",
       "        </tr>\n",
       "        <tr>\n",
       "            <td>67.98    </td> <td>71   </td>\n",
       "        </tr>\n",
       "        <tr>\n",
       "            <td>67.98    </td> <td>71   </td>\n",
       "        </tr>\n",
       "    </tbody>\n",
       "</table>\n",
       "<p>... (121 rows omitted)</p>"
      ],
      "text/plain": [
       "MidParent | Child\n",
       "68.44     | 62\n",
       "67.94     | 71.2\n",
       "67.94     | 67\n",
       "68.33     | 62.5\n",
       "68.23     | 73\n",
       "68.23     | 72\n",
       "68.23     | 69\n",
       "67.98     | 73\n",
       "67.98     | 71\n",
       "67.98     | 71\n",
       "... (121 rows omitted)"
      ]
     },
     "execution_count": 39,
     "metadata": {},
     "output_type": "execute_result"
    }
   ],
   "source": [
    "close_to_68 = heights.where('MidParent', are.between(67.5, 68.5))\n",
    "close_to_68"
   ]
  },
  {
   "cell_type": "code",
   "execution_count": 40,
   "metadata": {},
   "outputs": [
    {
     "data": {
      "text/plain": [
       "66.24045801526718"
      ]
     },
     "execution_count": 40,
     "metadata": {},
     "output_type": "execute_result"
    }
   ],
   "source": [
    "close_to_68.column('Child').mean()"
   ]
  },
  {
   "cell_type": "code",
   "execution_count": 41,
   "metadata": {
    "scrolled": true
   },
   "outputs": [
    {
     "data": {
      "image/png": "[encoded data removed]",
      "text/plain": [
       "<Figure size 360x360 with 1 Axes>"
      ]
     },
     "metadata": {},
     "output_type": "display_data"
    }
   ],
   "source": [
    "heights.scatter('MidParent')\n",
    "_ = plt.plot([67.5, 67.5], [50, 85], color='red', lw=2)\n",
    "_ = plt.plot([68.5, 68.5], [50, 85], color='red', lw=2)\n",
    "_ = plt.scatter(68, 66.24, color='gold', s=40)"
   ]
  },
  {
   "cell_type": "markdown",
   "metadata": {},
   "source": [
    "Let's do that for all the range..."
   ]
  },
  {
   "cell_type": "code",
   "execution_count": 42,
   "metadata": {},
   "outputs": [
    {
     "data": {
      "text/plain": [
       "66.38858267716537"
      ]
     },
     "execution_count": 42,
     "metadata": {},
     "output_type": "execute_result"
    }
   ],
   "source": [
    "close_to_69 = heights.where('MidParent', are.between(68.5, 69.5))\n",
    "close_to_69.column('Child').mean()"
   ]
  },
  {
   "cell_type": "code",
   "execution_count": null,
   "metadata": {},
   "outputs": [],
   "source": []
  },
  {
   "cell_type": "code",
   "execution_count": null,
   "metadata": {},
   "outputs": [],
   "source": []
  },
  {
   "cell_type": "code",
   "execution_count": null,
   "metadata": {},
   "outputs": [],
   "source": []
  },
  {
   "cell_type": "code",
   "execution_count": null,
   "metadata": {},
   "outputs": [],
   "source": []
  },
  {
   "cell_type": "code",
   "execution_count": null,
   "metadata": {},
   "outputs": [],
   "source": []
  },
  {
   "cell_type": "code",
   "execution_count": null,
   "metadata": {},
   "outputs": [],
   "source": []
  },
  {
   "cell_type": "code",
   "execution_count": null,
   "metadata": {},
   "outputs": [],
   "source": []
  },
  {
   "cell_type": "code",
   "execution_count": null,
   "metadata": {},
   "outputs": [],
   "source": []
  },
  {
   "cell_type": "code",
   "execution_count": 43,
   "metadata": {},
   "outputs": [],
   "source": [
    "def predict_child(mp):\n",
    "    close_points = heights.where('MidParent', are.between(mp - 0.5, mp + 0.5))\n",
    "    return close_points.column('Child').mean()                       "
   ]
  },
  {
   "cell_type": "code",
   "execution_count": 44,
   "metadata": {},
   "outputs": [
    {
     "data": {
      "text/plain": [
       "66.24045801526718"
      ]
     },
     "execution_count": 44,
     "metadata": {},
     "output_type": "execute_result"
    }
   ],
   "source": [
    "predict_child(68)"
   ]
  },
  {
   "cell_type": "code",
   "execution_count": 45,
   "metadata": {},
   "outputs": [],
   "source": [
    "# Apply predict_child to all the midparent heights\n",
    "\n",
    "heights_with_predictions = heights.with_column(\n",
    "    'Prediction', heights.apply(predict_child, 'MidParent')\n",
    ")"
   ]
  },
  {
   "cell_type": "code",
   "execution_count": 46,
   "metadata": {},
   "outputs": [
    {
     "data": {
      "text/html": [
       "<table border=\"1\" class=\"dataframe\">\n",
       "    <thead>\n",
       "        <tr>\n",
       "            <th>MidParent</th> <th>Child</th> <th>Prediction</th>\n",
       "        </tr>\n",
       "    </thead>\n",
       "    <tbody>\n",
       "        <tr>\n",
       "            <td>75.43    </td> <td>73.2 </td> <td>70.1      </td>\n",
       "        </tr>\n",
       "        <tr>\n",
       "            <td>75.43    </td> <td>69.2 </td> <td>70.1      </td>\n",
       "        </tr>\n",
       "        <tr>\n",
       "            <td>75.43    </td> <td>69   </td> <td>70.1      </td>\n",
       "        </tr>\n",
       "        <tr>\n",
       "            <td>75.43    </td> <td>69   </td> <td>70.1      </td>\n",
       "        </tr>\n",
       "        <tr>\n",
       "            <td>73.66    </td> <td>73.5 </td> <td>70.4158   </td>\n",
       "        </tr>\n",
       "        <tr>\n",
       "            <td>73.66    </td> <td>72.5 </td> <td>70.4158   </td>\n",
       "        </tr>\n",
       "        <tr>\n",
       "            <td>73.66    </td> <td>65.5 </td> <td>70.4158   </td>\n",
       "        </tr>\n",
       "        <tr>\n",
       "            <td>73.66    </td> <td>65.5 </td> <td>70.4158   </td>\n",
       "        </tr>\n",
       "        <tr>\n",
       "            <td>72.06    </td> <td>71   </td> <td>68.5025   </td>\n",
       "        </tr>\n",
       "        <tr>\n",
       "            <td>72.06    </td> <td>68   </td> <td>68.5025   </td>\n",
       "        </tr>\n",
       "    </tbody>\n",
       "</table>\n",
       "<p>... (924 rows omitted)</p>"
      ],
      "text/plain": [
       "MidParent | Child | Prediction\n",
       "75.43     | 73.2  | 70.1\n",
       "75.43     | 69.2  | 70.1\n",
       "75.43     | 69    | 70.1\n",
       "75.43     | 69    | 70.1\n",
       "73.66     | 73.5  | 70.4158\n",
       "73.66     | 72.5  | 70.4158\n",
       "73.66     | 65.5  | 70.4158\n",
       "73.66     | 65.5  | 70.4158\n",
       "72.06     | 71    | 68.5025\n",
       "72.06     | 68    | 68.5025\n",
       "... (924 rows omitted)"
      ]
     },
     "execution_count": 46,
     "metadata": {},
     "output_type": "execute_result"
    }
   ],
   "source": [
    "heights_with_predictions"
   ]
  },
  {
   "cell_type": "code",
   "execution_count": 47,
   "metadata": {},
   "outputs": [
    {
     "data": {
      "image/png": "[encoded data removed]",
      "text/plain": [
       "<Figure size 360x360 with 1 Axes>"
      ]
     },
     "metadata": {},
     "output_type": "display_data"
    }
   ],
   "source": [
    "heights_with_predictions.scatter('MidParent')"
   ]
  },
  {
   "cell_type": "markdown",
   "metadata": {},
   "source": [
    "## Apply with two arguments"
   ]
  },
  {
   "cell_type": "code",
   "execution_count": 49,
   "metadata": {
    "scrolled": true
   },
   "outputs": [
    {
     "data": {
      "text/html": [
       "<table border=\"1\" class=\"dataframe\">\n",
       "    <thead>\n",
       "        <tr>\n",
       "            <th>family</th> <th>father</th> <th>mother</th> <th>midparentHeight</th> <th>children</th> <th>childNum</th> <th>gender</th> <th>childHeight</th>\n",
       "        </tr>\n",
       "    </thead>\n",
       "    <tbody>\n",
       "        <tr>\n",
       "            <td>1     </td> <td>78.5  </td> <td>67    </td> <td>75.43          </td> <td>4       </td> <td>1       </td> <td>male  </td> <td>73.2       </td>\n",
       "        </tr>\n",
       "        <tr>\n",
       "            <td>1     </td> <td>78.5  </td> <td>67    </td> <td>75.43          </td> <td>4       </td> <td>2       </td> <td>female</td> <td>69.2       </td>\n",
       "        </tr>\n",
       "        <tr>\n",
       "            <td>1     </td> <td>78.5  </td> <td>67    </td> <td>75.43          </td> <td>4       </td> <td>3       </td> <td>female</td> <td>69         </td>\n",
       "        </tr>\n",
       "        <tr>\n",
       "            <td>1     </td> <td>78.5  </td> <td>67    </td> <td>75.43          </td> <td>4       </td> <td>4       </td> <td>female</td> <td>69         </td>\n",
       "        </tr>\n",
       "        <tr>\n",
       "            <td>2     </td> <td>75.5  </td> <td>66.5  </td> <td>73.66          </td> <td>4       </td> <td>1       </td> <td>male  </td> <td>73.5       </td>\n",
       "        </tr>\n",
       "        <tr>\n",
       "            <td>2     </td> <td>75.5  </td> <td>66.5  </td> <td>73.66          </td> <td>4       </td> <td>2       </td> <td>male  </td> <td>72.5       </td>\n",
       "        </tr>\n",
       "        <tr>\n",
       "            <td>2     </td> <td>75.5  </td> <td>66.5  </td> <td>73.66          </td> <td>4       </td> <td>3       </td> <td>female</td> <td>65.5       </td>\n",
       "        </tr>\n",
       "        <tr>\n",
       "            <td>2     </td> <td>75.5  </td> <td>66.5  </td> <td>73.66          </td> <td>4       </td> <td>4       </td> <td>female</td> <td>65.5       </td>\n",
       "        </tr>\n",
       "        <tr>\n",
       "            <td>3     </td> <td>75    </td> <td>64    </td> <td>72.06          </td> <td>2       </td> <td>1       </td> <td>male  </td> <td>71         </td>\n",
       "        </tr>\n",
       "        <tr>\n",
       "            <td>3     </td> <td>75    </td> <td>64    </td> <td>72.06          </td> <td>2       </td> <td>2       </td> <td>female</td> <td>68         </td>\n",
       "        </tr>\n",
       "    </tbody>\n",
       "</table>\n",
       "<p>... (924 rows omitted)</p>"
      ],
      "text/plain": [
       "family | father | mother | midparentHeight | children | childNum | gender | childHeight\n",
       "1      | 78.5   | 67     | 75.43           | 4        | 1        | male   | 73.2\n",
       "1      | 78.5   | 67     | 75.43           | 4        | 2        | female | 69.2\n",
       "1      | 78.5   | 67     | 75.43           | 4        | 3        | female | 69\n",
       "1      | 78.5   | 67     | 75.43           | 4        | 4        | female | 69\n",
       "2      | 75.5   | 66.5   | 73.66           | 4        | 1        | male   | 73.5\n",
       "2      | 75.5   | 66.5   | 73.66           | 4        | 2        | male   | 72.5\n",
       "2      | 75.5   | 66.5   | 73.66           | 4        | 3        | female | 65.5\n",
       "2      | 75.5   | 66.5   | 73.66           | 4        | 4        | female | 65.5\n",
       "3      | 75     | 64     | 72.06           | 2        | 1        | male   | 71\n",
       "3      | 75     | 64     | 72.06           | 2        | 2        | female | 68\n",
       "... (924 rows omitted)"
      ]
     },
     "execution_count": 49,
     "metadata": {},
     "output_type": "execute_result"
    }
   ],
   "source": [
    "galton"
   ]
  },
  {
   "cell_type": "markdown",
   "metadata": {},
   "source": [
    "Let's create midparent by getting mean of father and mother hight"
   ]
  },
  {
   "cell_type": "code",
   "execution_count": 50,
   "metadata": {
    "scrolled": true
   },
   "outputs": [
    {
     "data": {
      "text/plain": [
       "Row(family='1', father=78.5, mother=67.0, midparentHeight=75.43, children=4, childNum=1, gender='male', childHeight=73.2)"
      ]
     },
     "execution_count": 50,
     "metadata": {},
     "output_type": "execute_result"
    }
   ],
   "source": [
    "first = galton.row(0)\n",
    "first"
   ]
  },
  {
   "cell_type": "code",
   "execution_count": 51,
   "metadata": {},
   "outputs": [
    {
     "data": {
      "text/plain": [
       "8"
      ]
     },
     "execution_count": 51,
     "metadata": {},
     "output_type": "execute_result"
    }
   ],
   "source": [
    "len(first)"
   ]
  },
  {
   "cell_type": "code",
   "execution_count": 52,
   "metadata": {},
   "outputs": [
    {
     "data": {
      "text/plain": [
       "67.0"
      ]
     },
     "execution_count": 52,
     "metadata": {},
     "output_type": "execute_result"
    }
   ],
   "source": [
    "first.item(2)"
   ]
  },
  {
   "cell_type": "code",
   "execution_count": 53,
   "metadata": {},
   "outputs": [
    {
     "data": {
      "text/plain": [
       "67.0"
      ]
     },
     "execution_count": 53,
     "metadata": {},
     "output_type": "execute_result"
    }
   ],
   "source": [
    "first.item('mother')"
   ]
  },
  {
   "cell_type": "code",
   "execution_count": 55,
   "metadata": {},
   "outputs": [
    {
     "data": {
      "text/plain": [
       "75.43"
      ]
     },
     "execution_count": 55,
     "metadata": {},
     "output_type": "execute_result"
    }
   ],
   "source": [
    "father = first.item('father')\n",
    "mother = first.item('mother')\n",
    "(father + 1.08 * mother) / 2"
   ]
  },
  {
   "cell_type": "code",
   "execution_count": 56,
   "metadata": {},
   "outputs": [],
   "source": [
    "def mid_parent(father, mother):\n",
    "    return (father + 1.08 * mother) / 2"
   ]
  },
  {
   "cell_type": "code",
   "execution_count": 57,
   "metadata": {},
   "outputs": [
    {
     "data": {
      "text/plain": [
       "75.89"
      ]
     },
     "execution_count": 57,
     "metadata": {},
     "output_type": "execute_result"
    }
   ],
   "source": [
    "mid_parent(first.item('mother'), first.item('father'))"
   ]
  },
  {
   "cell_type": "code",
   "execution_count": 58,
   "metadata": {},
   "outputs": [
    {
     "data": {
      "text/plain": [
       "75.89"
      ]
     },
     "execution_count": 58,
     "metadata": {},
     "output_type": "execute_result"
    }
   ],
   "source": [
    "mid_parent(galton.row(1).item('mother'), galton.row(1).item('father'))"
   ]
  },
  {
   "cell_type": "code",
   "execution_count": 59,
   "metadata": {},
   "outputs": [
    {
     "data": {
      "text/plain": [
       "75.89"
      ]
     },
     "execution_count": 59,
     "metadata": {},
     "output_type": "execute_result"
    }
   ],
   "source": [
    "mid_parent(galton.row(3).item('mother'), galton.row(3).item('father'))"
   ]
  },
  {
   "cell_type": "code",
   "execution_count": 60,
   "metadata": {
    "scrolled": true
   },
   "outputs": [
    {
     "data": {
      "text/plain": [
       "array([75.43, 75.43, 75.43, 75.43, 73.66, 73.66, 73.66, 73.66, 72.06,\n",
       "       72.06])"
      ]
     },
     "execution_count": 60,
     "metadata": {},
     "output_type": "execute_result"
    }
   ],
   "source": [
    "galton.take(np.arange(10)).apply(mid_parent, 'father', 'mother')"
   ]
  },
  {
   "cell_type": "code",
   "execution_count": 61,
   "metadata": {},
   "outputs": [
    {
     "data": {
      "text/html": [
       "<table border=\"1\" class=\"dataframe\">\n",
       "    <thead>\n",
       "        <tr>\n",
       "            <th>MidParent</th> <th>Child</th> <th>Prediction</th>\n",
       "        </tr>\n",
       "    </thead>\n",
       "    <tbody>\n",
       "        <tr>\n",
       "            <td>75.43    </td> <td>73.2 </td> <td>70.1      </td>\n",
       "        </tr>\n",
       "        <tr>\n",
       "            <td>75.43    </td> <td>69.2 </td> <td>70.1      </td>\n",
       "        </tr>\n",
       "        <tr>\n",
       "            <td>75.43    </td> <td>69   </td> <td>70.1      </td>\n",
       "        </tr>\n",
       "        <tr>\n",
       "            <td>75.43    </td> <td>69   </td> <td>70.1      </td>\n",
       "        </tr>\n",
       "        <tr>\n",
       "            <td>73.66    </td> <td>73.5 </td> <td>70.4158   </td>\n",
       "        </tr>\n",
       "        <tr>\n",
       "            <td>73.66    </td> <td>72.5 </td> <td>70.4158   </td>\n",
       "        </tr>\n",
       "        <tr>\n",
       "            <td>73.66    </td> <td>65.5 </td> <td>70.4158   </td>\n",
       "        </tr>\n",
       "        <tr>\n",
       "            <td>73.66    </td> <td>65.5 </td> <td>70.4158   </td>\n",
       "        </tr>\n",
       "        <tr>\n",
       "            <td>72.06    </td> <td>71   </td> <td>68.5025   </td>\n",
       "        </tr>\n",
       "        <tr>\n",
       "            <td>72.06    </td> <td>68   </td> <td>68.5025   </td>\n",
       "        </tr>\n",
       "    </tbody>\n",
       "</table>\n",
       "<p>... (924 rows omitted)</p>"
      ],
      "text/plain": [
       "MidParent | Child | Prediction\n",
       "75.43     | 73.2  | 70.1\n",
       "75.43     | 69.2  | 70.1\n",
       "75.43     | 69    | 70.1\n",
       "75.43     | 69    | 70.1\n",
       "73.66     | 73.5  | 70.4158\n",
       "73.66     | 72.5  | 70.4158\n",
       "73.66     | 65.5  | 70.4158\n",
       "73.66     | 65.5  | 70.4158\n",
       "72.06     | 71    | 68.5025\n",
       "72.06     | 68    | 68.5025\n",
       "... (924 rows omitted)"
      ]
     },
     "execution_count": 61,
     "metadata": {},
     "output_type": "execute_result"
    }
   ],
   "source": [
    "heights_with_predictions"
   ]
  },
  {
   "cell_type": "code",
   "execution_count": 62,
   "metadata": {},
   "outputs": [],
   "source": [
    "def mid_parent_from_row(row):\n",
    "    return (row.item('father') + 1.08 * row.item('mother')) / 2"
   ]
  },
  {
   "cell_type": "code",
   "execution_count": 63,
   "metadata": {},
   "outputs": [
    {
     "data": {
      "text/plain": [
       "array([75.43, 75.43, 75.43, 75.43, 73.66, 73.66, 73.66, 73.66, 72.06,\n",
       "       72.06])"
      ]
     },
     "execution_count": 63,
     "metadata": {},
     "output_type": "execute_result"
    }
   ],
   "source": [
    "galton.take(np.arange(10)).apply(mid_parent_from_row)"
   ]
  },
  {
   "cell_type": "markdown",
   "metadata": {
    "collapsed": true
   },
   "source": [
    "## Group"
   ]
  },
  {
   "cell_type": "code",
   "execution_count": 64,
   "metadata": {},
   "outputs": [
    {
     "data": {
      "text/html": [
       "<table border=\"1\" class=\"dataframe\">\n",
       "    <thead>\n",
       "        <tr>\n",
       "            <th>Flavor</th> <th>Price</th>\n",
       "        </tr>\n",
       "    </thead>\n",
       "    <tbody>\n",
       "        <tr>\n",
       "            <td>strawberry</td> <td>3.55 </td>\n",
       "        </tr>\n",
       "        <tr>\n",
       "            <td>chocolate </td> <td>4.75 </td>\n",
       "        </tr>\n",
       "        <tr>\n",
       "            <td>chocolate </td> <td>5.25 </td>\n",
       "        </tr>\n",
       "        <tr>\n",
       "            <td>strawberry</td> <td>5.25 </td>\n",
       "        </tr>\n",
       "        <tr>\n",
       "            <td>chocolate </td> <td>5.25 </td>\n",
       "        </tr>\n",
       "    </tbody>\n",
       "</table>"
      ],
      "text/plain": [
       "Flavor     | Price\n",
       "strawberry | 3.55\n",
       "chocolate  | 4.75\n",
       "chocolate  | 5.25\n",
       "strawberry | 5.25\n",
       "chocolate  | 5.25"
      ]
     },
     "execution_count": 64,
     "metadata": {},
     "output_type": "execute_result"
    }
   ],
   "source": [
    "all_cones = Table.read_table('cones.csv')\n",
    "cones = all_cones.drop('Color').exclude(5)\n",
    "cones"
   ]
  },
  {
   "cell_type": "code",
   "execution_count": 65,
   "metadata": {},
   "outputs": [
    {
     "data": {
      "text/html": [
       "<table border=\"1\" class=\"dataframe\">\n",
       "    <thead>\n",
       "        <tr>\n",
       "            <th>Flavor</th> <th>count</th>\n",
       "        </tr>\n",
       "    </thead>\n",
       "    <tbody>\n",
       "        <tr>\n",
       "            <td>chocolate </td> <td>3    </td>\n",
       "        </tr>\n",
       "        <tr>\n",
       "            <td>strawberry</td> <td>2    </td>\n",
       "        </tr>\n",
       "    </tbody>\n",
       "</table>"
      ],
      "text/plain": [
       "Flavor     | count\n",
       "chocolate  | 3\n",
       "strawberry | 2"
      ]
     },
     "execution_count": 65,
     "metadata": {},
     "output_type": "execute_result"
    }
   ],
   "source": [
    "cones.group('Flavor')"
   ]
  },
  {
   "cell_type": "code",
   "execution_count": 66,
   "metadata": {},
   "outputs": [
    {
     "data": {
      "text/html": [
       "<table border=\"1\" class=\"dataframe\">\n",
       "    <thead>\n",
       "        <tr>\n",
       "            <th>Flavor</th> <th>Price sum</th>\n",
       "        </tr>\n",
       "    </thead>\n",
       "    <tbody>\n",
       "        <tr>\n",
       "            <td>chocolate </td> <td>15.25    </td>\n",
       "        </tr>\n",
       "        <tr>\n",
       "            <td>strawberry</td> <td>8.8      </td>\n",
       "        </tr>\n",
       "    </tbody>\n",
       "</table>"
      ],
      "text/plain": [
       "Flavor     | Price sum\n",
       "chocolate  | 15.25\n",
       "strawberry | 8.8"
      ]
     },
     "execution_count": 66,
     "metadata": {},
     "output_type": "execute_result"
    }
   ],
   "source": [
    "cones.group('Flavor', sum)"
   ]
  },
  {
   "cell_type": "code",
   "execution_count": 67,
   "metadata": {},
   "outputs": [
    {
     "data": {
      "text/plain": [
       "array([4.75, 5.25, 5.25])"
      ]
     },
     "execution_count": 67,
     "metadata": {},
     "output_type": "execute_result"
    }
   ],
   "source": [
    "cones.where('Flavor', are.equal_to('chocolate')).column('Price')"
   ]
  },
  {
   "cell_type": "code",
   "execution_count": 68,
   "metadata": {},
   "outputs": [
    {
     "data": {
      "text/plain": [
       "15.25"
      ]
     },
     "execution_count": 68,
     "metadata": {},
     "output_type": "execute_result"
    }
   ],
   "source": [
    "sum(cones.where('Flavor', are.equal_to('chocolate')).column('Price'))"
   ]
  },
  {
   "cell_type": "code",
   "execution_count": 69,
   "metadata": {},
   "outputs": [
    {
     "data": {
      "text/plain": [
       "8.8"
      ]
     },
     "execution_count": 69,
     "metadata": {},
     "output_type": "execute_result"
    }
   ],
   "source": [
    "sum(cones.where('Flavor', are.equal_to('strawberry')).column('Price'))"
   ]
  },
  {
   "cell_type": "code",
   "execution_count": 70,
   "metadata": {},
   "outputs": [
    {
     "data": {
      "text/html": [
       "<table border=\"1\" class=\"dataframe\">\n",
       "    <thead>\n",
       "        <tr>\n",
       "            <th>Flavor</th> <th>Price max</th>\n",
       "        </tr>\n",
       "    </thead>\n",
       "    <tbody>\n",
       "        <tr>\n",
       "            <td>chocolate </td> <td>5.25     </td>\n",
       "        </tr>\n",
       "        <tr>\n",
       "            <td>strawberry</td> <td>5.25     </td>\n",
       "        </tr>\n",
       "    </tbody>\n",
       "</table>"
      ],
      "text/plain": [
       "Flavor     | Price max\n",
       "chocolate  | 5.25\n",
       "strawberry | 5.25"
      ]
     },
     "execution_count": 70,
     "metadata": {},
     "output_type": "execute_result"
    }
   ],
   "source": [
    "# what is the output of this line?\n",
    "cones.group('Flavor', max)"
   ]
  },
  {
   "cell_type": "code",
   "execution_count": 71,
   "metadata": {},
   "outputs": [
    {
     "data": {
      "text/html": [
       "<table border=\"1\" class=\"dataframe\">\n",
       "    <thead>\n",
       "        <tr>\n",
       "            <th>Flavor</th> <th>Price mean</th>\n",
       "        </tr>\n",
       "    </thead>\n",
       "    <tbody>\n",
       "        <tr>\n",
       "            <td>chocolate </td> <td>5.08333   </td>\n",
       "        </tr>\n",
       "        <tr>\n",
       "            <td>strawberry</td> <td>4.4       </td>\n",
       "        </tr>\n",
       "    </tbody>\n",
       "</table>"
      ],
      "text/plain": [
       "Flavor     | Price mean\n",
       "chocolate  | 5.08333\n",
       "strawberry | 4.4"
      ]
     },
     "execution_count": 71,
     "metadata": {},
     "output_type": "execute_result"
    }
   ],
   "source": [
    "cones.group('Flavor', np.mean)"
   ]
  },
  {
   "cell_type": "code",
   "execution_count": 72,
   "metadata": {},
   "outputs": [
    {
     "data": {
      "text/html": [
       "<table border=\"1\" class=\"dataframe\">\n",
       "    <thead>\n",
       "        <tr>\n",
       "            <th>Flavor</th> <th>Price list</th>\n",
       "        </tr>\n",
       "    </thead>\n",
       "    <tbody>\n",
       "        <tr>\n",
       "            <td>chocolate </td> <td>[4.75, 5.25, 5.25]</td>\n",
       "        </tr>\n",
       "        <tr>\n",
       "            <td>strawberry</td> <td>[3.55, 5.25]      </td>\n",
       "        </tr>\n",
       "    </tbody>\n",
       "</table>"
      ],
      "text/plain": [
       "Flavor     | Price list\n",
       "chocolate  | [4.75, 5.25, 5.25]\n",
       "strawberry | [3.55, 5.25]"
      ]
     },
     "execution_count": 72,
     "metadata": {},
     "output_type": "execute_result"
    }
   ],
   "source": [
    "cones.group('Flavor', list)"
   ]
  },
  {
   "cell_type": "markdown",
   "metadata": {},
   "source": [
    "With real data"
   ]
  },
  {
   "cell_type": "code",
   "execution_count": 73,
   "metadata": {},
   "outputs": [
    {
     "data": {
      "text/html": [
       "<table border=\"1\" class=\"dataframe\">\n",
       "    <thead>\n",
       "        <tr>\n",
       "            <th>PLAYER</th> <th>POSITION</th> <th>TEAM</th> <th>SALARY</th>\n",
       "        </tr>\n",
       "    </thead>\n",
       "    <tbody>\n",
       "        <tr>\n",
       "            <td>Paul Millsap    </td> <td>PF      </td> <td>Atlanta Hawks</td> <td>18.6717</td>\n",
       "        </tr>\n",
       "        <tr>\n",
       "            <td>Al Horford      </td> <td>C       </td> <td>Atlanta Hawks</td> <td>12     </td>\n",
       "        </tr>\n",
       "        <tr>\n",
       "            <td>Tiago Splitter  </td> <td>C       </td> <td>Atlanta Hawks</td> <td>9.75625</td>\n",
       "        </tr>\n",
       "        <tr>\n",
       "            <td>Jeff Teague     </td> <td>PG      </td> <td>Atlanta Hawks</td> <td>8      </td>\n",
       "        </tr>\n",
       "        <tr>\n",
       "            <td>Kyle Korver     </td> <td>SG      </td> <td>Atlanta Hawks</td> <td>5.74648</td>\n",
       "        </tr>\n",
       "        <tr>\n",
       "            <td>Thabo Sefolosha </td> <td>SF      </td> <td>Atlanta Hawks</td> <td>4      </td>\n",
       "        </tr>\n",
       "        <tr>\n",
       "            <td>Mike Scott      </td> <td>PF      </td> <td>Atlanta Hawks</td> <td>3.33333</td>\n",
       "        </tr>\n",
       "        <tr>\n",
       "            <td>Kent Bazemore   </td> <td>SF      </td> <td>Atlanta Hawks</td> <td>2      </td>\n",
       "        </tr>\n",
       "        <tr>\n",
       "            <td>Dennis Schroder </td> <td>PG      </td> <td>Atlanta Hawks</td> <td>1.7634 </td>\n",
       "        </tr>\n",
       "        <tr>\n",
       "            <td>Tim Hardaway Jr.</td> <td>SG      </td> <td>Atlanta Hawks</td> <td>1.30452</td>\n",
       "        </tr>\n",
       "    </tbody>\n",
       "</table>\n",
       "<p>... (407 rows omitted)</p>"
      ],
      "text/plain": [
       "PLAYER           | POSITION | TEAM          | SALARY\n",
       "Paul Millsap     | PF       | Atlanta Hawks | 18.6717\n",
       "Al Horford       | C        | Atlanta Hawks | 12\n",
       "Tiago Splitter   | C        | Atlanta Hawks | 9.75625\n",
       "Jeff Teague      | PG       | Atlanta Hawks | 8\n",
       "Kyle Korver      | SG       | Atlanta Hawks | 5.74648\n",
       "Thabo Sefolosha  | SF       | Atlanta Hawks | 4\n",
       "Mike Scott       | PF       | Atlanta Hawks | 3.33333\n",
       "Kent Bazemore    | SF       | Atlanta Hawks | 2\n",
       "Dennis Schroder  | PG       | Atlanta Hawks | 1.7634\n",
       "Tim Hardaway Jr. | SG       | Atlanta Hawks | 1.30452\n",
       "... (407 rows omitted)"
      ]
     },
     "execution_count": 73,
     "metadata": {},
     "output_type": "execute_result"
    }
   ],
   "source": [
    "nba = Table.read_table('nba_salaries.csv').relabeled(3, 'SALARY')\n",
    "nba"
   ]
  },
  {
   "cell_type": "markdown",
   "metadata": {},
   "source": [
    "Let's see Which team spend the most on their players"
   ]
  },
  {
   "cell_type": "code",
   "execution_count": 74,
   "metadata": {},
   "outputs": [
    {
     "data": {
      "text/html": [
       "<table border=\"1\" class=\"dataframe\">\n",
       "    <thead>\n",
       "        <tr>\n",
       "            <th>TEAM</th> <th>PLAYER sum</th> <th>POSITION sum</th> <th>SALARY sum</th>\n",
       "        </tr>\n",
       "    </thead>\n",
       "    <tbody>\n",
       "        <tr>\n",
       "            <td>Atlanta Hawks        </td> <td>          </td> <td>            </td> <td>69.5731   </td>\n",
       "        </tr>\n",
       "        <tr>\n",
       "            <td>Boston Celtics       </td> <td>          </td> <td>            </td> <td>50.2855   </td>\n",
       "        </tr>\n",
       "        <tr>\n",
       "            <td>Brooklyn Nets        </td> <td>          </td> <td>            </td> <td>57.307    </td>\n",
       "        </tr>\n",
       "        <tr>\n",
       "            <td>Charlotte Hornets    </td> <td>          </td> <td>            </td> <td>84.1024   </td>\n",
       "        </tr>\n",
       "        <tr>\n",
       "            <td>Chicago Bulls        </td> <td>          </td> <td>            </td> <td>78.8209   </td>\n",
       "        </tr>\n",
       "        <tr>\n",
       "            <td>Cleveland Cavaliers  </td> <td>          </td> <td>            </td> <td>102.312   </td>\n",
       "        </tr>\n",
       "        <tr>\n",
       "            <td>Dallas Mavericks     </td> <td>          </td> <td>            </td> <td>65.7626   </td>\n",
       "        </tr>\n",
       "        <tr>\n",
       "            <td>Denver Nuggets       </td> <td>          </td> <td>            </td> <td>62.4294   </td>\n",
       "        </tr>\n",
       "        <tr>\n",
       "            <td>Detroit Pistons      </td> <td>          </td> <td>            </td> <td>42.2118   </td>\n",
       "        </tr>\n",
       "        <tr>\n",
       "            <td>Golden State Warriors</td> <td>          </td> <td>            </td> <td>94.0851   </td>\n",
       "        </tr>\n",
       "    </tbody>\n",
       "</table>\n",
       "<p>... (20 rows omitted)</p>"
      ],
      "text/plain": [
       "TEAM                  | PLAYER sum | POSITION sum | SALARY sum\n",
       "Atlanta Hawks         |            |              | 69.5731\n",
       "Boston Celtics        |            |              | 50.2855\n",
       "Brooklyn Nets         |            |              | 57.307\n",
       "Charlotte Hornets     |            |              | 84.1024\n",
       "Chicago Bulls         |            |              | 78.8209\n",
       "Cleveland Cavaliers   |            |              | 102.312\n",
       "Dallas Mavericks      |            |              | 65.7626\n",
       "Denver Nuggets        |            |              | 62.4294\n",
       "Detroit Pistons       |            |              | 42.2118\n",
       "Golden State Warriors |            |              | 94.0851\n",
       "... (20 rows omitted)"
      ]
     },
     "execution_count": 74,
     "metadata": {},
     "output_type": "execute_result"
    }
   ],
   "source": [
    "nba.group('TEAM', sum)"
   ]
  },
  {
   "cell_type": "code",
   "execution_count": 76,
   "metadata": {
    "scrolled": false
   },
   "outputs": [
    {
     "data": {
      "image/png": "[encoded data removed]",
      "text/plain": [
       "<Figure size 432x360 with 1 Axes>"
      ]
     },
     "metadata": {},
     "output_type": "display_data"
    }
   ],
   "source": [
    "teams_and_money = (nba.select('TEAM', 'SALARY')\n",
    "                   .group('TEAM', sum)\n",
    "                   .sort(1, descending=True)\n",
    "                   .take(np.arange(10))\n",
    "                   .barh('TEAM'))"
   ]
  },
  {
   "cell_type": "markdown",
   "metadata": {},
   "source": []
  },
  {
   "cell_type": "code",
   "execution_count": 77,
   "metadata": {},
   "outputs": [
    {
     "data": {
      "text/html": [
       "<table border=\"1\" class=\"dataframe\">\n",
       "    <thead>\n",
       "        <tr>\n",
       "            <th>POSITION</th> <th>count</th>\n",
       "        </tr>\n",
       "    </thead>\n",
       "    <tbody>\n",
       "        <tr>\n",
       "            <td>C       </td> <td>69   </td>\n",
       "        </tr>\n",
       "        <tr>\n",
       "            <td>PF      </td> <td>85   </td>\n",
       "        </tr>\n",
       "        <tr>\n",
       "            <td>PG      </td> <td>85   </td>\n",
       "        </tr>\n",
       "        <tr>\n",
       "            <td>SF      </td> <td>82   </td>\n",
       "        </tr>\n",
       "        <tr>\n",
       "            <td>SG      </td> <td>96   </td>\n",
       "        </tr>\n",
       "    </tbody>\n",
       "</table>"
      ],
      "text/plain": [
       "POSITION | count\n",
       "C        | 69\n",
       "PF       | 85\n",
       "PG       | 85\n",
       "SF       | 82\n",
       "SG       | 96"
      ]
     },
     "execution_count": 77,
     "metadata": {},
     "output_type": "execute_result"
    }
   ],
   "source": [
    "nba.group('POSITION')"
   ]
  },
  {
   "cell_type": "markdown",
   "metadata": {},
   "source": [
    "## Group by multiple columns"
   ]
  },
  {
   "cell_type": "code",
   "execution_count": 78,
   "metadata": {},
   "outputs": [
    {
     "data": {
      "text/html": [
       "<table border=\"1\" class=\"dataframe\">\n",
       "    <thead>\n",
       "        <tr>\n",
       "            <th>Flavor</th> <th>Color</th> <th>Price</th>\n",
       "        </tr>\n",
       "    </thead>\n",
       "    <tbody>\n",
       "        <tr>\n",
       "            <td>strawberry</td> <td>pink       </td> <td>3.55 </td>\n",
       "        </tr>\n",
       "        <tr>\n",
       "            <td>chocolate </td> <td>light brown</td> <td>4.75 </td>\n",
       "        </tr>\n",
       "        <tr>\n",
       "            <td>chocolate </td> <td>dark brown </td> <td>5.25 </td>\n",
       "        </tr>\n",
       "        <tr>\n",
       "            <td>strawberry</td> <td>pink       </td> <td>5.25 </td>\n",
       "        </tr>\n",
       "        <tr>\n",
       "            <td>chocolate </td> <td>dark brown </td> <td>5.25 </td>\n",
       "        </tr>\n",
       "        <tr>\n",
       "            <td>bubblegum </td> <td>pink       </td> <td>4.75 </td>\n",
       "        </tr>\n",
       "    </tbody>\n",
       "</table>"
      ],
      "text/plain": [
       "Flavor     | Color       | Price\n",
       "strawberry | pink        | 3.55\n",
       "chocolate  | light brown | 4.75\n",
       "chocolate  | dark brown  | 5.25\n",
       "strawberry | pink        | 5.25\n",
       "chocolate  | dark brown  | 5.25\n",
       "bubblegum  | pink        | 4.75"
      ]
     },
     "execution_count": 78,
     "metadata": {},
     "output_type": "execute_result"
    }
   ],
   "source": [
    "all_cones"
   ]
  },
  {
   "cell_type": "code",
   "execution_count": 79,
   "metadata": {},
   "outputs": [
    {
     "data": {
      "text/html": [
       "<table border=\"1\" class=\"dataframe\">\n",
       "    <thead>\n",
       "        <tr>\n",
       "            <th>Flavor</th> <th>count</th>\n",
       "        </tr>\n",
       "    </thead>\n",
       "    <tbody>\n",
       "        <tr>\n",
       "            <td>bubblegum </td> <td>1    </td>\n",
       "        </tr>\n",
       "        <tr>\n",
       "            <td>chocolate </td> <td>3    </td>\n",
       "        </tr>\n",
       "        <tr>\n",
       "            <td>strawberry</td> <td>2    </td>\n",
       "        </tr>\n",
       "    </tbody>\n",
       "</table>"
      ],
      "text/plain": [
       "Flavor     | count\n",
       "bubblegum  | 1\n",
       "chocolate  | 3\n",
       "strawberry | 2"
      ]
     },
     "execution_count": 79,
     "metadata": {},
     "output_type": "execute_result"
    }
   ],
   "source": [
    "all_cones.group('Flavor')"
   ]
  },
  {
   "cell_type": "code",
   "execution_count": 80,
   "metadata": {},
   "outputs": [
    {
     "data": {
      "text/html": [
       "<table border=\"1\" class=\"dataframe\">\n",
       "    <thead>\n",
       "        <tr>\n",
       "            <th>Flavor</th> <th>Color</th> <th>count</th>\n",
       "        </tr>\n",
       "    </thead>\n",
       "    <tbody>\n",
       "        <tr>\n",
       "            <td>bubblegum </td> <td>pink       </td> <td>1    </td>\n",
       "        </tr>\n",
       "        <tr>\n",
       "            <td>chocolate </td> <td>dark brown </td> <td>2    </td>\n",
       "        </tr>\n",
       "        <tr>\n",
       "            <td>chocolate </td> <td>light brown</td> <td>1    </td>\n",
       "        </tr>\n",
       "        <tr>\n",
       "            <td>strawberry</td> <td>pink       </td> <td>2    </td>\n",
       "        </tr>\n",
       "    </tbody>\n",
       "</table>"
      ],
      "text/plain": [
       "Flavor     | Color       | count\n",
       "bubblegum  | pink        | 1\n",
       "chocolate  | dark brown  | 2\n",
       "chocolate  | light brown | 1\n",
       "strawberry | pink        | 2"
      ]
     },
     "execution_count": 80,
     "metadata": {},
     "output_type": "execute_result"
    }
   ],
   "source": [
    "all_cones.group(make_array('Flavor', 'Color'))"
   ]
  },
  {
   "cell_type": "code",
   "execution_count": 81,
   "metadata": {},
   "outputs": [
    {
     "data": {
      "text/html": [
       "<table border=\"1\" class=\"dataframe\">\n",
       "    <thead>\n",
       "        <tr>\n",
       "            <th>Flavor</th> <th>Color</th> <th>Price sum</th>\n",
       "        </tr>\n",
       "    </thead>\n",
       "    <tbody>\n",
       "        <tr>\n",
       "            <td>bubblegum </td> <td>pink       </td> <td>4.75     </td>\n",
       "        </tr>\n",
       "        <tr>\n",
       "            <td>chocolate </td> <td>dark brown </td> <td>10.5     </td>\n",
       "        </tr>\n",
       "        <tr>\n",
       "            <td>chocolate </td> <td>light brown</td> <td>4.75     </td>\n",
       "        </tr>\n",
       "        <tr>\n",
       "            <td>strawberry</td> <td>pink       </td> <td>8.8      </td>\n",
       "        </tr>\n",
       "    </tbody>\n",
       "</table>"
      ],
      "text/plain": [
       "Flavor     | Color       | Price sum\n",
       "bubblegum  | pink        | 4.75\n",
       "chocolate  | dark brown  | 10.5\n",
       "chocolate  | light brown | 4.75\n",
       "strawberry | pink        | 8.8"
      ]
     },
     "execution_count": 81,
     "metadata": {},
     "output_type": "execute_result"
    }
   ],
   "source": [
    "all_cones.group(make_array('Flavor', 'Color'), sum)"
   ]
  },
  {
   "cell_type": "code",
   "execution_count": 82,
   "metadata": {},
   "outputs": [
    {
     "data": {
      "text/html": [
       "<table border=\"1\" class=\"dataframe\">\n",
       "    <thead>\n",
       "        <tr>\n",
       "            <th>Flavor</th> <th>Color</th> <th>Price sum</th>\n",
       "        </tr>\n",
       "    </thead>\n",
       "    <tbody>\n",
       "        <tr>\n",
       "            <td>bubblegum </td> <td>pink       </td> <td>4.75     </td>\n",
       "        </tr>\n",
       "        <tr>\n",
       "            <td>chocolate </td> <td>dark brown </td> <td>10.5     </td>\n",
       "        </tr>\n",
       "        <tr>\n",
       "            <td>chocolate </td> <td>light brown</td> <td>4.75     </td>\n",
       "        </tr>\n",
       "        <tr>\n",
       "            <td>strawberry</td> <td>pink       </td> <td>8.8      </td>\n",
       "        </tr>\n",
       "    </tbody>\n",
       "</table>"
      ],
      "text/plain": [
       "Flavor     | Color       | Price sum\n",
       "bubblegum  | pink        | 4.75\n",
       "chocolate  | dark brown  | 10.5\n",
       "chocolate  | light brown | 4.75\n",
       "strawberry | pink        | 8.8"
      ]
     },
     "execution_count": 82,
     "metadata": {},
     "output_type": "execute_result"
    }
   ],
   "source": [
    "all_cones.group(['Flavor', 'Color'], sum)"
   ]
  },
  {
   "cell_type": "markdown",
   "metadata": {},
   "source": [
    "Discussion question: Use English statements instead of code since this is a hard one."
   ]
  },
  {
   "cell_type": "code",
   "execution_count": 83,
   "metadata": {
    "scrolled": true
   },
   "outputs": [
    {
     "data": {
      "text/html": [
       "<table border=\"1\" class=\"dataframe\">\n",
       "    <thead>\n",
       "        <tr>\n",
       "            <th>PLAYER</th> <th>POSITION</th> <th>TEAM</th> <th>SALARY</th>\n",
       "        </tr>\n",
       "    </thead>\n",
       "    <tbody>\n",
       "        <tr>\n",
       "            <td>Paul Millsap    </td> <td>PF      </td> <td>Atlanta Hawks</td> <td>18.6717</td>\n",
       "        </tr>\n",
       "        <tr>\n",
       "            <td>Al Horford      </td> <td>C       </td> <td>Atlanta Hawks</td> <td>12     </td>\n",
       "        </tr>\n",
       "        <tr>\n",
       "            <td>Tiago Splitter  </td> <td>C       </td> <td>Atlanta Hawks</td> <td>9.75625</td>\n",
       "        </tr>\n",
       "        <tr>\n",
       "            <td>Jeff Teague     </td> <td>PG      </td> <td>Atlanta Hawks</td> <td>8      </td>\n",
       "        </tr>\n",
       "        <tr>\n",
       "            <td>Kyle Korver     </td> <td>SG      </td> <td>Atlanta Hawks</td> <td>5.74648</td>\n",
       "        </tr>\n",
       "        <tr>\n",
       "            <td>Thabo Sefolosha </td> <td>SF      </td> <td>Atlanta Hawks</td> <td>4      </td>\n",
       "        </tr>\n",
       "        <tr>\n",
       "            <td>Mike Scott      </td> <td>PF      </td> <td>Atlanta Hawks</td> <td>3.33333</td>\n",
       "        </tr>\n",
       "        <tr>\n",
       "            <td>Kent Bazemore   </td> <td>SF      </td> <td>Atlanta Hawks</td> <td>2      </td>\n",
       "        </tr>\n",
       "        <tr>\n",
       "            <td>Dennis Schroder </td> <td>PG      </td> <td>Atlanta Hawks</td> <td>1.7634 </td>\n",
       "        </tr>\n",
       "        <tr>\n",
       "            <td>Tim Hardaway Jr.</td> <td>SG      </td> <td>Atlanta Hawks</td> <td>1.30452</td>\n",
       "        </tr>\n",
       "    </tbody>\n",
       "</table>\n",
       "<p>... (407 rows omitted)</p>"
      ],
      "text/plain": [
       "PLAYER           | POSITION | TEAM          | SALARY\n",
       "Paul Millsap     | PF       | Atlanta Hawks | 18.6717\n",
       "Al Horford       | C        | Atlanta Hawks | 12\n",
       "Tiago Splitter   | C        | Atlanta Hawks | 9.75625\n",
       "Jeff Teague      | PG       | Atlanta Hawks | 8\n",
       "Kyle Korver      | SG       | Atlanta Hawks | 5.74648\n",
       "Thabo Sefolosha  | SF       | Atlanta Hawks | 4\n",
       "Mike Scott       | PF       | Atlanta Hawks | 3.33333\n",
       "Kent Bazemore    | SF       | Atlanta Hawks | 2\n",
       "Dennis Schroder  | PG       | Atlanta Hawks | 1.7634\n",
       "Tim Hardaway Jr. | SG       | Atlanta Hawks | 1.30452\n",
       "... (407 rows omitted)"
      ]
     },
     "execution_count": 83,
     "metadata": {},
     "output_type": "execute_result"
    }
   ],
   "source": [
    "nba"
   ]
  },
  {
   "cell_type": "markdown",
   "metadata": {},
   "source": [
    "Let's find the most expensive player in each team for each position"
   ]
  },
  {
   "cell_type": "code",
   "execution_count": 84,
   "metadata": {},
   "outputs": [
    {
     "data": {
      "text/html": [
       "<table border=\"1\" class=\"dataframe\">\n",
       "    <thead>\n",
       "        <tr>\n",
       "            <th>TEAM</th> <th>POSITION</th> <th>PLAYER max</th> <th>SALARY max</th>\n",
       "        </tr>\n",
       "    </thead>\n",
       "    <tbody>\n",
       "        <tr>\n",
       "            <td>Atlanta Hawks </td> <td>C       </td> <td>Walter Tavares  </td> <td>12        </td>\n",
       "        </tr>\n",
       "        <tr>\n",
       "            <td>Atlanta Hawks </td> <td>PF      </td> <td>Paul Millsap    </td> <td>18.6717   </td>\n",
       "        </tr>\n",
       "        <tr>\n",
       "            <td>Atlanta Hawks </td> <td>PG      </td> <td>Jeff Teague     </td> <td>8         </td>\n",
       "        </tr>\n",
       "        <tr>\n",
       "            <td>Atlanta Hawks </td> <td>SF      </td> <td>Thabo Sefolosha </td> <td>4         </td>\n",
       "        </tr>\n",
       "        <tr>\n",
       "            <td>Atlanta Hawks </td> <td>SG      </td> <td>Tim Hardaway Jr.</td> <td>5.74648   </td>\n",
       "        </tr>\n",
       "        <tr>\n",
       "            <td>Boston Celtics</td> <td>C       </td> <td>Tyler Zeller    </td> <td>2.61698   </td>\n",
       "        </tr>\n",
       "        <tr>\n",
       "            <td>Boston Celtics</td> <td>PF      </td> <td>Jordan Mickey   </td> <td>5         </td>\n",
       "        </tr>\n",
       "        <tr>\n",
       "            <td>Boston Celtics</td> <td>PG      </td> <td>Terry Rozier    </td> <td>7.73034   </td>\n",
       "        </tr>\n",
       "        <tr>\n",
       "            <td>Boston Celtics</td> <td>SF      </td> <td>Perry Jones     </td> <td>6.79612   </td>\n",
       "        </tr>\n",
       "        <tr>\n",
       "            <td>Boston Celtics</td> <td>SG      </td> <td>Zoran Dragic    </td> <td>3.42551   </td>\n",
       "        </tr>\n",
       "    </tbody>\n",
       "</table>\n",
       "<p>... (137 rows omitted)</p>"
      ],
      "text/plain": [
       "TEAM           | POSITION | PLAYER max       | SALARY max\n",
       "Atlanta Hawks  | C        | Walter Tavares   | 12\n",
       "Atlanta Hawks  | PF       | Paul Millsap     | 18.6717\n",
       "Atlanta Hawks  | PG       | Jeff Teague      | 8\n",
       "Atlanta Hawks  | SF       | Thabo Sefolosha  | 4\n",
       "Atlanta Hawks  | SG       | Tim Hardaway Jr. | 5.74648\n",
       "Boston Celtics | C        | Tyler Zeller     | 2.61698\n",
       "Boston Celtics | PF       | Jordan Mickey    | 5\n",
       "Boston Celtics | PG       | Terry Rozier     | 7.73034\n",
       "Boston Celtics | SF       | Perry Jones      | 6.79612\n",
       "Boston Celtics | SG       | Zoran Dragic     | 3.42551\n",
       "... (137 rows omitted)"
      ]
     },
     "execution_count": 84,
     "metadata": {},
     "output_type": "execute_result"
    }
   ],
   "source": [
    "nba.group([\"TEAM\",\"POSITION\"], max)"
   ]
  },
  {
   "cell_type": "code",
   "execution_count": null,
   "metadata": {},
   "outputs": [],
   "source": []
  },
  {
   "cell_type": "code",
   "execution_count": null,
   "metadata": {},
   "outputs": [],
   "source": []
  },
  {
   "cell_type": "code",
   "execution_count": null,
   "metadata": {},
   "outputs": [],
   "source": []
  },
  {
   "cell_type": "code",
   "execution_count": null,
   "metadata": {},
   "outputs": [],
   "source": []
  },
  {
   "cell_type": "code",
   "execution_count": null,
   "metadata": {},
   "outputs": [],
   "source": []
  },
  {
   "cell_type": "code",
   "execution_count": null,
   "metadata": {},
   "outputs": [],
   "source": []
  },
  {
   "cell_type": "code",
   "execution_count": null,
   "metadata": {},
   "outputs": [],
   "source": []
  },
  {
   "cell_type": "code",
   "execution_count": 85,
   "metadata": {
    "scrolled": true
   },
   "outputs": [
    {
     "data": {
      "text/html": [
       "<table border=\"1\" class=\"dataframe\">\n",
       "    <thead>\n",
       "        <tr>\n",
       "            <th>TEAM</th> <th>POSITION</th> <th>SALARY max</th>\n",
       "        </tr>\n",
       "    </thead>\n",
       "    <tbody>\n",
       "        <tr>\n",
       "            <td>Atlanta Hawks </td> <td>C       </td> <td>12        </td>\n",
       "        </tr>\n",
       "        <tr>\n",
       "            <td>Atlanta Hawks </td> <td>PF      </td> <td>18.6717   </td>\n",
       "        </tr>\n",
       "        <tr>\n",
       "            <td>Atlanta Hawks </td> <td>PG      </td> <td>8         </td>\n",
       "        </tr>\n",
       "        <tr>\n",
       "            <td>Atlanta Hawks </td> <td>SF      </td> <td>4         </td>\n",
       "        </tr>\n",
       "        <tr>\n",
       "            <td>Atlanta Hawks </td> <td>SG      </td> <td>5.74648   </td>\n",
       "        </tr>\n",
       "        <tr>\n",
       "            <td>Boston Celtics</td> <td>C       </td> <td>2.61698   </td>\n",
       "        </tr>\n",
       "        <tr>\n",
       "            <td>Boston Celtics</td> <td>PF      </td> <td>5         </td>\n",
       "        </tr>\n",
       "        <tr>\n",
       "            <td>Boston Celtics</td> <td>PG      </td> <td>7.73034   </td>\n",
       "        </tr>\n",
       "        <tr>\n",
       "            <td>Boston Celtics</td> <td>SF      </td> <td>6.79612   </td>\n",
       "        </tr>\n",
       "        <tr>\n",
       "            <td>Boston Celtics</td> <td>SG      </td> <td>3.42551   </td>\n",
       "        </tr>\n",
       "    </tbody>\n",
       "</table>\n",
       "<p>... (137 rows omitted)</p>"
      ],
      "text/plain": [
       "TEAM           | POSITION | SALARY max\n",
       "Atlanta Hawks  | C        | 12\n",
       "Atlanta Hawks  | PF       | 18.6717\n",
       "Atlanta Hawks  | PG       | 8\n",
       "Atlanta Hawks  | SF       | 4\n",
       "Atlanta Hawks  | SG       | 5.74648\n",
       "Boston Celtics | C        | 2.61698\n",
       "Boston Celtics | PF       | 5\n",
       "Boston Celtics | PG       | 7.73034\n",
       "Boston Celtics | SF       | 6.79612\n",
       "Boston Celtics | SG       | 3.42551\n",
       "... (137 rows omitted)"
      ]
     },
     "execution_count": 85,
     "metadata": {},
     "output_type": "execute_result"
    }
   ],
   "source": [
    "starters = nba.drop('PLAYER').group(['TEAM', 'POSITION'], max)\n",
    "starters"
   ]
  },
  {
   "cell_type": "markdown",
   "metadata": {},
   "source": [
    "Let's find out which team pays the most money to the starters"
   ]
  },
  {
   "cell_type": "code",
   "execution_count": 86,
   "metadata": {},
   "outputs": [
    {
     "data": {
      "text/html": [
       "<table border=\"1\" class=\"dataframe\">\n",
       "    <thead>\n",
       "        <tr>\n",
       "            <th>TEAM</th> <th>SALARY max sum</th>\n",
       "        </tr>\n",
       "    </thead>\n",
       "    <tbody>\n",
       "        <tr>\n",
       "            <td>Cleveland Cavaliers  </td> <td>82.3166       </td>\n",
       "        </tr>\n",
       "        <tr>\n",
       "            <td>Oklahoma City Thunder</td> <td>70.6988       </td>\n",
       "        </tr>\n",
       "        <tr>\n",
       "            <td>Miami Heat           </td> <td>67.1273       </td>\n",
       "        </tr>\n",
       "        <tr>\n",
       "            <td>San Antonio Spurs    </td> <td>67.034        </td>\n",
       "        </tr>\n",
       "        <tr>\n",
       "            <td>Golden State Warriors</td> <td>66.6431       </td>\n",
       "        </tr>\n",
       "        <tr>\n",
       "            <td>Houston Rockets      </td> <td>61.2029       </td>\n",
       "        </tr>\n",
       "        <tr>\n",
       "            <td>Chicago Bulls        </td> <td>57.8247       </td>\n",
       "        </tr>\n",
       "        <tr>\n",
       "            <td>Los Angeles Lakers   </td> <td>55.8276       </td>\n",
       "        </tr>\n",
       "        <tr>\n",
       "            <td>New York Knicks      </td> <td>55.0595       </td>\n",
       "        </tr>\n",
       "        <tr>\n",
       "            <td>Memphis Grizzlies    </td> <td>53.5235       </td>\n",
       "        </tr>\n",
       "    </tbody>\n",
       "</table>\n",
       "<p>... (20 rows omitted)</p>"
      ],
      "text/plain": [
       "TEAM                  | SALARY max sum\n",
       "Cleveland Cavaliers   | 82.3166\n",
       "Oklahoma City Thunder | 70.6988\n",
       "Miami Heat            | 67.1273\n",
       "San Antonio Spurs     | 67.034\n",
       "Golden State Warriors | 66.6431\n",
       "Houston Rockets       | 61.2029\n",
       "Chicago Bulls         | 57.8247\n",
       "Los Angeles Lakers    | 55.8276\n",
       "New York Knicks       | 55.0595\n",
       "Memphis Grizzlies     | 53.5235\n",
       "... (20 rows omitted)"
      ]
     },
     "execution_count": 86,
     "metadata": {},
     "output_type": "execute_result"
    }
   ],
   "source": [
    "starters.drop('POSITION').group('TEAM', sum).sort(1, descending=True)"
   ]
  },
  {
   "cell_type": "markdown",
   "metadata": {},
   "source": [
    "## Pivot"
   ]
  },
  {
   "cell_type": "code",
   "execution_count": 87,
   "metadata": {},
   "outputs": [
    {
     "data": {
      "text/html": [
       "<table border=\"1\" class=\"dataframe\">\n",
       "    <thead>\n",
       "        <tr>\n",
       "            <th>Flavor</th> <th>Color</th> <th>count</th>\n",
       "        </tr>\n",
       "    </thead>\n",
       "    <tbody>\n",
       "        <tr>\n",
       "            <td>bubblegum </td> <td>pink       </td> <td>1    </td>\n",
       "        </tr>\n",
       "        <tr>\n",
       "            <td>chocolate </td> <td>dark brown </td> <td>2    </td>\n",
       "        </tr>\n",
       "        <tr>\n",
       "            <td>chocolate </td> <td>light brown</td> <td>1    </td>\n",
       "        </tr>\n",
       "        <tr>\n",
       "            <td>strawberry</td> <td>pink       </td> <td>2    </td>\n",
       "        </tr>\n",
       "    </tbody>\n",
       "</table>"
      ],
      "text/plain": [
       "Flavor     | Color       | count\n",
       "bubblegum  | pink        | 1\n",
       "chocolate  | dark brown  | 2\n",
       "chocolate  | light brown | 1\n",
       "strawberry | pink        | 2"
      ]
     },
     "execution_count": 87,
     "metadata": {},
     "output_type": "execute_result"
    }
   ],
   "source": [
    "all_cones.group(['Flavor', 'Color'])"
   ]
  },
  {
   "cell_type": "code",
   "execution_count": 88,
   "metadata": {},
   "outputs": [
    {
     "data": {
      "text/html": [
       "<table border=\"1\" class=\"dataframe\">\n",
       "    <thead>\n",
       "        <tr>\n",
       "            <th>Color</th> <th>bubblegum</th> <th>chocolate</th> <th>strawberry</th>\n",
       "        </tr>\n",
       "    </thead>\n",
       "    <tbody>\n",
       "        <tr>\n",
       "            <td>dark brown </td> <td>0        </td> <td>2        </td> <td>0         </td>\n",
       "        </tr>\n",
       "        <tr>\n",
       "            <td>light brown</td> <td>0        </td> <td>1        </td> <td>0         </td>\n",
       "        </tr>\n",
       "        <tr>\n",
       "            <td>pink       </td> <td>1        </td> <td>0        </td> <td>2         </td>\n",
       "        </tr>\n",
       "    </tbody>\n",
       "</table>"
      ],
      "text/plain": [
       "Color       | bubblegum | chocolate | strawberry\n",
       "dark brown  | 0         | 2         | 0\n",
       "light brown | 0         | 1         | 0\n",
       "pink        | 1         | 0         | 2"
      ]
     },
     "execution_count": 88,
     "metadata": {},
     "output_type": "execute_result"
    }
   ],
   "source": [
    "all_cones.pivot('Flavor', 'Color')"
   ]
  },
  {
   "cell_type": "code",
   "execution_count": 89,
   "metadata": {},
   "outputs": [
    {
     "data": {
      "text/html": [
       "<table border=\"1\" class=\"dataframe\">\n",
       "    <thead>\n",
       "        <tr>\n",
       "            <th>Flavor</th> <th>Color</th> <th>Price sum</th>\n",
       "        </tr>\n",
       "    </thead>\n",
       "    <tbody>\n",
       "        <tr>\n",
       "            <td>bubblegum </td> <td>pink       </td> <td>4.75     </td>\n",
       "        </tr>\n",
       "        <tr>\n",
       "            <td>chocolate </td> <td>dark brown </td> <td>10.5     </td>\n",
       "        </tr>\n",
       "        <tr>\n",
       "            <td>chocolate </td> <td>light brown</td> <td>4.75     </td>\n",
       "        </tr>\n",
       "        <tr>\n",
       "            <td>strawberry</td> <td>pink       </td> <td>8.8      </td>\n",
       "        </tr>\n",
       "    </tbody>\n",
       "</table>"
      ],
      "text/plain": [
       "Flavor     | Color       | Price sum\n",
       "bubblegum  | pink        | 4.75\n",
       "chocolate  | dark brown  | 10.5\n",
       "chocolate  | light brown | 4.75\n",
       "strawberry | pink        | 8.8"
      ]
     },
     "execution_count": 89,
     "metadata": {},
     "output_type": "execute_result"
    }
   ],
   "source": [
    "all_cones.group(['Flavor', 'Color'], sum)"
   ]
  },
  {
   "cell_type": "code",
   "execution_count": 90,
   "metadata": {},
   "outputs": [
    {
     "data": {
      "text/html": [
       "<table border=\"1\" class=\"dataframe\">\n",
       "    <thead>\n",
       "        <tr>\n",
       "            <th>Color</th> <th>bubblegum</th> <th>chocolate</th> <th>strawberry</th>\n",
       "        </tr>\n",
       "    </thead>\n",
       "    <tbody>\n",
       "        <tr>\n",
       "            <td>dark brown </td> <td>0        </td> <td>10.5     </td> <td>0         </td>\n",
       "        </tr>\n",
       "        <tr>\n",
       "            <td>light brown</td> <td>0        </td> <td>4.75     </td> <td>0         </td>\n",
       "        </tr>\n",
       "        <tr>\n",
       "            <td>pink       </td> <td>4.75     </td> <td>0        </td> <td>8.8       </td>\n",
       "        </tr>\n",
       "    </tbody>\n",
       "</table>"
      ],
      "text/plain": [
       "Color       | bubblegum | chocolate | strawberry\n",
       "dark brown  | 0         | 10.5      | 0\n",
       "light brown | 0         | 4.75      | 0\n",
       "pink        | 4.75      | 0         | 8.8"
      ]
     },
     "execution_count": 90,
     "metadata": {},
     "output_type": "execute_result"
    }
   ],
   "source": [
    "all_cones.pivot('Flavor', 'Color', values='Price', collect=sum)"
   ]
  },
  {
   "cell_type": "code",
   "execution_count": 91,
   "metadata": {
    "scrolled": true
   },
   "outputs": [
    {
     "data": {
      "text/html": [
       "<table border=\"1\" class=\"dataframe\">\n",
       "    <thead>\n",
       "        <tr>\n",
       "            <th>PLAYER</th> <th>POSITION</th> <th>TEAM</th> <th>SALARY</th>\n",
       "        </tr>\n",
       "    </thead>\n",
       "    <tbody>\n",
       "        <tr>\n",
       "            <td>Paul Millsap    </td> <td>PF      </td> <td>Atlanta Hawks</td> <td>18.6717</td>\n",
       "        </tr>\n",
       "        <tr>\n",
       "            <td>Al Horford      </td> <td>C       </td> <td>Atlanta Hawks</td> <td>12     </td>\n",
       "        </tr>\n",
       "        <tr>\n",
       "            <td>Tiago Splitter  </td> <td>C       </td> <td>Atlanta Hawks</td> <td>9.75625</td>\n",
       "        </tr>\n",
       "        <tr>\n",
       "            <td>Jeff Teague     </td> <td>PG      </td> <td>Atlanta Hawks</td> <td>8      </td>\n",
       "        </tr>\n",
       "        <tr>\n",
       "            <td>Kyle Korver     </td> <td>SG      </td> <td>Atlanta Hawks</td> <td>5.74648</td>\n",
       "        </tr>\n",
       "        <tr>\n",
       "            <td>Thabo Sefolosha </td> <td>SF      </td> <td>Atlanta Hawks</td> <td>4      </td>\n",
       "        </tr>\n",
       "        <tr>\n",
       "            <td>Mike Scott      </td> <td>PF      </td> <td>Atlanta Hawks</td> <td>3.33333</td>\n",
       "        </tr>\n",
       "        <tr>\n",
       "            <td>Kent Bazemore   </td> <td>SF      </td> <td>Atlanta Hawks</td> <td>2      </td>\n",
       "        </tr>\n",
       "        <tr>\n",
       "            <td>Dennis Schroder </td> <td>PG      </td> <td>Atlanta Hawks</td> <td>1.7634 </td>\n",
       "        </tr>\n",
       "        <tr>\n",
       "            <td>Tim Hardaway Jr.</td> <td>SG      </td> <td>Atlanta Hawks</td> <td>1.30452</td>\n",
       "        </tr>\n",
       "    </tbody>\n",
       "</table>\n",
       "<p>... (407 rows omitted)</p>"
      ],
      "text/plain": [
       "PLAYER           | POSITION | TEAM          | SALARY\n",
       "Paul Millsap     | PF       | Atlanta Hawks | 18.6717\n",
       "Al Horford       | C        | Atlanta Hawks | 12\n",
       "Tiago Splitter   | C        | Atlanta Hawks | 9.75625\n",
       "Jeff Teague      | PG       | Atlanta Hawks | 8\n",
       "Kyle Korver      | SG       | Atlanta Hawks | 5.74648\n",
       "Thabo Sefolosha  | SF       | Atlanta Hawks | 4\n",
       "Mike Scott       | PF       | Atlanta Hawks | 3.33333\n",
       "Kent Bazemore    | SF       | Atlanta Hawks | 2\n",
       "Dennis Schroder  | PG       | Atlanta Hawks | 1.7634\n",
       "Tim Hardaway Jr. | SG       | Atlanta Hawks | 1.30452\n",
       "... (407 rows omitted)"
      ]
     },
     "execution_count": 91,
     "metadata": {},
     "output_type": "execute_result"
    }
   ],
   "source": [
    "nba"
   ]
  },
  {
   "cell_type": "code",
   "execution_count": 92,
   "metadata": {},
   "outputs": [
    {
     "data": {
      "text/html": [
       "<table border=\"1\" class=\"dataframe\">\n",
       "    <thead>\n",
       "        <tr>\n",
       "            <th>POSITION</th> <th>TEAM</th> <th>count</th>\n",
       "        </tr>\n",
       "    </thead>\n",
       "    <tbody>\n",
       "        <tr>\n",
       "            <td>C       </td> <td>Atlanta Hawks        </td> <td>3    </td>\n",
       "        </tr>\n",
       "        <tr>\n",
       "            <td>C       </td> <td>Boston Celtics       </td> <td>3    </td>\n",
       "        </tr>\n",
       "        <tr>\n",
       "            <td>C       </td> <td>Brooklyn Nets        </td> <td>1    </td>\n",
       "        </tr>\n",
       "        <tr>\n",
       "            <td>C       </td> <td>Charlotte Hornets    </td> <td>3    </td>\n",
       "        </tr>\n",
       "        <tr>\n",
       "            <td>C       </td> <td>Chicago Bulls        </td> <td>2    </td>\n",
       "        </tr>\n",
       "        <tr>\n",
       "            <td>C       </td> <td>Cleveland Cavaliers  </td> <td>4    </td>\n",
       "        </tr>\n",
       "        <tr>\n",
       "            <td>C       </td> <td>Dallas Mavericks     </td> <td>2    </td>\n",
       "        </tr>\n",
       "        <tr>\n",
       "            <td>C       </td> <td>Denver Nuggets       </td> <td>4    </td>\n",
       "        </tr>\n",
       "        <tr>\n",
       "            <td>C       </td> <td>Detroit Pistons      </td> <td>3    </td>\n",
       "        </tr>\n",
       "        <tr>\n",
       "            <td>C       </td> <td>Golden State Warriors</td> <td>3    </td>\n",
       "        </tr>\n",
       "    </tbody>\n",
       "</table>\n",
       "<p>... (137 rows omitted)</p>"
      ],
      "text/plain": [
       "POSITION | TEAM                  | count\n",
       "C        | Atlanta Hawks         | 3\n",
       "C        | Boston Celtics        | 3\n",
       "C        | Brooklyn Nets         | 1\n",
       "C        | Charlotte Hornets     | 3\n",
       "C        | Chicago Bulls         | 2\n",
       "C        | Cleveland Cavaliers   | 4\n",
       "C        | Dallas Mavericks      | 2\n",
       "C        | Denver Nuggets        | 4\n",
       "C        | Detroit Pistons       | 3\n",
       "C        | Golden State Warriors | 3\n",
       "... (137 rows omitted)"
      ]
     },
     "execution_count": 92,
     "metadata": {},
     "output_type": "execute_result"
    }
   ],
   "source": [
    "nba.group(['POSITION', 'TEAM'])"
   ]
  },
  {
   "cell_type": "code",
   "execution_count": 93,
   "metadata": {},
   "outputs": [
    {
     "data": {
      "text/html": [
       "<table border=\"1\" class=\"dataframe\">\n",
       "    <thead>\n",
       "        <tr>\n",
       "            <th>TEAM</th> <th>C</th> <th>PF</th> <th>PG</th> <th>SF</th> <th>SG</th>\n",
       "        </tr>\n",
       "    </thead>\n",
       "    <tbody>\n",
       "        <tr>\n",
       "            <td>Atlanta Hawks        </td> <td>3   </td> <td>2   </td> <td>2   </td> <td>2   </td> <td>5   </td>\n",
       "        </tr>\n",
       "        <tr>\n",
       "            <td>Boston Celtics       </td> <td>3   </td> <td>2   </td> <td>4   </td> <td>2   </td> <td>4   </td>\n",
       "        </tr>\n",
       "        <tr>\n",
       "            <td>Brooklyn Nets        </td> <td>1   </td> <td>3   </td> <td>2   </td> <td>2   </td> <td>5   </td>\n",
       "        </tr>\n",
       "        <tr>\n",
       "            <td>Charlotte Hornets    </td> <td>3   </td> <td>3   </td> <td>4   </td> <td>2   </td> <td>6   </td>\n",
       "        </tr>\n",
       "        <tr>\n",
       "            <td>Chicago Bulls        </td> <td>2   </td> <td>2   </td> <td>2   </td> <td>2   </td> <td>4   </td>\n",
       "        </tr>\n",
       "        <tr>\n",
       "            <td>Cleveland Cavaliers  </td> <td>4   </td> <td>1   </td> <td>3   </td> <td>1   </td> <td>1   </td>\n",
       "        </tr>\n",
       "        <tr>\n",
       "            <td>Dallas Mavericks     </td> <td>2   </td> <td>2   </td> <td>4   </td> <td>1   </td> <td>2   </td>\n",
       "        </tr>\n",
       "        <tr>\n",
       "            <td>Denver Nuggets       </td> <td>4   </td> <td>2   </td> <td>2   </td> <td>4   </td> <td>2   </td>\n",
       "        </tr>\n",
       "        <tr>\n",
       "            <td>Detroit Pistons      </td> <td>3   </td> <td>0   </td> <td>1   </td> <td>4   </td> <td>2   </td>\n",
       "        </tr>\n",
       "        <tr>\n",
       "            <td>Golden State Warriors</td> <td>3   </td> <td>3   </td> <td>2   </td> <td>4   </td> <td>2   </td>\n",
       "        </tr>\n",
       "    </tbody>\n",
       "</table>\n",
       "<p>... (20 rows omitted)</p>"
      ],
      "text/plain": [
       "TEAM                  | C    | PF   | PG   | SF   | SG\n",
       "Atlanta Hawks         | 3    | 2    | 2    | 2    | 5\n",
       "Boston Celtics        | 3    | 2    | 4    | 2    | 4\n",
       "Brooklyn Nets         | 1    | 3    | 2    | 2    | 5\n",
       "Charlotte Hornets     | 3    | 3    | 4    | 2    | 6\n",
       "Chicago Bulls         | 2    | 2    | 2    | 2    | 4\n",
       "Cleveland Cavaliers   | 4    | 1    | 3    | 1    | 1\n",
       "Dallas Mavericks      | 2    | 2    | 4    | 1    | 2\n",
       "Denver Nuggets        | 4    | 2    | 2    | 4    | 2\n",
       "Detroit Pistons       | 3    | 0    | 1    | 4    | 2\n",
       "Golden State Warriors | 3    | 3    | 2    | 4    | 2\n",
       "... (20 rows omitted)"
      ]
     },
     "execution_count": 93,
     "metadata": {},
     "output_type": "execute_result"
    }
   ],
   "source": [
    "nba.pivot('POSITION', 'TEAM')"
   ]
  },
  {
   "cell_type": "code",
   "execution_count": 94,
   "metadata": {},
   "outputs": [
    {
     "data": {
      "text/html": [
       "<table border=\"1\" class=\"dataframe\">\n",
       "    <thead>\n",
       "        <tr>\n",
       "            <th>TEAM</th> <th>C</th> <th>PF</th> <th>PG</th> <th>SF</th> <th>SG</th>\n",
       "        </tr>\n",
       "    </thead>\n",
       "    <tbody>\n",
       "        <tr>\n",
       "            <td>Atlanta Hawks        </td> <td>12     </td> <td>18.6717</td> <td>8      </td> <td>4      </td> <td>5.74648</td>\n",
       "        </tr>\n",
       "        <tr>\n",
       "            <td>Boston Celtics       </td> <td>2.61698</td> <td>5      </td> <td>7.73034</td> <td>6.79612</td> <td>3.42551</td>\n",
       "        </tr>\n",
       "        <tr>\n",
       "            <td>Brooklyn Nets        </td> <td>1.3629 </td> <td>11.236 </td> <td>6.3    </td> <td>24.8949</td> <td>3.42551</td>\n",
       "        </tr>\n",
       "        <tr>\n",
       "            <td>Charlotte Hornets    </td> <td>13.5   </td> <td>7      </td> <td>12     </td> <td>6.3314 </td> <td>13.1253</td>\n",
       "        </tr>\n",
       "        <tr>\n",
       "            <td>Chicago Bulls        </td> <td>13.4   </td> <td>5.54373</td> <td>20.0931</td> <td>2.38044</td> <td>16.4075</td>\n",
       "        </tr>\n",
       "        <tr>\n",
       "            <td>Cleveland Cavaliers  </td> <td>14.2609</td> <td>19.689 </td> <td>16.4075</td> <td>22.9705</td> <td>8.98876</td>\n",
       "        </tr>\n",
       "        <tr>\n",
       "            <td>Dallas Mavericks     </td> <td>5.2    </td> <td>15.4937</td> <td>5.37897</td> <td>15.3615</td> <td>1.449  </td>\n",
       "        </tr>\n",
       "        <tr>\n",
       "            <td>Denver Nuggets       </td> <td>5.6135 </td> <td>11.236 </td> <td>4.345  </td> <td>14     </td> <td>1.58448</td>\n",
       "        </tr>\n",
       "        <tr>\n",
       "            <td>Detroit Pistons      </td> <td>6.5    </td> <td>0      </td> <td>13.913 </td> <td>2.84196</td> <td>6.27   </td>\n",
       "        </tr>\n",
       "        <tr>\n",
       "            <td>Golden State Warriors</td> <td>13.8   </td> <td>14.2609</td> <td>11.3708</td> <td>11.7105</td> <td>15.501 </td>\n",
       "        </tr>\n",
       "    </tbody>\n",
       "</table>\n",
       "<p>... (20 rows omitted)</p>"
      ],
      "text/plain": [
       "TEAM                  | C       | PF      | PG      | SF      | SG\n",
       "Atlanta Hawks         | 12      | 18.6717 | 8       | 4       | 5.74648\n",
       "Boston Celtics        | 2.61698 | 5       | 7.73034 | 6.79612 | 3.42551\n",
       "Brooklyn Nets         | 1.3629  | 11.236  | 6.3     | 24.8949 | 3.42551\n",
       "Charlotte Hornets     | 13.5    | 7       | 12      | 6.3314  | 13.1253\n",
       "Chicago Bulls         | 13.4    | 5.54373 | 20.0931 | 2.38044 | 16.4075\n",
       "Cleveland Cavaliers   | 14.2609 | 19.689  | 16.4075 | 22.9705 | 8.98876\n",
       "Dallas Mavericks      | 5.2     | 15.4937 | 5.37897 | 15.3615 | 1.449\n",
       "Denver Nuggets        | 5.6135  | 11.236  | 4.345   | 14      | 1.58448\n",
       "Detroit Pistons       | 6.5     | 0       | 13.913  | 2.84196 | 6.27\n",
       "Golden State Warriors | 13.8    | 14.2609 | 11.3708 | 11.7105 | 15.501\n",
       "... (20 rows omitted)"
      ]
     },
     "execution_count": 94,
     "metadata": {},
     "output_type": "execute_result"
    }
   ],
   "source": [
    "nba.pivot('POSITION', 'TEAM', 'SALARY', max)"
   ]
  },
  {
   "cell_type": "markdown",
   "metadata": {},
   "source": [
    "## Joins"
   ]
  },
  {
   "cell_type": "code",
   "execution_count": 95,
   "metadata": {},
   "outputs": [
    {
     "data": {
      "text/html": [
       "<table border=\"1\" class=\"dataframe\">\n",
       "    <thead>\n",
       "        <tr>\n",
       "            <th>Drink</th> <th>Cafe</th> <th>Price</th>\n",
       "        </tr>\n",
       "    </thead>\n",
       "    <tbody>\n",
       "        <tr>\n",
       "            <td>Milk Tea</td> <td>Tea One</td> <td>4    </td>\n",
       "        </tr>\n",
       "        <tr>\n",
       "            <td>Espresso</td> <td>Nefeli </td> <td>2    </td>\n",
       "        </tr>\n",
       "        <tr>\n",
       "            <td>Latte   </td> <td>Nefeli </td> <td>3    </td>\n",
       "        </tr>\n",
       "        <tr>\n",
       "            <td>Espresso</td> <td>Abe's  </td> <td>2    </td>\n",
       "        </tr>\n",
       "    </tbody>\n",
       "</table>"
      ],
      "text/plain": [
       "Drink    | Cafe    | Price\n",
       "Milk Tea | Tea One | 4\n",
       "Espresso | Nefeli  | 2\n",
       "Latte    | Nefeli  | 3\n",
       "Espresso | Abe's   | 2"
      ]
     },
     "execution_count": 95,
     "metadata": {},
     "output_type": "execute_result"
    }
   ],
   "source": [
    "drinks = Table(['Drink', 'Cafe', 'Price']).with_rows([\n",
    "    ['Milk Tea', 'Tea One', 4],\n",
    "    ['Espresso', 'Nefeli',  2],\n",
    "    ['Latte',    'Nefeli',  3],\n",
    "    ['Espresso', \"Abe's\",   2]\n",
    "])\n",
    "drinks"
   ]
  },
  {
   "cell_type": "code",
   "execution_count": 96,
   "metadata": {},
   "outputs": [
    {
     "data": {
      "text/html": [
       "<table border=\"1\" class=\"dataframe\">\n",
       "    <thead>\n",
       "        <tr>\n",
       "            <th>Coupon % off</th> <th>Location</th>\n",
       "        </tr>\n",
       "    </thead>\n",
       "    <tbody>\n",
       "        <tr>\n",
       "            <td>25          </td> <td>Tea One </td>\n",
       "        </tr>\n",
       "        <tr>\n",
       "            <td>50          </td> <td>Nefeli  </td>\n",
       "        </tr>\n",
       "        <tr>\n",
       "            <td>5           </td> <td>Tea One </td>\n",
       "        </tr>\n",
       "    </tbody>\n",
       "</table>"
      ],
      "text/plain": [
       "Coupon % off | Location\n",
       "25           | Tea One\n",
       "50           | Nefeli\n",
       "5            | Tea One"
      ]
     },
     "execution_count": 96,
     "metadata": {},
     "output_type": "execute_result"
    }
   ],
   "source": [
    "discounts = Table().with_columns(\n",
    "    'Coupon % off', make_array(25, 50, 5),\n",
    "    'Location', make_array('Tea One', 'Nefeli', 'Tea One')\n",
    ")\n",
    "discounts"
   ]
  },
  {
   "cell_type": "code",
   "execution_count": 97,
   "metadata": {},
   "outputs": [
    {
     "data": {
      "text/html": [
       "<table border=\"1\" class=\"dataframe\">\n",
       "    <thead>\n",
       "        <tr>\n",
       "            <th>Cafe</th> <th>Drink</th> <th>Price</th> <th>Coupon % off</th>\n",
       "        </tr>\n",
       "    </thead>\n",
       "    <tbody>\n",
       "        <tr>\n",
       "            <td>Nefeli </td> <td>Espresso</td> <td>2    </td> <td>50          </td>\n",
       "        </tr>\n",
       "        <tr>\n",
       "            <td>Nefeli </td> <td>Latte   </td> <td>3    </td> <td>50          </td>\n",
       "        </tr>\n",
       "        <tr>\n",
       "            <td>Tea One</td> <td>Milk Tea</td> <td>4    </td> <td>25          </td>\n",
       "        </tr>\n",
       "        <tr>\n",
       "            <td>Tea One</td> <td>Milk Tea</td> <td>4    </td> <td>5           </td>\n",
       "        </tr>\n",
       "    </tbody>\n",
       "</table>"
      ],
      "text/plain": [
       "Cafe    | Drink    | Price | Coupon % off\n",
       "Nefeli  | Espresso | 2     | 50\n",
       "Nefeli  | Latte    | 3     | 50\n",
       "Tea One | Milk Tea | 4     | 25\n",
       "Tea One | Milk Tea | 4     | 5"
      ]
     },
     "execution_count": 97,
     "metadata": {},
     "output_type": "execute_result"
    }
   ],
   "source": [
    "t = drinks.join('Cafe', discounts, 'Location')\n",
    "t"
   ]
  },
  {
   "cell_type": "code",
   "execution_count": 98,
   "metadata": {},
   "outputs": [
    {
     "data": {
      "text/html": [
       "<table border=\"1\" class=\"dataframe\">\n",
       "    <thead>\n",
       "        <tr>\n",
       "            <th>Cafe</th> <th>Drink</th> <th>Price</th> <th>Coupon % off</th> <th>Discounted</th>\n",
       "        </tr>\n",
       "    </thead>\n",
       "    <tbody>\n",
       "        <tr>\n",
       "            <td>Nefeli </td> <td>Espresso</td> <td>2    </td> <td>50          </td> <td>1         </td>\n",
       "        </tr>\n",
       "        <tr>\n",
       "            <td>Nefeli </td> <td>Latte   </td> <td>3    </td> <td>50          </td> <td>1.5       </td>\n",
       "        </tr>\n",
       "        <tr>\n",
       "            <td>Tea One</td> <td>Milk Tea</td> <td>4    </td> <td>25          </td> <td>3         </td>\n",
       "        </tr>\n",
       "        <tr>\n",
       "            <td>Tea One</td> <td>Milk Tea</td> <td>4    </td> <td>5           </td> <td>3.8       </td>\n",
       "        </tr>\n",
       "    </tbody>\n",
       "</table>"
      ],
      "text/plain": [
       "Cafe    | Drink    | Price | Coupon % off | Discounted\n",
       "Nefeli  | Espresso | 2     | 50           | 1\n",
       "Nefeli  | Latte    | 3     | 50           | 1.5\n",
       "Tea One | Milk Tea | 4     | 25           | 3\n",
       "Tea One | Milk Tea | 4     | 5            | 3.8"
      ]
     },
     "execution_count": 98,
     "metadata": {},
     "output_type": "execute_result"
    }
   ],
   "source": [
    "t.with_column('Discounted', t.column('Price') * (1 - t.column(3)/ 100))"
   ]
  },
  {
   "cell_type": "markdown",
   "metadata": {},
   "source": [
    "## Bikes"
   ]
  },
  {
   "cell_type": "code",
   "execution_count": 99,
   "metadata": {},
   "outputs": [
    {
     "data": {
      "text/html": [
       "<table border=\"1\" class=\"dataframe\">\n",
       "    <thead>\n",
       "        <tr>\n",
       "            <th>Trip ID</th> <th>Duration</th> <th>Start Date</th> <th>Start Station</th> <th>Start Terminal</th> <th>End Date</th> <th>End Station</th> <th>End Terminal</th> <th>Bike #</th> <th>Subscriber Type</th> <th>Zip Code</th>\n",
       "        </tr>\n",
       "    </thead>\n",
       "    <tbody>\n",
       "        <tr>\n",
       "            <td>913460 </td> <td>765     </td> <td>8/31/2015 23:26</td> <td>Harry Bridges Plaza (Ferry Building)         </td> <td>50            </td> <td>8/31/2015 23:39</td> <td>San Francisco Caltrain (Townsend at 4th)     </td> <td>70          </td> <td>288   </td> <td>Subscriber     </td> <td>2139    </td>\n",
       "        </tr>\n",
       "        <tr>\n",
       "            <td>913459 </td> <td>1036    </td> <td>8/31/2015 23:11</td> <td>San Antonio Shopping Center                  </td> <td>31            </td> <td>8/31/2015 23:28</td> <td>Mountain View City Hall                      </td> <td>27          </td> <td>35    </td> <td>Subscriber     </td> <td>95032   </td>\n",
       "        </tr>\n",
       "        <tr>\n",
       "            <td>913455 </td> <td>307     </td> <td>8/31/2015 23:13</td> <td>Post at Kearny                               </td> <td>47            </td> <td>8/31/2015 23:18</td> <td>2nd at South Park                            </td> <td>64          </td> <td>468   </td> <td>Subscriber     </td> <td>94107   </td>\n",
       "        </tr>\n",
       "        <tr>\n",
       "            <td>913454 </td> <td>409     </td> <td>8/31/2015 23:10</td> <td>San Jose City Hall                           </td> <td>10            </td> <td>8/31/2015 23:17</td> <td>San Salvador at 1st                          </td> <td>8           </td> <td>68    </td> <td>Subscriber     </td> <td>95113   </td>\n",
       "        </tr>\n",
       "        <tr>\n",
       "            <td>913453 </td> <td>789     </td> <td>8/31/2015 23:09</td> <td>Embarcadero at Folsom                        </td> <td>51            </td> <td>8/31/2015 23:22</td> <td>Embarcadero at Sansome                       </td> <td>60          </td> <td>487   </td> <td>Customer       </td> <td>9069    </td>\n",
       "        </tr>\n",
       "        <tr>\n",
       "            <td>913452 </td> <td>293     </td> <td>8/31/2015 23:07</td> <td>Yerba Buena Center of the Arts (3rd @ Howard)</td> <td>68            </td> <td>8/31/2015 23:12</td> <td>San Francisco Caltrain (Townsend at 4th)     </td> <td>70          </td> <td>538   </td> <td>Subscriber     </td> <td>94118   </td>\n",
       "        </tr>\n",
       "        <tr>\n",
       "            <td>913451 </td> <td>896     </td> <td>8/31/2015 23:07</td> <td>Embarcadero at Folsom                        </td> <td>51            </td> <td>8/31/2015 23:22</td> <td>Embarcadero at Sansome                       </td> <td>60          </td> <td>363   </td> <td>Customer       </td> <td>92562   </td>\n",
       "        </tr>\n",
       "        <tr>\n",
       "            <td>913450 </td> <td>255     </td> <td>8/31/2015 22:16</td> <td>Embarcadero at Sansome                       </td> <td>60            </td> <td>8/31/2015 22:20</td> <td>Steuart at Market                            </td> <td>74          </td> <td>470   </td> <td>Subscriber     </td> <td>94111   </td>\n",
       "        </tr>\n",
       "        <tr>\n",
       "            <td>913449 </td> <td>126     </td> <td>8/31/2015 22:12</td> <td>Beale at Market                              </td> <td>56            </td> <td>8/31/2015 22:15</td> <td>Temporary Transbay Terminal (Howard at Beale)</td> <td>55          </td> <td>439   </td> <td>Subscriber     </td> <td>94130   </td>\n",
       "        </tr>\n",
       "        <tr>\n",
       "            <td>913448 </td> <td>932     </td> <td>8/31/2015 21:57</td> <td>Post at Kearny                               </td> <td>47            </td> <td>8/31/2015 22:12</td> <td>South Van Ness at Market                     </td> <td>66          </td> <td>472   </td> <td>Subscriber     </td> <td>94702   </td>\n",
       "        </tr>\n",
       "    </tbody>\n",
       "</table>\n",
       "<p>... (354142 rows omitted)</p>"
      ],
      "text/plain": [
       "Trip ID | Duration | Start Date      | Start Station                                 | Start Terminal | End Date        | End Station                                   | End Terminal | Bike # | Subscriber Type | Zip Code\n",
       "913460  | 765      | 8/31/2015 23:26 | Harry Bridges Plaza (Ferry Building)          | 50             | 8/31/2015 23:39 | San Francisco Caltrain (Townsend at 4th)      | 70           | 288    | Subscriber      | 2139\n",
       "913459  | 1036     | 8/31/2015 23:11 | San Antonio Shopping Center                   | 31             | 8/31/2015 23:28 | Mountain View City Hall                       | 27           | 35     | Subscriber      | 95032\n",
       "913455  | 307      | 8/31/2015 23:13 | Post at Kearny                                | 47             | 8/31/2015 23:18 | 2nd at South Park                             | 64           | 468    | Subscriber      | 94107\n",
       "913454  | 409      | 8/31/2015 23:10 | San Jose City Hall                            | 10             | 8/31/2015 23:17 | San Salvador at 1st                           | 8            | 68     | Subscriber      | 95113\n",
       "913453  | 789      | 8/31/2015 23:09 | Embarcadero at Folsom                         | 51             | 8/31/2015 23:22 | Embarcadero at Sansome                        | 60           | 487    | Customer        | 9069\n",
       "913452  | 293      | 8/31/2015 23:07 | Yerba Buena Center of the Arts (3rd @ Howard) | 68             | 8/31/2015 23:12 | San Francisco Caltrain (Townsend at 4th)      | 70           | 538    | Subscriber      | 94118\n",
       "913451  | 896      | 8/31/2015 23:07 | Embarcadero at Folsom                         | 51             | 8/31/2015 23:22 | Embarcadero at Sansome                        | 60           | 363    | Customer        | 92562\n",
       "913450  | 255      | 8/31/2015 22:16 | Embarcadero at Sansome                        | 60             | 8/31/2015 22:20 | Steuart at Market                             | 74           | 470    | Subscriber      | 94111\n",
       "913449  | 126      | 8/31/2015 22:12 | Beale at Market                               | 56             | 8/31/2015 22:15 | Temporary Transbay Terminal (Howard at Beale) | 55           | 439    | Subscriber      | 94130\n",
       "913448  | 932      | 8/31/2015 21:57 | Post at Kearny                                | 47             | 8/31/2015 22:12 | South Van Ness at Market                      | 66           | 472    | Subscriber      | 94702\n",
       "... (354142 rows omitted)"
      ]
     },
     "execution_count": 99,
     "metadata": {},
     "output_type": "execute_result"
    }
   ],
   "source": [
    "# This takes a while to load \n",
    "trips = Table.read_table('trip.csv')\n",
    "trips"
   ]
  },
  {
   "cell_type": "code",
   "execution_count": 100,
   "metadata": {
    "scrolled": true
   },
   "outputs": [
    {
     "data": {
      "text/html": [
       "<table border=\"1\" class=\"dataframe\">\n",
       "    <thead>\n",
       "        <tr>\n",
       "            <th>Trip ID</th> <th>Duration</th> <th>Start Date</th> <th>Start Station</th> <th>Start Terminal</th> <th>End Date</th> <th>End Station</th> <th>End Terminal</th> <th>Bike #</th> <th>Subscriber Type</th> <th>Zip Code</th>\n",
       "        </tr>\n",
       "    </thead>\n",
       "    <tbody>\n",
       "        <tr>\n",
       "            <td>568474 </td> <td>17270400</td> <td>12/6/2014 21:59</td> <td>South Van Ness at Market     </td> <td>66            </td> <td>6/24/2015 20:18</td> <td>2nd at Folsom                                </td> <td>62          </td> <td>535   </td> <td>Customer       </td> <td>95531   </td>\n",
       "        </tr>\n",
       "        <tr>\n",
       "            <td>825850 </td> <td>2137000 </td> <td>6/28/2015 21:50</td> <td>Market at Sansome            </td> <td>77            </td> <td>7/23/2015 15:27</td> <td>Yerba Buena Center of the Arts (3rd @ Howard)</td> <td>68          </td> <td>466   </td> <td>Customer       </td> <td>97213   </td>\n",
       "        </tr>\n",
       "        <tr>\n",
       "            <td>750192 </td> <td>1852590 </td> <td>5/2/2015 6:17  </td> <td>San Antonio Shopping Center  </td> <td>31            </td> <td>5/23/2015 16:53</td> <td>Castro Street and El Camino Real             </td> <td>32          </td> <td>680   </td> <td>Subscriber     </td> <td>94024   </td>\n",
       "        </tr>\n",
       "        <tr>\n",
       "            <td>841176 </td> <td>1133540 </td> <td>7/10/2015 10:35</td> <td>University and Emerson       </td> <td>35            </td> <td>7/23/2015 13:27</td> <td>University and Emerson                       </td> <td>35          </td> <td>262   </td> <td>Customer       </td> <td>94306   </td>\n",
       "        </tr>\n",
       "        <tr>\n",
       "            <td>522337 </td> <td>720454  </td> <td>10/30/2014 8:29</td> <td>Redwood City Caltrain Station</td> <td>22            </td> <td>11/7/2014 15:36</td> <td>Stanford in Redwood City                     </td> <td>25          </td> <td>692   </td> <td>Customer       </td> <td>94010   </td>\n",
       "        </tr>\n",
       "        <tr>\n",
       "            <td>774999 </td> <td>688899  </td> <td>5/20/2015 15:27</td> <td>Palo Alto Caltrain Station   </td> <td>34            </td> <td>5/28/2015 14:49</td> <td>California Ave Caltrain Station              </td> <td>36          </td> <td>230   </td> <td>Customer       </td> <td>nil     </td>\n",
       "        </tr>\n",
       "        <tr>\n",
       "            <td>635260 </td> <td>655939  </td> <td>2/8/2015 3:05  </td> <td>San Jose Civic Center        </td> <td>3             </td> <td>2/15/2015 17:17</td> <td>SJSU 4th at San Carlos                       </td> <td>12          </td> <td>132   </td> <td>Customer       </td> <td>89451   </td>\n",
       "        </tr>\n",
       "        <tr>\n",
       "            <td>745640 </td> <td>611240  </td> <td>4/29/2015 9:41 </td> <td>University and Emerson       </td> <td>35            </td> <td>5/6/2015 11:28 </td> <td>San Antonio Shopping Center                  </td> <td>31          </td> <td>196   </td> <td>Customer       </td> <td>81      </td>\n",
       "        </tr>\n",
       "        <tr>\n",
       "            <td>635263 </td> <td>602338  </td> <td>2/8/2015 3:09  </td> <td>San Jose Civic Center        </td> <td>3             </td> <td>2/15/2015 2:28 </td> <td>San Jose Civic Center                        </td> <td>3           </td> <td>9     </td> <td>Customer       </td> <td>89451   </td>\n",
       "        </tr>\n",
       "        <tr>\n",
       "            <td>779645 </td> <td>594550  </td> <td>5/24/2015 13:33</td> <td>San Pedro Square             </td> <td>6             </td> <td>5/31/2015 10:42</td> <td>San Pedro Square                             </td> <td>6           </td> <td>39    </td> <td>Customer       </td> <td>95118   </td>\n",
       "        </tr>\n",
       "    </tbody>\n",
       "</table>\n",
       "<p>... (354142 rows omitted)</p>"
      ],
      "text/plain": [
       "Trip ID | Duration | Start Date      | Start Station                 | Start Terminal | End Date        | End Station                                   | End Terminal | Bike # | Subscriber Type | Zip Code\n",
       "568474  | 17270400 | 12/6/2014 21:59 | South Van Ness at Market      | 66             | 6/24/2015 20:18 | 2nd at Folsom                                 | 62           | 535    | Customer        | 95531\n",
       "825850  | 2137000  | 6/28/2015 21:50 | Market at Sansome             | 77             | 7/23/2015 15:27 | Yerba Buena Center of the Arts (3rd @ Howard) | 68           | 466    | Customer        | 97213\n",
       "750192  | 1852590  | 5/2/2015 6:17   | San Antonio Shopping Center   | 31             | 5/23/2015 16:53 | Castro Street and El Camino Real              | 32           | 680    | Subscriber      | 94024\n",
       "841176  | 1133540  | 7/10/2015 10:35 | University and Emerson        | 35             | 7/23/2015 13:27 | University and Emerson                        | 35           | 262    | Customer        | 94306\n",
       "522337  | 720454   | 10/30/2014 8:29 | Redwood City Caltrain Station | 22             | 11/7/2014 15:36 | Stanford in Redwood City                      | 25           | 692    | Customer        | 94010\n",
       "774999  | 688899   | 5/20/2015 15:27 | Palo Alto Caltrain Station    | 34             | 5/28/2015 14:49 | California Ave Caltrain Station               | 36           | 230    | Customer        | nil\n",
       "635260  | 655939   | 2/8/2015 3:05   | San Jose Civic Center         | 3              | 2/15/2015 17:17 | SJSU 4th at San Carlos                        | 12           | 132    | Customer        | 89451\n",
       "745640  | 611240   | 4/29/2015 9:41  | University and Emerson        | 35             | 5/6/2015 11:28  | San Antonio Shopping Center                   | 31           | 196    | Customer        | 81\n",
       "635263  | 602338   | 2/8/2015 3:09   | San Jose Civic Center         | 3              | 2/15/2015 2:28  | San Jose Civic Center                         | 3            | 9      | Customer        | 89451\n",
       "779645  | 594550   | 5/24/2015 13:33 | San Pedro Square              | 6              | 5/31/2015 10:42 | San Pedro Square                              | 6            | 39     | Customer        | 95118\n",
       "... (354142 rows omitted)"
      ]
     },
     "execution_count": 100,
     "metadata": {},
     "output_type": "execute_result"
    }
   ],
   "source": [
    "trips.sort('Duration', descending=True)"
   ]
  },
  {
   "cell_type": "code",
   "execution_count": 103,
   "metadata": {},
   "outputs": [
    {
     "data": {
      "text/plain": [
       "199.88888888888889"
      ]
     },
     "execution_count": 103,
     "metadata": {},
     "output_type": "execute_result"
    }
   ],
   "source": [
    "17270400 / 60 / 60 / 24"
   ]
  },
  {
   "cell_type": "code",
   "execution_count": 104,
   "metadata": {},
   "outputs": [
    {
     "data": {
      "image/png": "[encoded data removed]",
      "text/plain": [
       "<Figure size 432x288 with 1 Axes>"
      ]
     },
     "metadata": {},
     "output_type": "display_data"
    }
   ],
   "source": [
    "trips.hist('Duration')"
   ]
  },
  {
   "cell_type": "code",
   "execution_count": 105,
   "metadata": {},
   "outputs": [
    {
     "data": {
      "image/png": "[encoded data removed]",
      "text/plain": [
       "<Figure size 432x288 with 1 Axes>"
      ]
     },
     "metadata": {},
     "output_type": "display_data"
    }
   ],
   "source": [
    "commute = trips.where('Duration', are.below(1800))\n",
    "commute.hist('Duration')"
   ]
  },
  {
   "cell_type": "code",
   "execution_count": 106,
   "metadata": {},
   "outputs": [
    {
     "data": {
      "image/png": "[encoded data removed]",
      "text/plain": [
       "<Figure size 432x288 with 1 Axes>"
      ]
     },
     "metadata": {},
     "output_type": "display_data"
    }
   ],
   "source": [
    "commute.hist('Duration', bins=60, unit='second')"
   ]
  },
  {
   "cell_type": "markdown",
   "metadata": {},
   "source": [
    "Discussion: What does the following line of code do?"
   ]
  },
  {
   "cell_type": "code",
   "execution_count": 107,
   "metadata": {},
   "outputs": [
    {
     "data": {
      "text/html": [
       "<table border=\"1\" class=\"dataframe\">\n",
       "    <thead>\n",
       "        <tr>\n",
       "            <th>Start Station</th> <th>count</th>\n",
       "        </tr>\n",
       "    </thead>\n",
       "    <tbody>\n",
       "        <tr>\n",
       "            <td>San Francisco Caltrain (Townsend at 4th)     </td> <td>25858</td>\n",
       "        </tr>\n",
       "        <tr>\n",
       "            <td>San Francisco Caltrain 2 (330 Townsend)      </td> <td>21523</td>\n",
       "        </tr>\n",
       "        <tr>\n",
       "            <td>Harry Bridges Plaza (Ferry Building)         </td> <td>15543</td>\n",
       "        </tr>\n",
       "        <tr>\n",
       "            <td>Temporary Transbay Terminal (Howard at Beale)</td> <td>14298</td>\n",
       "        </tr>\n",
       "        <tr>\n",
       "            <td>2nd at Townsend                              </td> <td>13674</td>\n",
       "        </tr>\n",
       "        <tr>\n",
       "            <td>Townsend at 7th                              </td> <td>13579</td>\n",
       "        </tr>\n",
       "        <tr>\n",
       "            <td>Steuart at Market                            </td> <td>13215</td>\n",
       "        </tr>\n",
       "        <tr>\n",
       "            <td>Embarcadero at Sansome                       </td> <td>12842</td>\n",
       "        </tr>\n",
       "        <tr>\n",
       "            <td>Market at 10th                               </td> <td>11523</td>\n",
       "        </tr>\n",
       "        <tr>\n",
       "            <td>Market at Sansome                            </td> <td>11023</td>\n",
       "        </tr>\n",
       "    </tbody>\n",
       "</table>\n",
       "<p>... (60 rows omitted)</p>"
      ],
      "text/plain": [
       "Start Station                                 | count\n",
       "San Francisco Caltrain (Townsend at 4th)      | 25858\n",
       "San Francisco Caltrain 2 (330 Townsend)       | 21523\n",
       "Harry Bridges Plaza (Ferry Building)          | 15543\n",
       "Temporary Transbay Terminal (Howard at Beale) | 14298\n",
       "2nd at Townsend                               | 13674\n",
       "Townsend at 7th                               | 13579\n",
       "Steuart at Market                             | 13215\n",
       "Embarcadero at Sansome                        | 12842\n",
       "Market at 10th                                | 11523\n",
       "Market at Sansome                             | 11023\n",
       "... (60 rows omitted)"
      ]
     },
     "execution_count": 107,
     "metadata": {},
     "output_type": "execute_result"
    }
   ],
   "source": [
    "starts = commute.group('Start Station').sort('count', descending=True)\n",
    "starts"
   ]
  },
  {
   "cell_type": "markdown",
   "metadata": {},
   "source": [
    "Discussion: What does the following line of code do?"
   ]
  },
  {
   "cell_type": "code",
   "execution_count": 108,
   "metadata": {},
   "outputs": [
    {
     "data": {
      "text/html": [
       "<table border=\"1\" class=\"dataframe\">\n",
       "    <thead>\n",
       "        <tr>\n",
       "            <th>End Station</th> <th>2nd at Folsom</th> <th>2nd at South Park</th> <th>2nd at Townsend</th> <th>5th at Howard</th> <th>Adobe on Almaden</th> <th>Arena Green / SAP Center</th> <th>Beale at Market</th> <th>Broadway St at Battery St</th> <th>California Ave Caltrain Station</th> <th>Castro Street and El Camino Real</th> <th>Civic Center BART (7th at Market)</th> <th>Clay at Battery</th> <th>Commercial at Montgomery</th> <th>Cowper at University</th> <th>Davis at Jackson</th> <th>Embarcadero at Bryant</th> <th>Embarcadero at Folsom</th> <th>Embarcadero at Sansome</th> <th>Embarcadero at Vallejo</th> <th>Evelyn Park and Ride</th> <th>Franklin at Maple</th> <th>Golden Gate at Polk</th> <th>Grant Avenue at Columbus Avenue</th> <th>Harry Bridges Plaza (Ferry Building)</th> <th>Howard at 2nd</th> <th>Japantown</th> <th>MLK Library</th> <th>Market at 10th</th> <th>Market at 4th</th> <th>Market at Sansome</th> <th>Mechanics Plaza (Market at Battery)</th> <th>Mezes Park</th> <th>Mountain View Caltrain Station</th> <th>Mountain View City Hall</th> <th>Palo Alto Caltrain Station</th> <th>Park at Olive</th> <th>Paseo de San Antonio</th> <th>Post at Kearny</th> <th>Powell Street BART</th> <th>Powell at Post (Union Square)</th> <th>Redwood City Caltrain Station</th> <th>Redwood City Medical Center</th> <th>Redwood City Public Library</th> <th>Rengstorff Avenue / California Street</th> <th>Ryland Park</th> <th>SJSU - San Salvador at 9th</th> <th>SJSU 4th at San Carlos</th> <th>San Antonio Caltrain Station</th> <th>San Antonio Shopping Center</th> <th>San Francisco Caltrain (Townsend at 4th)</th> <th>San Francisco Caltrain 2 (330 Townsend)</th> <th>San Francisco City Hall</th> <th>San Jose City Hall</th> <th>San Jose Civic Center</th> <th>San Jose Diridon Caltrain Station</th> <th>San Mateo County Center</th> <th>San Pedro Square</th> <th>San Salvador at 1st</th> <th>Santa Clara County Civic Center</th> <th>Santa Clara at Almaden</th> <th>South Van Ness at Market</th> <th>Spear at Folsom</th> <th>St James Park</th> <th>Stanford in Redwood City</th> <th>Steuart at Market</th> <th>Temporary Transbay Terminal (Howard at Beale)</th> <th>Townsend at 7th</th> <th>University and Emerson</th> <th>Washington at Kearny</th> <th>Yerba Buena Center of the Arts (3rd @ Howard)</th>\n",
       "        </tr>\n",
       "    </thead>\n",
       "    <tbody>\n",
       "        <tr>\n",
       "            <td>2nd at Folsom                   </td> <td>54           </td> <td>190              </td> <td>554            </td> <td>107          </td> <td>0               </td> <td>0                       </td> <td>40             </td> <td>21                       </td> <td>0                              </td> <td>0                               </td> <td>44                               </td> <td>78             </td> <td>54                      </td> <td>0                   </td> <td>9               </td> <td>77                   </td> <td>32                   </td> <td>41                    </td> <td>14                    </td> <td>0                   </td> <td>0                </td> <td>11                 </td> <td>30                             </td> <td>416                                 </td> <td>53           </td> <td>0        </td> <td>0          </td> <td>169           </td> <td>114          </td> <td>302              </td> <td>33                                 </td> <td>0         </td> <td>0                             </td> <td>0                      </td> <td>0                         </td> <td>0            </td> <td>0                   </td> <td>60            </td> <td>121               </td> <td>88                           </td> <td>0                            </td> <td>0                          </td> <td>0                          </td> <td>0                                    </td> <td>0          </td> <td>0                         </td> <td>0                     </td> <td>0                           </td> <td>0                          </td> <td>694                                     </td> <td>445                                    </td> <td>21                     </td> <td>0                 </td> <td>0                    </td> <td>0                                </td> <td>0                      </td> <td>0               </td> <td>0                  </td> <td>0                              </td> <td>0                     </td> <td>38                      </td> <td>57             </td> <td>0            </td> <td>0                       </td> <td>39               </td> <td>237                                          </td> <td>342            </td> <td>0                     </td> <td>17                  </td> <td>31                                           </td>\n",
       "        </tr>\n",
       "        <tr>\n",
       "            <td>2nd at South Park               </td> <td>295          </td> <td>164              </td> <td>71             </td> <td>180          </td> <td>0               </td> <td>0                       </td> <td>208            </td> <td>85                       </td> <td>0                              </td> <td>0                               </td> <td>112                              </td> <td>87             </td> <td>160                     </td> <td>0                   </td> <td>37              </td> <td>56                   </td> <td>178                  </td> <td>83                    </td> <td>116                   </td> <td>0                   </td> <td>0                </td> <td>57                 </td> <td>73                             </td> <td>574                                 </td> <td>500          </td> <td>0        </td> <td>0          </td> <td>139           </td> <td>199          </td> <td>1633             </td> <td>119                                </td> <td>0         </td> <td>0                             </td> <td>0                      </td> <td>0                         </td> <td>0            </td> <td>0                   </td> <td>299           </td> <td>84                </td> <td>113                          </td> <td>0                            </td> <td>0                          </td> <td>0                          </td> <td>0                                    </td> <td>0          </td> <td>0                         </td> <td>0                     </td> <td>0                           </td> <td>0                          </td> <td>559                                     </td> <td>480                                    </td> <td>48                     </td> <td>0                 </td> <td>0                    </td> <td>0                                </td> <td>0                      </td> <td>0               </td> <td>0                  </td> <td>0                              </td> <td>0                     </td> <td>66                      </td> <td>152            </td> <td>0            </td> <td>0                       </td> <td>374              </td> <td>429                                          </td> <td>143            </td> <td>0                     </td> <td>63                  </td> <td>209                                          </td>\n",
       "        </tr>\n",
       "        <tr>\n",
       "            <td>2nd at Townsend                 </td> <td>437          </td> <td>151              </td> <td>185            </td> <td>92           </td> <td>0               </td> <td>0                       </td> <td>608            </td> <td>350                      </td> <td>0                              </td> <td>0                               </td> <td>80                               </td> <td>329            </td> <td>168                     </td> <td>0                   </td> <td>386             </td> <td>361                  </td> <td>658                  </td> <td>506                   </td> <td>254                   </td> <td>0                   </td> <td>0                </td> <td>27                 </td> <td>315                            </td> <td>2607                                </td> <td>295          </td> <td>0        </td> <td>0          </td> <td>110           </td> <td>225          </td> <td>845              </td> <td>177                                </td> <td>0         </td> <td>0                             </td> <td>0                      </td> <td>0                         </td> <td>0            </td> <td>0                   </td> <td>120           </td> <td>100               </td> <td>141                          </td> <td>0                            </td> <td>0                          </td> <td>0                          </td> <td>0                                    </td> <td>0          </td> <td>0                         </td> <td>0                     </td> <td>0                           </td> <td>0                          </td> <td>905                                     </td> <td>299                                    </td> <td>14                     </td> <td>0                 </td> <td>0                    </td> <td>0                                </td> <td>0                      </td> <td>0               </td> <td>0                  </td> <td>0                              </td> <td>0                     </td> <td>72                      </td> <td>508            </td> <td>0            </td> <td>0                       </td> <td>2349             </td> <td>784                                          </td> <td>417            </td> <td>0                     </td> <td>57                  </td> <td>166                                          </td>\n",
       "        </tr>\n",
       "        <tr>\n",
       "            <td>5th at Howard                   </td> <td>113          </td> <td>177              </td> <td>148            </td> <td>83           </td> <td>0               </td> <td>0                       </td> <td>59             </td> <td>130                      </td> <td>0                              </td> <td>0                               </td> <td>203                              </td> <td>76             </td> <td>129                     </td> <td>0                   </td> <td>30              </td> <td>57                   </td> <td>49                   </td> <td>166                   </td> <td>54                    </td> <td>0                   </td> <td>0                </td> <td>85                 </td> <td>78                             </td> <td>371                                 </td> <td>478          </td> <td>0        </td> <td>0          </td> <td>303           </td> <td>158          </td> <td>168              </td> <td>90                                 </td> <td>0         </td> <td>0                             </td> <td>0                      </td> <td>0                         </td> <td>0            </td> <td>0                   </td> <td>93            </td> <td>183               </td> <td>169                          </td> <td>0                            </td> <td>0                          </td> <td>0                          </td> <td>0                                    </td> <td>0          </td> <td>0                         </td> <td>0                     </td> <td>0                           </td> <td>0                          </td> <td>690                                     </td> <td>1859                                   </td> <td>48                     </td> <td>0                 </td> <td>0                    </td> <td>0                                </td> <td>0                      </td> <td>0               </td> <td>0                  </td> <td>0                              </td> <td>0                     </td> <td>116                     </td> <td>102            </td> <td>0            </td> <td>0                       </td> <td>182              </td> <td>750                                          </td> <td>200            </td> <td>0                     </td> <td>43                  </td> <td>267                                          </td>\n",
       "        </tr>\n",
       "        <tr>\n",
       "            <td>Adobe on Almaden                </td> <td>0            </td> <td>0                </td> <td>0              </td> <td>0            </td> <td>11              </td> <td>4                       </td> <td>0              </td> <td>0                        </td> <td>0                              </td> <td>0                               </td> <td>0                                </td> <td>0              </td> <td>0                       </td> <td>0                   </td> <td>0               </td> <td>0                    </td> <td>0                    </td> <td>0                     </td> <td>0                     </td> <td>0                   </td> <td>0                </td> <td>0                  </td> <td>0                              </td> <td>0                                   </td> <td>0            </td> <td>17       </td> <td>7          </td> <td>0             </td> <td>0            </td> <td>0                </td> <td>0                                  </td> <td>0         </td> <td>0                             </td> <td>0                      </td> <td>0                         </td> <td>0            </td> <td>25                  </td> <td>0             </td> <td>0                 </td> <td>0                            </td> <td>0                            </td> <td>0                          </td> <td>0                          </td> <td>0                                    </td> <td>7          </td> <td>7                         </td> <td>16                    </td> <td>0                           </td> <td>0                          </td> <td>0                                       </td> <td>0                                      </td> <td>0                      </td> <td>19                </td> <td>23                   </td> <td>265                              </td> <td>0                      </td> <td>20              </td> <td>4                  </td> <td>5                              </td> <td>10                    </td> <td>0                       </td> <td>0              </td> <td>14           </td> <td>0                       </td> <td>0                </td> <td>0                                            </td> <td>0              </td> <td>0                     </td> <td>0                   </td> <td>0                                            </td>\n",
       "        </tr>\n",
       "        <tr>\n",
       "            <td>Arena Green / SAP Center        </td> <td>0            </td> <td>0                </td> <td>0              </td> <td>0            </td> <td>7               </td> <td>64                      </td> <td>0              </td> <td>0                        </td> <td>0                              </td> <td>0                               </td> <td>0                                </td> <td>0              </td> <td>0                       </td> <td>0                   </td> <td>0               </td> <td>0                    </td> <td>0                    </td> <td>0                     </td> <td>0                     </td> <td>0                   </td> <td>0                </td> <td>0                  </td> <td>0                              </td> <td>0                                   </td> <td>0            </td> <td>16       </td> <td>5          </td> <td>0             </td> <td>0            </td> <td>0                </td> <td>0                                  </td> <td>0         </td> <td>0                             </td> <td>0                      </td> <td>0                         </td> <td>0            </td> <td>21                  </td> <td>0             </td> <td>0                 </td> <td>0                            </td> <td>0                            </td> <td>0                          </td> <td>0                          </td> <td>0                                    </td> <td>24         </td> <td>3                         </td> <td>7                     </td> <td>0                           </td> <td>0                          </td> <td>0                                       </td> <td>0                                      </td> <td>0                      </td> <td>6                 </td> <td>20                   </td> <td>7                                </td> <td>0                      </td> <td>56              </td> <td>12                 </td> <td>38                             </td> <td>259                   </td> <td>0                       </td> <td>0              </td> <td>13           </td> <td>0                       </td> <td>0                </td> <td>0                                            </td> <td>0              </td> <td>0                     </td> <td>0                   </td> <td>0                                            </td>\n",
       "        </tr>\n",
       "        <tr>\n",
       "            <td>Beale at Market                 </td> <td>127          </td> <td>79               </td> <td>183            </td> <td>59           </td> <td>0               </td> <td>0                       </td> <td>59             </td> <td>661                      </td> <td>0                              </td> <td>0                               </td> <td>201                              </td> <td>75             </td> <td>101                     </td> <td>0                   </td> <td>247             </td> <td>178                  </td> <td>38                   </td> <td>590                   </td> <td>165                   </td> <td>0                   </td> <td>0                </td> <td>54                 </td> <td>435                            </td> <td>57                                  </td> <td>72           </td> <td>0        </td> <td>0          </td> <td>286           </td> <td>236          </td> <td>163              </td> <td>26                                 </td> <td>0         </td> <td>0                             </td> <td>0                      </td> <td>0                         </td> <td>0            </td> <td>0                   </td> <td>49            </td> <td>227               </td> <td>179                          </td> <td>0                            </td> <td>0                          </td> <td>0                          </td> <td>0                                    </td> <td>0          </td> <td>0                         </td> <td>0                     </td> <td>0                           </td> <td>0                          </td> <td>640                                     </td> <td>269                                    </td> <td>25                     </td> <td>0                 </td> <td>0                    </td> <td>0                                </td> <td>0                      </td> <td>0               </td> <td>0                  </td> <td>0                              </td> <td>0                     </td> <td>243                     </td> <td>128            </td> <td>0            </td> <td>0                       </td> <td>16               </td> <td>167                                          </td> <td>35             </td> <td>0                     </td> <td>64                  </td> <td>45                                           </td>\n",
       "        </tr>\n",
       "        <tr>\n",
       "            <td>Broadway St at Battery St       </td> <td>67           </td> <td>89               </td> <td>279            </td> <td>119          </td> <td>0               </td> <td>0                       </td> <td>1022           </td> <td>110                      </td> <td>0                              </td> <td>0                               </td> <td>62                               </td> <td>283            </td> <td>226                     </td> <td>0                   </td> <td>191             </td> <td>198                  </td> <td>79                   </td> <td>231                   </td> <td>35                    </td> <td>0                   </td> <td>0                </td> <td>5                  </td> <td>70                             </td> <td>168                                 </td> <td>49           </td> <td>0        </td> <td>0          </td> <td>32            </td> <td>97           </td> <td>341              </td> <td>214                                </td> <td>0         </td> <td>0                             </td> <td>0                      </td> <td>0                         </td> <td>0            </td> <td>0                   </td> <td>169           </td> <td>71                </td> <td>218                          </td> <td>0                            </td> <td>0                          </td> <td>0                          </td> <td>0                                    </td> <td>0          </td> <td>0                         </td> <td>0                     </td> <td>0                           </td> <td>0                          </td> <td>685                                     </td> <td>438                                    </td> <td>7                      </td> <td>0                 </td> <td>0                    </td> <td>0                                </td> <td>0                      </td> <td>0               </td> <td>0                  </td> <td>0                              </td> <td>0                     </td> <td>18                      </td> <td>106            </td> <td>0            </td> <td>0                       </td> <td>344              </td> <td>748                                          </td> <td>50             </td> <td>0                     </td> <td>79                  </td> <td>47                                           </td>\n",
       "        </tr>\n",
       "        <tr>\n",
       "            <td>California Ave Caltrain Station </td> <td>0            </td> <td>0                </td> <td>0              </td> <td>0            </td> <td>0               </td> <td>0                       </td> <td>0              </td> <td>0                        </td> <td>38                             </td> <td>1                               </td> <td>0                                </td> <td>0              </td> <td>0                       </td> <td>29                  </td> <td>0               </td> <td>0                    </td> <td>0                    </td> <td>0                     </td> <td>0                     </td> <td>0                   </td> <td>0                </td> <td>0                  </td> <td>0                              </td> <td>0                                   </td> <td>0            </td> <td>0        </td> <td>0          </td> <td>0             </td> <td>0            </td> <td>0                </td> <td>0                                  </td> <td>0         </td> <td>1                             </td> <td>0                      </td> <td>192                       </td> <td>40           </td> <td>0                   </td> <td>0             </td> <td>0                 </td> <td>0                            </td> <td>0                            </td> <td>0                          </td> <td>0                          </td> <td>6                                    </td> <td>0          </td> <td>0                         </td> <td>0                     </td> <td>17                          </td> <td>10                         </td> <td>0                                       </td> <td>0                                      </td> <td>0                      </td> <td>0                 </td> <td>0                    </td> <td>0                                </td> <td>0                      </td> <td>0               </td> <td>0                  </td> <td>0                              </td> <td>0                     </td> <td>0                       </td> <td>0              </td> <td>0            </td> <td>0                       </td> <td>0                </td> <td>0                                            </td> <td>0              </td> <td>57                    </td> <td>0                   </td> <td>0                                            </td>\n",
       "        </tr>\n",
       "        <tr>\n",
       "            <td>Castro Street and El Camino Real</td> <td>0            </td> <td>0                </td> <td>0              </td> <td>0            </td> <td>0               </td> <td>0                       </td> <td>0              </td> <td>0                        </td> <td>0                              </td> <td>30                              </td> <td>0                                </td> <td>0              </td> <td>0                       </td> <td>0                   </td> <td>0               </td> <td>0                    </td> <td>0                    </td> <td>0                     </td> <td>0                     </td> <td>14                  </td> <td>0                </td> <td>0                  </td> <td>0                              </td> <td>0                                   </td> <td>0            </td> <td>0        </td> <td>0          </td> <td>0             </td> <td>0            </td> <td>0                </td> <td>0                                  </td> <td>0         </td> <td>931                           </td> <td>34                     </td> <td>0                         </td> <td>0            </td> <td>0                   </td> <td>0             </td> <td>0                 </td> <td>0                            </td> <td>0                            </td> <td>0                          </td> <td>0                          </td> <td>7                                    </td> <td>0          </td> <td>0                         </td> <td>0                     </td> <td>4                           </td> <td>12                         </td> <td>0                                       </td> <td>0                                      </td> <td>0                      </td> <td>0                 </td> <td>0                    </td> <td>0                                </td> <td>0                      </td> <td>0               </td> <td>0                  </td> <td>0                              </td> <td>0                     </td> <td>0                       </td> <td>0              </td> <td>0            </td> <td>0                       </td> <td>0                </td> <td>0                                            </td> <td>0              </td> <td>0                     </td> <td>0                   </td> <td>0                                            </td>\n",
       "        </tr>\n",
       "    </tbody>\n",
       "</table>\n",
       "<p>... (60 rows omitted)</p>"
      ],
      "text/plain": [
       "End Station                      | 2nd at Folsom | 2nd at South Park | 2nd at Townsend | 5th at Howard | Adobe on Almaden | Arena Green / SAP Center | Beale at Market | Broadway St at Battery St | California Ave Caltrain Station | Castro Street and El Camino Real | Civic Center BART (7th at Market) | Clay at Battery | Commercial at Montgomery | Cowper at University | Davis at Jackson | Embarcadero at Bryant | Embarcadero at Folsom | Embarcadero at Sansome | Embarcadero at Vallejo | Evelyn Park and Ride | Franklin at Maple | Golden Gate at Polk | Grant Avenue at Columbus Avenue | Harry Bridges Plaza (Ferry Building) | Howard at 2nd | Japantown | MLK Library | Market at 10th | Market at 4th | Market at Sansome | Mechanics Plaza (Market at Battery) | Mezes Park | Mountain View Caltrain Station | Mountain View City Hall | Palo Alto Caltrain Station | Park at Olive | Paseo de San Antonio | Post at Kearny | Powell Street BART | Powell at Post (Union Square) | Redwood City Caltrain Station | Redwood City Medical Center | Redwood City Public Library | Rengstorff Avenue / California Street | Ryland Park | SJSU - San Salvador at 9th | SJSU 4th at San Carlos | San Antonio Caltrain Station | San Antonio Shopping Center | San Francisco Caltrain (Townsend at 4th) | San Francisco Caltrain 2 (330 Townsend) | San Francisco City Hall | San Jose City Hall | San Jose Civic Center | San Jose Diridon Caltrain Station | San Mateo County Center | San Pedro Square | San Salvador at 1st | Santa Clara County Civic Center | Santa Clara at Almaden | South Van Ness at Market | Spear at Folsom | St James Park | Stanford in Redwood City | Steuart at Market | Temporary Transbay Terminal (Howard at Beale) | Townsend at 7th | University and Emerson | Washington at Kearny | Yerba Buena Center of the Arts (3rd @ Howard)\n",
       "2nd at Folsom                    | 54            | 190               | 554             | 107           | 0                | 0                        | 40              | 21                        | 0                               | 0                                | 44                                | 78              | 54                       | 0                    | 9                | 77                    | 32                    | 41                     | 14                     | 0                    | 0                 | 11                  | 30                              | 416                                  | 53            | 0         | 0           | 169            | 114           | 302               | 33                                  | 0          | 0                              | 0                       | 0                          | 0             | 0                    | 60             | 121                | 88                            | 0                             | 0                           | 0                           | 0                                     | 0           | 0                          | 0                      | 0                            | 0                           | 694                                      | 445                                     | 21                      | 0                  | 0                     | 0                                 | 0                       | 0                | 0                   | 0                               | 0                      | 38                       | 57              | 0             | 0                        | 39                | 237                                           | 342             | 0                      | 17                   | 31\n",
       "2nd at South Park                | 295           | 164               | 71              | 180           | 0                | 0                        | 208             | 85                        | 0                               | 0                                | 112                               | 87              | 160                      | 0                    | 37               | 56                    | 178                   | 83                     | 116                    | 0                    | 0                 | 57                  | 73                              | 574                                  | 500           | 0         | 0           | 139            | 199           | 1633              | 119                                 | 0          | 0                              | 0                       | 0                          | 0             | 0                    | 299            | 84                 | 113                           | 0                             | 0                           | 0                           | 0                                     | 0           | 0                          | 0                      | 0                            | 0                           | 559                                      | 480                                     | 48                      | 0                  | 0                     | 0                                 | 0                       | 0                | 0                   | 0                               | 0                      | 66                       | 152             | 0             | 0                        | 374               | 429                                           | 143             | 0                      | 63                   | 209\n",
       "2nd at Townsend                  | 437           | 151               | 185             | 92            | 0                | 0                        | 608             | 350                       | 0                               | 0                                | 80                                | 329             | 168                      | 0                    | 386              | 361                   | 658                   | 506                    | 254                    | 0                    | 0                 | 27                  | 315                             | 2607                                 | 295           | 0         | 0           | 110            | 225           | 845               | 177                                 | 0          | 0                              | 0                       | 0                          | 0             | 0                    | 120            | 100                | 141                           | 0                             | 0                           | 0                           | 0                                     | 0           | 0                          | 0                      | 0                            | 0                           | 905                                      | 299                                     | 14                      | 0                  | 0                     | 0                                 | 0                       | 0                | 0                   | 0                               | 0                      | 72                       | 508             | 0             | 0                        | 2349              | 784                                           | 417             | 0                      | 57                   | 166\n",
       "5th at Howard                    | 113           | 177               | 148             | 83            | 0                | 0                        | 59              | 130                       | 0                               | 0                                | 203                               | 76              | 129                      | 0                    | 30               | 57                    | 49                    | 166                    | 54                     | 0                    | 0                 | 85                  | 78                              | 371                                  | 478           | 0         | 0           | 303            | 158           | 168               | 90                                  | 0          | 0                              | 0                       | 0                          | 0             | 0                    | 93             | 183                | 169                           | 0                             | 0                           | 0                           | 0                                     | 0           | 0                          | 0                      | 0                            | 0                           | 690                                      | 1859                                    | 48                      | 0                  | 0                     | 0                                 | 0                       | 0                | 0                   | 0                               | 0                      | 116                      | 102             | 0             | 0                        | 182               | 750                                           | 200             | 0                      | 43                   | 267\n",
       "Adobe on Almaden                 | 0             | 0                 | 0               | 0             | 11               | 4                        | 0               | 0                         | 0                               | 0                                | 0                                 | 0               | 0                        | 0                    | 0                | 0                     | 0                     | 0                      | 0                      | 0                    | 0                 | 0                   | 0                               | 0                                    | 0             | 17        | 7           | 0              | 0             | 0                 | 0                                   | 0          | 0                              | 0                       | 0                          | 0             | 25                   | 0              | 0                  | 0                             | 0                             | 0                           | 0                           | 0                                     | 7           | 7                          | 16                     | 0                            | 0                           | 0                                        | 0                                       | 0                       | 19                 | 23                    | 265                               | 0                       | 20               | 4                   | 5                               | 10                     | 0                        | 0               | 14            | 0                        | 0                 | 0                                             | 0               | 0                      | 0                    | 0\n",
       "Arena Green / SAP Center         | 0             | 0                 | 0               | 0             | 7                | 64                       | 0               | 0                         | 0                               | 0                                | 0                                 | 0               | 0                        | 0                    | 0                | 0                     | 0                     | 0                      | 0                      | 0                    | 0                 | 0                   | 0                               | 0                                    | 0             | 16        | 5           | 0              | 0             | 0                 | 0                                   | 0          | 0                              | 0                       | 0                          | 0             | 21                   | 0              | 0                  | 0                             | 0                             | 0                           | 0                           | 0                                     | 24          | 3                          | 7                      | 0                            | 0                           | 0                                        | 0                                       | 0                       | 6                  | 20                    | 7                                 | 0                       | 56               | 12                  | 38                              | 259                    | 0                        | 0               | 13            | 0                        | 0                 | 0                                             | 0               | 0                      | 0                    | 0\n",
       "Beale at Market                  | 127           | 79                | 183             | 59            | 0                | 0                        | 59              | 661                       | 0                               | 0                                | 201                               | 75              | 101                      | 0                    | 247              | 178                   | 38                    | 590                    | 165                    | 0                    | 0                 | 54                  | 435                             | 57                                   | 72            | 0         | 0           | 286            | 236           | 163               | 26                                  | 0          | 0                              | 0                       | 0                          | 0             | 0                    | 49             | 227                | 179                           | 0                             | 0                           | 0                           | 0                                     | 0           | 0                          | 0                      | 0                            | 0                           | 640                                      | 269                                     | 25                      | 0                  | 0                     | 0                                 | 0                       | 0                | 0                   | 0                               | 0                      | 243                      | 128             | 0             | 0                        | 16                | 167                                           | 35              | 0                      | 64                   | 45\n",
       "Broadway St at Battery St        | 67            | 89                | 279             | 119           | 0                | 0                        | 1022            | 110                       | 0                               | 0                                | 62                                | 283             | 226                      | 0                    | 191              | 198                   | 79                    | 231                    | 35                     | 0                    | 0                 | 5                   | 70                              | 168                                  | 49            | 0         | 0           | 32             | 97            | 341               | 214                                 | 0          | 0                              | 0                       | 0                          | 0             | 0                    | 169            | 71                 | 218                           | 0                             | 0                           | 0                           | 0                                     | 0           | 0                          | 0                      | 0                            | 0                           | 685                                      | 438                                     | 7                       | 0                  | 0                     | 0                                 | 0                       | 0                | 0                   | 0                               | 0                      | 18                       | 106             | 0             | 0                        | 344               | 748                                           | 50              | 0                      | 79                   | 47\n",
       "California Ave Caltrain Station  | 0             | 0                 | 0               | 0             | 0                | 0                        | 0               | 0                         | 38                              | 1                                | 0                                 | 0               | 0                        | 29                   | 0                | 0                     | 0                     | 0                      | 0                      | 0                    | 0                 | 0                   | 0                               | 0                                    | 0             | 0         | 0           | 0              | 0             | 0                 | 0                                   | 0          | 1                              | 0                       | 192                        | 40            | 0                    | 0              | 0                  | 0                             | 0                             | 0                           | 0                           | 6                                     | 0           | 0                          | 0                      | 17                           | 10                          | 0                                        | 0                                       | 0                       | 0                  | 0                     | 0                                 | 0                       | 0                | 0                   | 0                               | 0                      | 0                        | 0               | 0             | 0                        | 0                 | 0                                             | 0               | 57                     | 0                    | 0\n",
       "Castro Street and El Camino Real | 0             | 0                 | 0               | 0             | 0                | 0                        | 0               | 0                         | 0                               | 30                               | 0                                 | 0               | 0                        | 0                    | 0                | 0                     | 0                     | 0                      | 0                      | 14                   | 0                 | 0                   | 0                               | 0                                    | 0             | 0         | 0           | 0              | 0             | 0                 | 0                                   | 0          | 931                            | 34                      | 0                          | 0             | 0                    | 0              | 0                  | 0                             | 0                             | 0                           | 0                           | 7                                     | 0           | 0                          | 0                      | 4                            | 12                          | 0                                        | 0                                       | 0                       | 0                  | 0                     | 0                                 | 0                       | 0                | 0                   | 0                               | 0                      | 0                        | 0               | 0             | 0                        | 0                 | 0                                             | 0               | 0                      | 0                    | 0\n",
       "... (60 rows omitted)"
      ]
     },
     "execution_count": 108,
     "metadata": {},
     "output_type": "execute_result"
    }
   ],
   "source": [
    "commute.pivot('Start Station', 'End Station')"
   ]
  },
  {
   "cell_type": "code",
   "execution_count": 109,
   "metadata": {},
   "outputs": [
    {
     "data": {
      "text/html": [
       "<table border=\"1\" class=\"dataframe\">\n",
       "    <thead>\n",
       "        <tr>\n",
       "            <th>Start Station</th> <th>End Station</th> <th>Duration</th>\n",
       "        </tr>\n",
       "    </thead>\n",
       "    <tbody>\n",
       "        <tr>\n",
       "            <td>Harry Bridges Plaza (Ferry Building)         </td> <td>San Francisco Caltrain (Townsend at 4th)     </td> <td>765     </td>\n",
       "        </tr>\n",
       "        <tr>\n",
       "            <td>San Antonio Shopping Center                  </td> <td>Mountain View City Hall                      </td> <td>1036    </td>\n",
       "        </tr>\n",
       "        <tr>\n",
       "            <td>Post at Kearny                               </td> <td>2nd at South Park                            </td> <td>307     </td>\n",
       "        </tr>\n",
       "        <tr>\n",
       "            <td>San Jose City Hall                           </td> <td>San Salvador at 1st                          </td> <td>409     </td>\n",
       "        </tr>\n",
       "        <tr>\n",
       "            <td>Embarcadero at Folsom                        </td> <td>Embarcadero at Sansome                       </td> <td>789     </td>\n",
       "        </tr>\n",
       "        <tr>\n",
       "            <td>Yerba Buena Center of the Arts (3rd @ Howard)</td> <td>San Francisco Caltrain (Townsend at 4th)     </td> <td>293     </td>\n",
       "        </tr>\n",
       "        <tr>\n",
       "            <td>Embarcadero at Folsom                        </td> <td>Embarcadero at Sansome                       </td> <td>896     </td>\n",
       "        </tr>\n",
       "        <tr>\n",
       "            <td>Embarcadero at Sansome                       </td> <td>Steuart at Market                            </td> <td>255     </td>\n",
       "        </tr>\n",
       "        <tr>\n",
       "            <td>Beale at Market                              </td> <td>Temporary Transbay Terminal (Howard at Beale)</td> <td>126     </td>\n",
       "        </tr>\n",
       "        <tr>\n",
       "            <td>Post at Kearny                               </td> <td>South Van Ness at Market                     </td> <td>932     </td>\n",
       "        </tr>\n",
       "    </tbody>\n",
       "</table>\n",
       "<p>... (354142 rows omitted)</p>"
      ],
      "text/plain": [
       "Start Station                                 | End Station                                   | Duration\n",
       "Harry Bridges Plaza (Ferry Building)          | San Francisco Caltrain (Townsend at 4th)      | 765\n",
       "San Antonio Shopping Center                   | Mountain View City Hall                       | 1036\n",
       "Post at Kearny                                | 2nd at South Park                             | 307\n",
       "San Jose City Hall                            | San Salvador at 1st                           | 409\n",
       "Embarcadero at Folsom                         | Embarcadero at Sansome                        | 789\n",
       "Yerba Buena Center of the Arts (3rd @ Howard) | San Francisco Caltrain (Townsend at 4th)      | 293\n",
       "Embarcadero at Folsom                         | Embarcadero at Sansome                        | 896\n",
       "Embarcadero at Sansome                        | Steuart at Market                             | 255\n",
       "Beale at Market                               | Temporary Transbay Terminal (Howard at Beale) | 126\n",
       "Post at Kearny                                | South Van Ness at Market                      | 932\n",
       "... (354142 rows omitted)"
      ]
     },
     "execution_count": 109,
     "metadata": {},
     "output_type": "execute_result"
    }
   ],
   "source": [
    "duration = trips.select(3, 6, 1)\n",
    "duration"
   ]
  },
  {
   "cell_type": "markdown",
   "metadata": {},
   "source": [
    "Discussion: What does the following line of code do?"
   ]
  },
  {
   "cell_type": "code",
   "execution_count": 110,
   "metadata": {},
   "outputs": [
    {
     "data": {
      "text/html": [
       "<table border=\"1\" class=\"dataframe\">\n",
       "    <thead>\n",
       "        <tr>\n",
       "            <th>Start Station</th> <th>End Station</th> <th>Duration min</th>\n",
       "        </tr>\n",
       "    </thead>\n",
       "    <tbody>\n",
       "        <tr>\n",
       "            <td>2nd at Folsom</td> <td>2nd at Folsom                    </td> <td>61          </td>\n",
       "        </tr>\n",
       "        <tr>\n",
       "            <td>2nd at Folsom</td> <td>2nd at South Park                </td> <td>61          </td>\n",
       "        </tr>\n",
       "        <tr>\n",
       "            <td>2nd at Folsom</td> <td>2nd at Townsend                  </td> <td>137         </td>\n",
       "        </tr>\n",
       "        <tr>\n",
       "            <td>2nd at Folsom</td> <td>5th at Howard                    </td> <td>215         </td>\n",
       "        </tr>\n",
       "        <tr>\n",
       "            <td>2nd at Folsom</td> <td>Beale at Market                  </td> <td>219         </td>\n",
       "        </tr>\n",
       "        <tr>\n",
       "            <td>2nd at Folsom</td> <td>Broadway St at Battery St        </td> <td>351         </td>\n",
       "        </tr>\n",
       "        <tr>\n",
       "            <td>2nd at Folsom</td> <td>Civic Center BART (7th at Market)</td> <td>456         </td>\n",
       "        </tr>\n",
       "        <tr>\n",
       "            <td>2nd at Folsom</td> <td>Clay at Battery                  </td> <td>272         </td>\n",
       "        </tr>\n",
       "        <tr>\n",
       "            <td>2nd at Folsom</td> <td>Commercial at Montgomery         </td> <td>275         </td>\n",
       "        </tr>\n",
       "        <tr>\n",
       "            <td>2nd at Folsom</td> <td>Davis at Jackson                 </td> <td>396         </td>\n",
       "        </tr>\n",
       "    </tbody>\n",
       "</table>\n",
       "<p>... (1682 rows omitted)</p>"
      ],
      "text/plain": [
       "Start Station | End Station                       | Duration min\n",
       "2nd at Folsom | 2nd at Folsom                     | 61\n",
       "2nd at Folsom | 2nd at South Park                 | 61\n",
       "2nd at Folsom | 2nd at Townsend                   | 137\n",
       "2nd at Folsom | 5th at Howard                     | 215\n",
       "2nd at Folsom | Beale at Market                   | 219\n",
       "2nd at Folsom | Broadway St at Battery St         | 351\n",
       "2nd at Folsom | Civic Center BART (7th at Market) | 456\n",
       "2nd at Folsom | Clay at Battery                   | 272\n",
       "2nd at Folsom | Commercial at Montgomery          | 275\n",
       "2nd at Folsom | Davis at Jackson                  | 396\n",
       "... (1682 rows omitted)"
      ]
     },
     "execution_count": 110,
     "metadata": {},
     "output_type": "execute_result"
    }
   ],
   "source": [
    "shortest = duration.group([0, 1], min)\n",
    "shortest"
   ]
  },
  {
   "cell_type": "code",
   "execution_count": 111,
   "metadata": {},
   "outputs": [
    {
     "data": {
      "text/html": [
       "<table border=\"1\" class=\"dataframe\">\n",
       "    <thead>\n",
       "        <tr>\n",
       "            <th>Start Station</th> <th>End Station</th> <th>Duration min</th>\n",
       "        </tr>\n",
       "    </thead>\n",
       "    <tbody>\n",
       "        <tr>\n",
       "            <td>Civic Center BART (7th at Market)</td> <td>Civic Center BART (7th at Market)</td> <td>60          </td>\n",
       "        </tr>\n",
       "        <tr>\n",
       "            <td>Civic Center BART (7th at Market)</td> <td>Powell Street BART               </td> <td>97          </td>\n",
       "        </tr>\n",
       "        <tr>\n",
       "            <td>Civic Center BART (7th at Market)</td> <td>Market at 10th                   </td> <td>104         </td>\n",
       "        </tr>\n",
       "        <tr>\n",
       "            <td>Civic Center BART (7th at Market)</td> <td>Golden Gate at Polk              </td> <td>141         </td>\n",
       "        </tr>\n",
       "        <tr>\n",
       "            <td>Civic Center BART (7th at Market)</td> <td>San Francisco City Hall          </td> <td>151         </td>\n",
       "        </tr>\n",
       "        <tr>\n",
       "            <td>Civic Center BART (7th at Market)</td> <td>Market at 4th                    </td> <td>164         </td>\n",
       "        </tr>\n",
       "        <tr>\n",
       "            <td>Civic Center BART (7th at Market)</td> <td>5th at Howard                    </td> <td>179         </td>\n",
       "        </tr>\n",
       "        <tr>\n",
       "            <td>Civic Center BART (7th at Market)</td> <td>South Van Ness at Market         </td> <td>199         </td>\n",
       "        </tr>\n",
       "        <tr>\n",
       "            <td>Civic Center BART (7th at Market)</td> <td>Market at Sansome                </td> <td>254         </td>\n",
       "        </tr>\n",
       "        <tr>\n",
       "            <td>Civic Center BART (7th at Market)</td> <td>Powell at Post (Union Square)    </td> <td>254         </td>\n",
       "        </tr>\n",
       "    </tbody>\n",
       "</table>\n",
       "<p>... (25 rows omitted)</p>"
      ],
      "text/plain": [
       "Start Station                     | End Station                       | Duration min\n",
       "Civic Center BART (7th at Market) | Civic Center BART (7th at Market) | 60\n",
       "Civic Center BART (7th at Market) | Powell Street BART                | 97\n",
       "Civic Center BART (7th at Market) | Market at 10th                    | 104\n",
       "Civic Center BART (7th at Market) | Golden Gate at Polk               | 141\n",
       "Civic Center BART (7th at Market) | San Francisco City Hall           | 151\n",
       "Civic Center BART (7th at Market) | Market at 4th                     | 164\n",
       "Civic Center BART (7th at Market) | 5th at Howard                     | 179\n",
       "Civic Center BART (7th at Market) | South Van Ness at Market          | 199\n",
       "Civic Center BART (7th at Market) | Market at Sansome                 | 254\n",
       "Civic Center BART (7th at Market) | Powell at Post (Union Square)     | 254\n",
       "... (25 rows omitted)"
      ]
     },
     "execution_count": 111,
     "metadata": {},
     "output_type": "execute_result"
    }
   ],
   "source": [
    "from_cc = shortest.where(0, are.containing('Civic Center BART')).sort(2)\n",
    "from_cc"
   ]
  },
  {
   "cell_type": "markdown",
   "metadata": {},
   "source": [
    "## Maps"
   ]
  },
  {
   "cell_type": "code",
   "execution_count": 112,
   "metadata": {},
   "outputs": [
    {
     "data": {
      "text/html": [
       "<table border=\"1\" class=\"dataframe\">\n",
       "    <thead>\n",
       "        <tr>\n",
       "            <th>station_id</th> <th>name</th> <th>lat</th> <th>long</th> <th>dockcount</th> <th>landmark</th> <th>installation</th>\n",
       "        </tr>\n",
       "    </thead>\n",
       "    <tbody>\n",
       "        <tr>\n",
       "            <td>2         </td> <td>San Jose Diridon Caltrain Station</td> <td>37.3297</td> <td>-121.902</td> <td>27       </td> <td>San Jose</td> <td>8/6/2013    </td>\n",
       "        </tr>\n",
       "        <tr>\n",
       "            <td>3         </td> <td>San Jose Civic Center            </td> <td>37.3307</td> <td>-121.889</td> <td>15       </td> <td>San Jose</td> <td>8/5/2013    </td>\n",
       "        </tr>\n",
       "        <tr>\n",
       "            <td>4         </td> <td>Santa Clara at Almaden           </td> <td>37.334 </td> <td>-121.895</td> <td>11       </td> <td>San Jose</td> <td>8/6/2013    </td>\n",
       "        </tr>\n",
       "        <tr>\n",
       "            <td>5         </td> <td>Adobe on Almaden                 </td> <td>37.3314</td> <td>-121.893</td> <td>19       </td> <td>San Jose</td> <td>8/5/2013    </td>\n",
       "        </tr>\n",
       "        <tr>\n",
       "            <td>6         </td> <td>San Pedro Square                 </td> <td>37.3367</td> <td>-121.894</td> <td>15       </td> <td>San Jose</td> <td>8/7/2013    </td>\n",
       "        </tr>\n",
       "        <tr>\n",
       "            <td>7         </td> <td>Paseo de San Antonio             </td> <td>37.3338</td> <td>-121.887</td> <td>15       </td> <td>San Jose</td> <td>8/7/2013    </td>\n",
       "        </tr>\n",
       "        <tr>\n",
       "            <td>8         </td> <td>San Salvador at 1st              </td> <td>37.3302</td> <td>-121.886</td> <td>15       </td> <td>San Jose</td> <td>8/5/2013    </td>\n",
       "        </tr>\n",
       "        <tr>\n",
       "            <td>9         </td> <td>Japantown                        </td> <td>37.3487</td> <td>-121.895</td> <td>15       </td> <td>San Jose</td> <td>8/5/2013    </td>\n",
       "        </tr>\n",
       "        <tr>\n",
       "            <td>10        </td> <td>San Jose City Hall               </td> <td>37.3374</td> <td>-121.887</td> <td>15       </td> <td>San Jose</td> <td>8/6/2013    </td>\n",
       "        </tr>\n",
       "        <tr>\n",
       "            <td>11        </td> <td>MLK Library                      </td> <td>37.3359</td> <td>-121.886</td> <td>19       </td> <td>San Jose</td> <td>8/6/2013    </td>\n",
       "        </tr>\n",
       "    </tbody>\n",
       "</table>\n",
       "<p>... (60 rows omitted)</p>"
      ],
      "text/plain": [
       "station_id | name                              | lat     | long     | dockcount | landmark | installation\n",
       "2          | San Jose Diridon Caltrain Station | 37.3297 | -121.902 | 27        | San Jose | 8/6/2013\n",
       "3          | San Jose Civic Center             | 37.3307 | -121.889 | 15        | San Jose | 8/5/2013\n",
       "4          | Santa Clara at Almaden            | 37.334  | -121.895 | 11        | San Jose | 8/6/2013\n",
       "5          | Adobe on Almaden                  | 37.3314 | -121.893 | 19        | San Jose | 8/5/2013\n",
       "6          | San Pedro Square                  | 37.3367 | -121.894 | 15        | San Jose | 8/7/2013\n",
       "7          | Paseo de San Antonio              | 37.3338 | -121.887 | 15        | San Jose | 8/7/2013\n",
       "8          | San Salvador at 1st               | 37.3302 | -121.886 | 15        | San Jose | 8/5/2013\n",
       "9          | Japantown                         | 37.3487 | -121.895 | 15        | San Jose | 8/5/2013\n",
       "10         | San Jose City Hall                | 37.3374 | -121.887 | 15        | San Jose | 8/6/2013\n",
       "11         | MLK Library                       | 37.3359 | -121.886 | 19        | San Jose | 8/6/2013\n",
       "... (60 rows omitted)"
      ]
     },
     "execution_count": 112,
     "metadata": {},
     "output_type": "execute_result"
    }
   ],
   "source": [
    "stations = Table.read_table('station.csv')\n",
    "stations"
   ]
  },
  {
   "cell_type": "code",
   "execution_count": 113,
   "metadata": {},
   "outputs": [
    {
     "data": {
      "text/html": [
       "<div style=\"width:100%;\"><div style=\"position:relative;width:100%;height:0;padding-bottom:60%;\"><iframe src=\"data:text/html;charset=utf-8;base64,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\" style=\"position:absolute;width:100%;height:100%;left:0;top:0;border:none !important;\" allowfullscreen webkitallowfullscreen mozallowfullscreen></iframe></div></div>"
      ],
      "text/plain": [
       "<datascience.maps.Map at 0x7f81c9436358>"
      ]
     },
     "execution_count": 113,
     "metadata": {},
     "output_type": "execute_result"
    }
   ],
   "source": [
    "Marker.map_table(stations.select('lat', 'long', 'name'))"
   ]
  },
  {
   "cell_type": "code",
   "execution_count": 115,
   "metadata": {},
   "outputs": [
    {
     "data": {
      "text/html": [
       "<div style=\"width:100%;\"><div style=\"position:relative;width:100%;height:0;padding-bottom:60%;\"><iframe src=\"data:text/html;charset=utf-8;base64,PCFET0NUWVBFIGh0bWw+CjxoZWFkPiAgICAKICAgIDxtZXRhIGh0dHAtZXF1aXY9ImNvbnRlbnQtdHlwZSIgY29udGVudD0idGV4dC9odG1sOyBjaGFyc2V0PVVURi04IiAvPgogICAgCiAgICAgICAgPHNjcmlwdD4KICAgICAgICAgICAgTF9OT19UT1VDSCA9IGZhbHNlOwogICAgICAgICAgICBMX0RJU0FCTEVfM0QgPSBmYWxzZTsKICAgICAgICA8L3NjcmlwdD4KICAgIAogICAgPHNjcmlwdCBzcmM9Imh0dHBzOi8vY2RuLmpzZGVsaXZyLm5ldC9ucG0vbGVhZmxldEAxLjUuMS9kaXN0L2xlYWZsZXQuanMiPjwvc2NyaXB0PgogICAgPHNjcmlwdCBzcmM9Imh0dHBzOi8vY29kZS5qcXVlcnkuY29tL2pxdWVyeS0xLjEyLjQubWluLmpzIj48L3NjcmlwdD4KICAgIDxzY3JpcHQgc3JjPSJodHRwczovL21heGNkbi5ib290c3RyYXBjZG4uY29tL2Jvb3RzdHJhcC8zLjIuMC9qcy9ib290c3RyYXAubWluLmpzIj48L3NjcmlwdD4KICAgIDxzY3JpcHQgc3JjPSJodHRwczovL2NkbmpzLmNsb3VkZmxhcmUuY29tL2FqYXgvbGlicy9MZWFmbGV0LmF3ZXNvbWUtbWFya2Vycy8yLjAuMi9sZWFmbGV0LmF3ZXNvbWUtbWFya2Vycy5qcyI+PC9zY3JpcHQ+CiAgICA8bGluayByZWw9InN0eWxlc2hlZXQiIGhyZWY9Imh0dHBzOi8vY2RuLmpzZGVsaXZyLm5ldC9ucG0vbGVhZmxldEAxLjUuMS9kaXN0L2xlYWZsZXQuY3NzIi8+CiAgICA8bGluayByZWw9InN0eWxlc2hlZXQiIGhyZWY9Imh0dHBzOi8vbWF4Y2RuLmJvb3RzdHJhcGNkbi5jb20vYm9vdHN0cmFwLzMuMi4wL2Nzcy9ib290c3RyYXAubWluLmNzcyIvPgogICAgPGxpbmsgcmVsPSJzdHlsZXNoZWV0IiBocmVmPSJodHRwczovL21heGNkbi5ib290c3RyYXBjZG4uY29tL2Jvb3RzdHJhcC8zLjIuMC9jc3MvYm9vdHN0cmFwLXRoZW1lLm1pbi5jc3MiLz4KICAgIDxsaW5rIHJlbD0ic3R5bGVzaGVldCIgaHJlZj0iaHR0cHM6Ly9tYXhjZG4uYm9vdHN0cmFwY2RuLmNvbS9mb250LWF3ZXNvbWUvNC42LjMvY3NzL2ZvbnQtYXdlc29tZS5taW4uY3NzIi8+CiAgICA8bGluayByZWw9InN0eWxlc2hlZXQiIGhyZWY9Imh0dHBzOi8vY2RuanMuY2xvdWRmbGFyZS5jb20vYWpheC9saWJzL0xlYWZsZXQuYXdlc29tZS1tYXJrZXJzLzIuMC4yL2xlYWZsZXQuYXdlc29tZS1tYXJrZXJzLmNzcyIvPgogICAgPGxpbmsgcmVsPSJzdHlsZXNoZWV0IiBocmVmPSJodHRwczovL3Jhd2Nkbi5naXRoYWNrLmNvbS9weXRob24tdmlzdWFsaXphdGlvbi9mb2xpdW0vbWFzdGVyL2ZvbGl1bS90ZW1wbGF0ZXMvbGVhZmxldC5hd2Vzb21lLnJvdGF0ZS5jc3MiLz4KICAgIDxzdHlsZT5odG1sLCBib2R5IHt3aWR0aDogMTAwJTtoZWlnaHQ6IDEwMCU7bWFyZ2luOiAwO3BhZGRpbmc6IDA7fTwvc3R5bGU+CiAgICA8c3R5bGU+I21hcCB7cG9zaXRpb246YWJzb2x1dGU7dG9wOjA7Ym90dG9tOjA7cmlnaHQ6MDtsZWZ0OjA7fTwvc3R5bGU+CiAgICAKICAgICAgICAgICAgPG1ldGEgbmFtZT0idmlld3BvcnQiIGNvbnRlbnQ9IndpZHRoPWRldmljZS13aWR0aCwKICAgICAgICAgICAgICAgIGluaXRpYWwtc2NhbGU9MS4wLCBtYXhpbXVtLXNjYWxlPTEuMCwgdXNlci1zY2FsYWJsZT1ubyIgLz4KICAgICAgICAgICAgPHN0eWxlPgogICAgICAgICAgICAgICAgI21hcF9iMTY3MzhjYzI5OGU0OWE4OGM5Y2I0OGQ1YzI5ZmJhOCB7CiAgICAgICAgICAgICAgICAgICAgcG9zaXRpb246IHJlbGF0aXZlOwogICAgICAgICAgICAgICAgICAgIHdpZHRoOiA5NjAuMHB4OwogICAgICAgICAgICAgICAgICAgIGhlaWdodDogNTAwLjBweDsKICAgICAgICAgICAgICAgICAgICBsZWZ0OiAwLjAlOwogICAgICAgICAgICAgICAgICAgIHRvcDogMC4wJTsKICAgICAgICAgICAgICAgIH0KICAgICAgICAgICAgPC9zdHlsZT4KICAgICAgICAKPC9oZWFkPgo8Ym9keT4gICAgCiAgICAKICAgICAgICAgICAgPGRpdiBjbGFzcz0iZm9saXVtLW1hcCIgaWQ9Im1hcF9iMTY3MzhjYzI5OGU0OWE4OGM5Y2I0OGQ1YzI5ZmJhOCIgPjwvZGl2PgogICAgICAgIAo8L2JvZHk+CjxzY3JpcHQ+ICAgIAogICAgCiAgICAgICAgICAgIHZhciBtYXBfYjE2NzM4Y2MyOThlNDlhODhjOWNiNDhkNWMyOWZiYTggPSBMLm1hcCgKICAgICAgICAgICAgICAgICJtYXBfYjE2NzM4Y2MyOThlNDlhODhjOWNiNDhkNWMyOWZiYTgiLAogICAgICAgICAgICAgICAgewogICAgICAgICAgICAgICAgICAgIGNlbnRlcjogWzM3Ljc4NzkxNCwgLTEyMi40MDM0ODM1XSwKICAgICAgICAgICAgICAgICAgICBjcnM6IEwuQ1JTLkVQU0czODU3LAogICAgICAgICAgICAgICAgICAgIHpvb206IDEyLjAsCiAgICAgICAgICAgICAgICAgICAgem9vbUNvbnRyb2w6IHRydWUsCiAgICAgICAgICAgICAgICAgICAgcHJlZmVyQ2FudmFzOiBmYWxzZSwKICAgICAgICAgICAgICAgICAgICBjbHVzdGVyZWRNYXJrZXI6IGZhbHNlLAogICAgICAgICAgICAgICAgfQogICAgICAgICAgICApOwoKICAgICAgICAgICAgCgogICAgICAgIAogICAgCiAgICAgICAgICAgIHZhciB0aWxlX2xheWVyX2Q3NTVjODkwM2JlMTQ3OTA5OTU5NmRlM2IzOGZhYzM4ID0gTC50aWxlTGF5ZXIoCiAgICAgICAgICAgICAgICAiaHR0cHM6Ly97c30udGlsZS5vcGVuc3RyZWV0bWFwLm9yZy97en0ve3h9L3t5fS5wbmciLAogICAgICAgICAgICAgICAgeyJhdHRyaWJ1dGlvbiI6ICJEYXRhIGJ5IFx1MDAyNmNvcHk7IFx1MDAzY2EgaHJlZj1cImh0dHA6Ly9vcGVuc3RyZWV0bWFwLm9yZ1wiXHUwMDNlT3BlblN0cmVldE1hcFx1MDAzYy9hXHUwMDNlLCB1bmRlciBcdTAwM2NhIGhyZWY9XCJodHRwOi8vd3d3Lm9wZW5zdHJlZXRtYXAub3JnL2NvcHlyaWdodFwiXHUwMDNlT0RiTFx1MDAzYy9hXHUwMDNlLiIsICJkZXRlY3RSZXRpbmEiOiBmYWxzZSwgIm1heE5hdGl2ZVpvb20iOiAxNywgIm1heFpvb20iOiAxNywgIm1pblpvb20iOiAxMC4wLCAibm9XcmFwIjogZmFsc2UsICJvcGFjaXR5IjogMSwgInN1YmRvbWFpbnMiOiAiYWJjIiwgInRtcyI6IGZhbHNlfQogICAgICAgICAgICApLmFkZFRvKG1hcF9iMTY3MzhjYzI5OGU0OWE4OGM5Y2I0OGQ1YzI5ZmJhOCk7CiAgICAgICAgCiAgICAKICAgICAgICAgICAgdmFyIGNpcmNsZV9tYXJrZXJfMzVkMGJiODg2NTVlNDQzOTk4NGE4Yzg2OTFmNGFmOGIgPSBMLmNpcmNsZU1hcmtlcigKICAgICAgICAgICAgICAgIFszNy43OTUwMDEsIC0xMjIuMzk5OTddLAogICAgICAgICAgICAgICAgeyJidWJibGluZ01vdXNlRXZlbnRzIjogdHJ1ZSwgImNvbG9yIjogIiMzMzg4ZmYiLCAiZGFzaEFycmF5IjogbnVsbCwgImRhc2hPZmZzZXQiOiBudWxsLCAiZmlsbCI6IHRydWUsICJmaWxsQ29sb3IiOiAiZ3JlZW4iLCAiZmlsbE9wYWNpdHkiOiAwLjIsICJmaWxsUnVsZSI6ICJldmVub2RkIiwgImxpbmVDYXAiOiAicm91bmQiLCAibGluZUpvaW4iOiAicm91bmQiLCAib3BhY2l0eSI6IDEuMCwgInJhZGl1cyI6IDIwLCAic3Ryb2tlIjogdHJ1ZSwgIndlaWdodCI6IDN9CiAgICAgICAgICAgICkuYWRkVG8obWFwX2IxNjczOGNjMjk4ZTQ5YTg4YzljYjQ4ZDVjMjlmYmE4KTsKICAgICAgICAKICAgIAogICAgICAgIHZhciBwb3B1cF9mMDg4OTQ2M2Q4NDc0MTMwODlhMjJhODdmMTk5OTlkYyA9IEwucG9wdXAoeyJtYXhXaWR0aCI6ICIxMDAlIn0pOwoKICAgICAgICAKICAgICAgICAgICAgdmFyIGh0bWxfNTk3YWU4ZDIwODZkNDFmNDkxYzhkNTcxMjA4MmU5NTAgPSAkKGA8ZGl2IGlkPSJodG1sXzU5N2FlOGQyMDg2ZDQxZjQ5MWM4ZDU3MTIwODJlOTUwIiBzdHlsZT0id2lkdGg6IDEwMC4wJTsgaGVpZ2h0OiAxMDAuMCU7Ij48L2Rpdj5gKVswXTsKICAgICAgICAgICAgcG9wdXBfZjA4ODk0NjNkODQ3NDEzMDg5YTIyYTg3ZjE5OTk5ZGMuc2V0Q29udGVudChodG1sXzU5N2FlOGQyMDg2ZDQxZjQ5MWM4ZDU3MTIwODJlOTUwKTsKICAgICAgICAKCiAgICAgICAgY2lyY2xlX21hcmtlcl8zNWQwYmI4ODY1NWU0NDM5OTg0YThjODY5MWY0YWY4Yi5iaW5kUG9wdXAocG9wdXBfZjA4ODk0NjNkODQ3NDEzMDg5YTIyYTg3ZjE5OTk5ZGMpCiAgICAgICAgOwoKICAgICAgICAKICAgIAogICAgCiAgICAgICAgICAgIHZhciBjaXJjbGVfbWFya2VyXzQxY2NiNmIxZGM2ZjRlODU4YWY3MzBmMDYxZmE1MzEwID0gTC5jaXJjbGVNYXJrZXIoCiAgICAgICAgICAgICAgICBbMzcuNzk3MjgsIC0xMjIuMzk4NDM2XSwKICAgICAgICAgICAgICAgIHsiYnViYmxpbmdNb3VzZUV2ZW50cyI6IHRydWUsICJjb2xvciI6ICIjMzM4OGZmIiwgImRhc2hBcnJheSI6IG51bGwsICJkYXNoT2Zmc2V0IjogbnVsbCwgImZpbGwiOiB0cnVlLCAiZmlsbENvbG9yIjogImdyZWVuIiwgImZpbGxPcGFjaXR5IjogMC4yLCAiZmlsbFJ1bGUiOiAiZXZlbm9kZCIsICJsaW5lQ2FwIjogInJvdW5kIiwgImxpbmVKb2luIjogInJvdW5kIiwgIm9wYWNpdHkiOiAxLjAsICJyYWRpdXMiOiAyMCwgInN0cm9rZSI6IHRydWUsICJ3ZWlnaHQiOiAzfQogICAgICAgICAgICApLmFkZFRvKG1hcF9iMTY3MzhjYzI5OGU0OWE4OGM5Y2I0OGQ1YzI5ZmJhOCk7CiAgICAgICAgCiAgICAKICAgICAgICB2YXIgcG9wdXBfZGZkYmNjYjUxZjc3NDMxMjg4NGQzZjI1OTIyNWM2MzAgPSBMLnBvcHVwKHsibWF4V2lkdGgiOiAiMTAwJSJ9KTsKCiAgICAgICAgCiAgICAgICAgICAgIHZhciBodG1sXzg4N2NmYmRlY2U0MzRkMDM5YzNjYzc5YmQ4MmIxMzMwID0gJChgPGRpdiBpZD0iaHRtbF84ODdjZmJkZWNlNDM0ZDAzOWMzY2M3OWJkODJiMTMzMCIgc3R5bGU9IndpZHRoOiAxMDAuMCU7IGhlaWdodDogMTAwLjAlOyI+PC9kaXY+YClbMF07CiAgICAgICAgICAgIHBvcHVwX2RmZGJjY2I1MWY3NzQzMTI4ODRkM2YyNTkyMjVjNjMwLnNldENvbnRlbnQoaHRtbF84ODdjZmJkZWNlNDM0ZDAzOWMzY2M3OWJkODJiMTMzMCk7CiAgICAgICAgCgogICAgICAgIGNpcmNsZV9tYXJrZXJfNDFjY2I2YjFkYzZmNGU4NThhZjczMGYwNjFmYTUzMTAuYmluZFBvcHVwKHBvcHVwX2RmZGJjY2I1MWY3NzQzMTI4ODRkM2YyNTkyMjVjNjMwKQogICAgICAgIDsKCiAgICAgICAgCiAgICAKICAgIAogICAgICAgICAgICB2YXIgY2lyY2xlX21hcmtlcl8xMzc2NzlmMTQ2OWQ0OGJlOWMzNDYyMWU2NDZjMjIxNyA9IEwuY2lyY2xlTWFya2VyKAogICAgICAgICAgICAgICAgWzM3Ljc5NDIzMDk5OTk5OTk5NiwgLTEyMi40MDI5MjNdLAogICAgICAgICAgICAgICAgeyJidWJibGluZ01vdXNlRXZlbnRzIjogdHJ1ZSwgImNvbG9yIjogIiMzMzg4ZmYiLCAiZGFzaEFycmF5IjogbnVsbCwgImRhc2hPZmZzZXQiOiBudWxsLCAiZmlsbCI6IHRydWUsICJmaWxsQ29sb3IiOiAiZ3JlZW4iLCAiZmlsbE9wYWNpdHkiOiAwLjIsICJmaWxsUnVsZSI6ICJldmVub2RkIiwgImxpbmVDYXAiOiAicm91bmQiLCAibGluZUpvaW4iOiAicm91bmQiLCAib3BhY2l0eSI6IDEuMCwgInJhZGl1cyI6IDIwLCAic3Ryb2tlIjogdHJ1ZSwgIndlaWdodCI6IDN9CiAgICAgICAgICAgICkuYWRkVG8obWFwX2IxNjczOGNjMjk4ZTQ5YTg4YzljYjQ4ZDVjMjlmYmE4KTsKICAgICAgICAKICAgIAogICAgICAgIHZhciBwb3B1cF80ZjgzOGZkZDE4OGQ0YTllOWZkNGVjMmNmZmM0ZGEwMSA9IEwucG9wdXAoeyJtYXhXaWR0aCI6ICIxMDAlIn0pOwoKICAgICAgICAKICAgICAgICAgICAgdmFyIGh0bWxfYmMxMGNlZTkwYzk2NGNjMGIzYTM3OTU5MDhkYmZkNDcgPSAkKGA8ZGl2IGlkPSJodG1sX2JjMTBjZWU5MGM5NjRjYzBiM2EzNzk1OTA4ZGJmZDQ3IiBzdHlsZT0id2lkdGg6IDEwMC4wJTsgaGVpZ2h0OiAxMDAuMCU7Ij48L2Rpdj5gKVswXTsKICAgICAgICAgICAgcG9wdXBfNGY4MzhmZGQxODhkNGE5ZTlmZDRlYzJjZmZjNGRhMDEuc2V0Q29udGVudChodG1sX2JjMTBjZWU5MGM5NjRjYzBiM2EzNzk1OTA4ZGJmZDQ3KTsKICAgICAgICAKCiAgICAgICAgY2lyY2xlX21hcmtlcl8xMzc2NzlmMTQ2OWQ0OGJlOWMzNDYyMWU2NDZjMjIxNy5iaW5kUG9wdXAocG9wdXBfNGY4MzhmZGQxODhkNGE5ZTlmZDRlYzJjZmZjNGRhMDEpCiAgICAgICAgOwoKICAgICAgICAKICAgIAogICAgCiAgICAgICAgICAgIHZhciBjaXJjbGVfbWFya2VyX2VkZWNiOGVlYzIxOTRjZTFhNDNjZTYxYjBmM2MwMGQ5ID0gTC5jaXJjbGVNYXJrZXIoCiAgICAgICAgICAgICAgICBbMzcuNzk1NDI1LCAtMTIyLjQwNDc2Njk5OTk5OTk5XSwKICAgICAgICAgICAgICAgIHsiYnViYmxpbmdNb3VzZUV2ZW50cyI6IHRydWUsICJjb2xvciI6ICIjMzM4OGZmIiwgImRhc2hBcnJheSI6IG51bGwsICJkYXNoT2Zmc2V0IjogbnVsbCwgImZpbGwiOiB0cnVlLCAiZmlsbENvbG9yIjogImdyZWVuIiwgImZpbGxPcGFjaXR5IjogMC4yLCAiZmlsbFJ1bGUiOiAiZXZlbm9kZCIsICJsaW5lQ2FwIjogInJvdW5kIiwgImxpbmVKb2luIjogInJvdW5kIiwgIm9wYWNpdHkiOiAxLjAsICJyYWRpdXMiOiAyMCwgInN0cm9rZSI6IHRydWUsICJ3ZWlnaHQiOiAzfQogICAgICAgICAgICApLmFkZFRvKG1hcF9iMTY3MzhjYzI5OGU0OWE4OGM5Y2I0OGQ1YzI5ZmJhOCk7CiAgICAgICAgCiAgICAKICAgICAgICB2YXIgcG9wdXBfZmU4ZTMxMTVkOGNkNGQ0MGExYTc3MThlMzlkYzhkOTUgPSBMLnBvcHVwKHsibWF4V2lkdGgiOiAiMTAwJSJ9KTsKCiAgICAgICAgCiAgICAgICAgICAgIHZhciBodG1sX2U4MDIyNzg5NDI1ODQ5MmNhZGJkYzE5NTA3ODhjNmU5ID0gJChgPGRpdiBpZD0iaHRtbF9lODAyMjc4OTQyNTg0OTJjYWRiZGMxOTUwNzg4YzZlOSIgc3R5bGU9IndpZHRoOiAxMDAuMCU7IGhlaWdodDogMTAwLjAlOyI+PC9kaXY+YClbMF07CiAgICAgICAgICAgIHBvcHVwX2ZlOGUzMTE1ZDhjZDRkNDBhMWE3NzE4ZTM5ZGM4ZDk1LnNldENvbnRlbnQoaHRtbF9lODAyMjc4OTQyNTg0OTJjYWRiZGMxOTUwNzg4YzZlOSk7CiAgICAgICAgCgogICAgICAgIGNpcmNsZV9tYXJrZXJfZWRlY2I4ZWVjMjE5NGNlMWE0M2NlNjFiMGYzYzAwZDkuYmluZFBvcHVwKHBvcHVwX2ZlOGUzMTE1ZDhjZDRkNDBhMWE3NzE4ZTM5ZGM4ZDk1KQogICAgICAgIDsKCiAgICAgICAgCiAgICAKICAgIAogICAgICAgICAgICB2YXIgY2lyY2xlX21hcmtlcl8yM2YyMWE5YjY5Nzk0N2EzYTA0MDQ2NDcxOTI2ZTc1MCA9IEwuY2lyY2xlTWFya2VyKAogICAgICAgICAgICAgICAgWzM3Ljc4ODk3NSwgLTEyMi40MDM0NTJdLAogICAgICAgICAgICAgICAgeyJidWJibGluZ01vdXNlRXZlbnRzIjogdHJ1ZSwgImNvbG9yIjogIiMzMzg4ZmYiLCAiZGFzaEFycmF5IjogbnVsbCwgImRhc2hPZmZzZXQiOiBudWxsLCAiZmlsbCI6IHRydWUsICJmaWxsQ29sb3IiOiAiZ3JlZW4iLCAiZmlsbE9wYWNpdHkiOiAwLjIsICJmaWxsUnVsZSI6ICJldmVub2RkIiwgImxpbmVDYXAiOiAicm91bmQiLCAibGluZUpvaW4iOiAicm91bmQiLCAib3BhY2l0eSI6IDEuMCwgInJhZGl1cyI6IDIwLCAic3Ryb2tlIjogdHJ1ZSwgIndlaWdodCI6IDN9CiAgICAgICAgICAgICkuYWRkVG8obWFwX2IxNjczOGNjMjk4ZTQ5YTg4YzljYjQ4ZDVjMjlmYmE4KTsKICAgICAgICAKICAgIAogICAgICAgIHZhciBwb3B1cF81MWJmOGI4NjhhYTM0MDc1ODhlNWMwN2M5M2M4MjlkNyA9IEwucG9wdXAoeyJtYXhXaWR0aCI6ICIxMDAlIn0pOwoKICAgICAgICAKICAgICAgICAgICAgdmFyIGh0bWxfNDkxOTU1NWVjOGQxNGQzYWE3MDFlN2QyMDc0MGM5Y2EgPSAkKGA8ZGl2IGlkPSJodG1sXzQ5MTk1NTVlYzhkMTRkM2FhNzAxZTdkMjA3NDBjOWNhIiBzdHlsZT0id2lkdGg6IDEwMC4wJTsgaGVpZ2h0OiAxMDAuMCU7Ij48L2Rpdj5gKVswXTsKICAgICAgICAgICAgcG9wdXBfNTFiZjhiODY4YWEzNDA3NTg4ZTVjMDdjOTNjODI5ZDcuc2V0Q29udGVudChodG1sXzQ5MTk1NTVlYzhkMTRkM2FhNzAxZTdkMjA3NDBjOWNhKTsKICAgICAgICAKCiAgICAgICAgY2lyY2xlX21hcmtlcl8yM2YyMWE5YjY5Nzk0N2EzYTA0MDQ2NDcxOTI2ZTc1MC5iaW5kUG9wdXAocG9wdXBfNTFiZjhiODY4YWEzNDA3NTg4ZTVjMDdjOTNjODI5ZDcpCiAgICAgICAgOwoKICAgICAgICAKICAgIAogICAgCiAgICAgICAgICAgIHZhciBjaXJjbGVfbWFya2VyXzA4YWM3NzA4NmZlOTQ5NGJhMzY3YWI5YzAzOTFhZWQ1ID0gTC5jaXJjbGVNYXJrZXIoCiAgICAgICAgICAgICAgICBbMzcuNzk5OTUzLCAtMTIyLjM5ODUyNV0sCiAgICAgICAgICAgICAgICB7ImJ1YmJsaW5nTW91c2VFdmVudHMiOiB0cnVlLCAiY29sb3IiOiAiIzMzODhmZiIsICJkYXNoQXJyYXkiOiBudWxsLCAiZGFzaE9mZnNldCI6IG51bGwsICJmaWxsIjogdHJ1ZSwgImZpbGxDb2xvciI6ICJncmVlbiIsICJmaWxsT3BhY2l0eSI6IDAuMiwgImZpbGxSdWxlIjogImV2ZW5vZGQiLCAibGluZUNhcCI6ICJyb3VuZCIsICJsaW5lSm9pbiI6ICJyb3VuZCIsICJvcGFjaXR5IjogMS4wLCAicmFkaXVzIjogMjAsICJzdHJva2UiOiB0cnVlLCAid2VpZ2h0IjogM30KICAgICAgICAgICAgKS5hZGRUbyhtYXBfYjE2NzM4Y2MyOThlNDlhODhjOWNiNDhkNWMyOWZiYTgpOwogICAgICAgIAogICAgCiAgICAgICAgdmFyIHBvcHVwX2Q4NjczOTVmM2ViMTQxOGZhMDFjMzAyZGUyMmE0Yjg1ID0gTC5wb3B1cCh7Im1heFdpZHRoIjogIjEwMCUifSk7CgogICAgICAgIAogICAgICAgICAgICB2YXIgaHRtbF84MWJhMGU3YWM4ZmE0ZDJlOGI1ODFmOGMxYzc5ZjVkYyA9ICQoYDxkaXYgaWQ9Imh0bWxfODFiYTBlN2FjOGZhNGQyZThiNTgxZjhjMWM3OWY1ZGMiIHN0eWxlPSJ3aWR0aDogMTAwLjAlOyBoZWlnaHQ6IDEwMC4wJTsiPjwvZGl2PmApWzBdOwogICAgICAgICAgICBwb3B1cF9kODY3Mzk1ZjNlYjE0MThmYTAxYzMwMmRlMjJhNGI4NS5zZXRDb250ZW50KGh0bWxfODFiYTBlN2FjOGZhNGQyZThiNTgxZjhjMWM3OWY1ZGMpOwogICAgICAgIAoKICAgICAgICBjaXJjbGVfbWFya2VyXzA4YWM3NzA4NmZlOTQ5NGJhMzY3YWI5YzAzOTFhZWQ1LmJpbmRQb3B1cChwb3B1cF9kODY3Mzk1ZjNlYjE0MThmYTAxYzMwMmRlMjJhNGI4NSkKICAgICAgICA7CgogICAgICAgIAogICAgCiAgICAKICAgICAgICAgICAgdmFyIGNpcmNsZV9tYXJrZXJfYWNkOGU5NGE2ZWNhNDAwOWI2ODI4M2Y5ZjJhMjc5YzMgPSBMLmNpcmNsZU1hcmtlcigKICAgICAgICAgICAgICAgIFszNy43OTAzMDIwMDAwMDAwMDQsIC0xMjIuMzkwNjM3MDAwMDAwMDFdLAogICAgICAgICAgICAgICAgeyJidWJibGluZ01vdXNlRXZlbnRzIjogdHJ1ZSwgImNvbG9yIjogIiMzMzg4ZmYiLCAiZGFzaEFycmF5IjogbnVsbCwgImRhc2hPZmZzZXQiOiBudWxsLCAiZmlsbCI6IHRydWUsICJmaWxsQ29sb3IiOiAiZ3JlZW4iLCAiZmlsbE9wYWNpdHkiOiAwLjIsICJmaWxsUnVsZSI6ICJldmVub2RkIiwgImxpbmVDYXAiOiAicm91bmQiLCAibGluZUpvaW4iOiAicm91bmQiLCAib3BhY2l0eSI6IDEuMCwgInJhZGl1cyI6IDIwLCAic3Ryb2tlIjogdHJ1ZSwgIndlaWdodCI6IDN9CiAgICAgICAgICAgICkuYWRkVG8obWFwX2IxNjczOGNjMjk4ZTQ5YTg4YzljYjQ4ZDVjMjlmYmE4KTsKICAgICAgICAKICAgIAogICAgICAgIHZhciBwb3B1cF84YjYzYWNhY2E1ZTU0MzQ1YjU2ZjllZDdiNjgwNDVlZiA9IEwucG9wdXAoeyJtYXhXaWR0aCI6ICIxMDAlIn0pOwoKICAgICAgICAKICAgICAgICAgICAgdmFyIGh0bWxfZjZhOWU2MDQzMTVlNGJiZmI2MTBjOTllN2JiYzNmOWYgPSAkKGA8ZGl2IGlkPSJodG1sX2Y2YTllNjA0MzE1ZTRiYmZiNjEwYzk5ZTdiYmMzZjlmIiBzdHlsZT0id2lkdGg6IDEwMC4wJTsgaGVpZ2h0OiAxMDAuMCU7Ij48L2Rpdj5gKVswXTsKICAgICAgICAgICAgcG9wdXBfOGI2M2FjYWNhNWU1NDM0NWI1NmY5ZWQ3YjY4MDQ1ZWYuc2V0Q29udGVudChodG1sX2Y2YTllNjA0MzE1ZTRiYmZiNjEwYzk5ZTdiYmMzZjlmKTsKICAgICAgICAKCiAgICAgICAgY2lyY2xlX21hcmtlcl9hY2Q4ZTk0YTZlY2E0MDA5YjY4MjgzZjlmMmEyNzljMy5iaW5kUG9wdXAocG9wdXBfOGI2M2FjYWNhNWU1NDM0NWI1NmY5ZWQ3YjY4MDQ1ZWYpCiAgICAgICAgOwoKICAgICAgICAKICAgIAogICAgCiAgICAgICAgICAgIHZhciBjaXJjbGVfbWFya2VyXzY4Y2M4ZDk4NjZiMDQxNzU4MmY5ZWE0ZmExM2UzODYwID0gTC5jaXJjbGVNYXJrZXIoCiAgICAgICAgICAgICAgICBbMzcuNzk1MzkyLCAtMTIyLjM5NDIwM10sCiAgICAgICAgICAgICAgICB7ImJ1YmJsaW5nTW91c2VFdmVudHMiOiB0cnVlLCAiY29sb3IiOiAiIzMzODhmZiIsICJkYXNoQXJyYXkiOiBudWxsLCAiZGFzaE9mZnNldCI6IG51bGwsICJmaWxsIjogdHJ1ZSwgImZpbGxDb2xvciI6ICJncmVlbiIsICJmaWxsT3BhY2l0eSI6IDAuMiwgImZpbGxSdWxlIjogImV2ZW5vZGQiLCAibGluZUNhcCI6ICJyb3VuZCIsICJsaW5lSm9pbiI6ICJyb3VuZCIsICJvcGFjaXR5IjogMS4wLCAicmFkaXVzIjogMjAsICJzdHJva2UiOiB0cnVlLCAid2VpZ2h0IjogM30KICAgICAgICAgICAgKS5hZGRUbyhtYXBfYjE2NzM4Y2MyOThlNDlhODhjOWNiNDhkNWMyOWZiYTgpOwogICAgICAgIAogICAgCiAgICAgICAgdmFyIHBvcHVwXzhhMDlhM2UzZTE0MzRhMTg4ZjdmYjJkNGY0ZDk4MDExID0gTC5wb3B1cCh7Im1heFdpZHRoIjogIjEwMCUifSk7CgogICAgICAgIAogICAgICAgICAgICB2YXIgaHRtbF8wM2RlZGYwNDY0NWQ0NmY2ODU0OGExYzRlZDQ2ZDAyOSA9ICQoYDxkaXYgaWQ9Imh0bWxfMDNkZWRmMDQ2NDVkNDZmNjg1NDhhMWM0ZWQ0NmQwMjkiIHN0eWxlPSJ3aWR0aDogMTAwLjAlOyBoZWlnaHQ6IDEwMC4wJTsiPjwvZGl2PmApWzBdOwogICAgICAgICAgICBwb3B1cF84YTA5YTNlM2UxNDM0YTE4OGY3ZmIyZDRmNGQ5ODAxMS5zZXRDb250ZW50KGh0bWxfMDNkZWRmMDQ2NDVkNDZmNjg1NDhhMWM0ZWQ0NmQwMjkpOwogICAgICAgIAoKICAgICAgICBjaXJjbGVfbWFya2VyXzY4Y2M4ZDk4NjZiMDQxNzU4MmY5ZWE0ZmExM2UzODYwLmJpbmRQb3B1cChwb3B1cF84YTA5YTNlM2UxNDM0YTE4OGY3ZmIyZDRmNGQ5ODAxMSkKICAgICAgICA7CgogICAgICAgIAogICAgCiAgICAKICAgICAgICAgICAgdmFyIGNpcmNsZV9tYXJrZXJfZDNlMDE0ZDVlNGEzNDZlZmI1M2I2NDdmZDNmYWZjNzAgPSBMLmNpcmNsZU1hcmtlcigKICAgICAgICAgICAgICAgIFszNy43OTE0NjQwMDAwMDAwMDUsIC0xMjIuMzkxMDM0XSwKICAgICAgICAgICAgICAgIHsiYnViYmxpbmdNb3VzZUV2ZW50cyI6IHRydWUsICJjb2xvciI6ICIjMzM4OGZmIiwgImRhc2hBcnJheSI6IG51bGwsICJkYXNoT2Zmc2V0IjogbnVsbCwgImZpbGwiOiB0cnVlLCAiZmlsbENvbG9yIjogImdyZWVuIiwgImZpbGxPcGFjaXR5IjogMC4yLCAiZmlsbFJ1bGUiOiAiZXZlbm9kZCIsICJsaW5lQ2FwIjogInJvdW5kIiwgImxpbmVKb2luIjogInJvdW5kIiwgIm9wYWNpdHkiOiAxLjAsICJyYWRpdXMiOiAyMCwgInN0cm9rZSI6IHRydWUsICJ3ZWlnaHQiOiAzfQogICAgICAgICAgICApLmFkZFRvKG1hcF9iMTY3MzhjYzI5OGU0OWE4OGM5Y2I0OGQ1YzI5ZmJhOCk7CiAgICAgICAgCiAgICAKICAgICAgICB2YXIgcG9wdXBfOWU1YzcxOTI4MDhmNDcwZmIwMWQ2ZWNiM2ZiNzg3OWIgPSBMLnBvcHVwKHsibWF4V2lkdGgiOiAiMTAwJSJ9KTsKCiAgICAgICAgCiAgICAgICAgICAgIHZhciBodG1sXzc0N2RhZDlhYzNmNzQzOTRhZDMzZDFhNjJjMWM1MjM5ID0gJChgPGRpdiBpZD0iaHRtbF83NDdkYWQ5YWMzZjc0Mzk0YWQzM2QxYTYyYzFjNTIzOSIgc3R5bGU9IndpZHRoOiAxMDAuMCU7IGhlaWdodDogMTAwLjAlOyI+PC9kaXY+YClbMF07CiAgICAgICAgICAgIHBvcHVwXzllNWM3MTkyODA4ZjQ3MGZiMDFkNmVjYjNmYjc4NzliLnNldENvbnRlbnQoaHRtbF83NDdkYWQ5YWMzZjc0Mzk0YWQzM2QxYTYyYzFjNTIzOSk7CiAgICAgICAgCgogICAgICAgIGNpcmNsZV9tYXJrZXJfZDNlMDE0ZDVlNGEzNDZlZmI1M2I2NDdmZDNmYWZjNzAuYmluZFBvcHVwKHBvcHVwXzllNWM3MTkyODA4ZjQ3MGZiMDFkNmVjYjNmYjc4NzliKQogICAgICAgIDsKCiAgICAgICAgCiAgICAKICAgIAogICAgICAgICAgICB2YXIgY2lyY2xlX21hcmtlcl8zZmZiMWRkMWE0NDk0N2Q2YjM4NGJkNjg1ZWRhOWUyNyA9IEwuY2lyY2xlTWFya2VyKAogICAgICAgICAgICAgICAgWzM3Ljc4Mzg3MTAwMDAwMDAwNSwgLTEyMi40MDg0MzNdLAogICAgICAgICAgICAgICAgeyJidWJibGluZ01vdXNlRXZlbnRzIjogdHJ1ZSwgImNvbG9yIjogIiMzMzg4ZmYiLCAiZGFzaEFycmF5IjogbnVsbCwgImRhc2hPZmZzZXQiOiBudWxsLCAiZmlsbCI6IHRydWUsICJmaWxsQ29sb3IiOiAiZ3JlZW4iLCAiZmlsbE9wYWNpdHkiOiAwLjIsICJmaWxsUnVsZSI6ICJldmVub2RkIiwgImxpbmVDYXAiOiAicm91bmQiLCAibGluZUpvaW4iOiAicm91bmQiLCAib3BhY2l0eSI6IDEuMCwgInJhZGl1cyI6IDIwLCAic3Ryb2tlIjogdHJ1ZSwgIndlaWdodCI6IDN9CiAgICAgICAgICAgICkuYWRkVG8obWFwX2IxNjczOGNjMjk4ZTQ5YTg4YzljYjQ4ZDVjMjlmYmE4KTsKICAgICAgICAKICAgIAogICAgICAgIHZhciBwb3B1cF9hNTNiZWNjYTg3ZDQ0MWQwOGU5NjcwNDJhNTc4NTExNyA9IEwucG9wdXAoeyJtYXhXaWR0aCI6ICIxMDAlIn0pOwoKICAgICAgICAKICAgICAgICAgICAgdmFyIGh0bWxfN2Q5ZjM2ZWRlMDE2NDBlNjhiYTFkNmM4M2Y5OWJiZTYgPSAkKGA8ZGl2IGlkPSJodG1sXzdkOWYzNmVkZTAxNjQwZTY4YmExZDZjODNmOTliYmU2IiBzdHlsZT0id2lkdGg6IDEwMC4wJTsgaGVpZ2h0OiAxMDAuMCU7Ij48L2Rpdj5gKVswXTsKICAgICAgICAgICAgcG9wdXBfYTUzYmVjY2E4N2Q0NDFkMDhlOTY3MDQyYTU3ODUxMTcuc2V0Q29udGVudChodG1sXzdkOWYzNmVkZTAxNjQwZTY4YmExZDZjODNmOTliYmU2KTsKICAgICAgICAKCiAgICAgICAgY2lyY2xlX21hcmtlcl8zZmZiMWRkMWE0NDk0N2Q2YjM4NGJkNjg1ZWRhOWUyNy5iaW5kUG9wdXAocG9wdXBfYTUzYmVjY2E4N2Q0NDFkMDhlOTY3MDQyYTU3ODUxMTcpCiAgICAgICAgOwoKICAgICAgICAKICAgIAogICAgCiAgICAgICAgICAgIHZhciBjaXJjbGVfbWFya2VyXzRmM2Y4ZTQ1OTIyYjRlNWViZjFjOTk2NDNiOTljNWFkID0gTC5jaXJjbGVNYXJrZXIoCiAgICAgICAgICAgICAgICBbMzcuNzg3MTUyLCAtMTIyLjM4ODAxMjk5OTk5OTk5XSwKICAgICAgICAgICAgICAgIHsiYnViYmxpbmdNb3VzZUV2ZW50cyI6IHRydWUsICJjb2xvciI6ICIjMzM4OGZmIiwgImRhc2hBcnJheSI6IG51bGwsICJkYXNoT2Zmc2V0IjogbnVsbCwgImZpbGwiOiB0cnVlLCAiZmlsbENvbG9yIjogImdyZWVuIiwgImZpbGxPcGFjaXR5IjogMC4yLCAiZmlsbFJ1bGUiOiAiZXZlbm9kZCIsICJsaW5lQ2FwIjogInJvdW5kIiwgImxpbmVKb2luIjogInJvdW5kIiwgIm9wYWNpdHkiOiAxLjAsICJyYWRpdXMiOiAyMCwgInN0cm9rZSI6IHRydWUsICJ3ZWlnaHQiOiAzfQogICAgICAgICAgICApLmFkZFRvKG1hcF9iMTY3MzhjYzI5OGU0OWE4OGM5Y2I0OGQ1YzI5ZmJhOCk7CiAgICAgICAgCiAgICAKICAgICAgICB2YXIgcG9wdXBfMmYyNjE5YzY2ODZiNGI0YjhmMTQ4MTEzMThmYmNmNzIgPSBMLnBvcHVwKHsibWF4V2lkdGgiOiAiMTAwJSJ9KTsKCiAgICAgICAgCiAgICAgICAgICAgIHZhciBodG1sXzdjY2E3NjYwYTY3NDQ0MjA4MGJjZTQwY2E0MzRlYzI3ID0gJChgPGRpdiBpZD0iaHRtbF83Y2NhNzY2MGE2NzQ0NDIwODBiY2U0MGNhNDM0ZWMyNyIgc3R5bGU9IndpZHRoOiAxMDAuMCU7IGhlaWdodDogMTAwLjAlOyI+PC9kaXY+YClbMF07CiAgICAgICAgICAgIHBvcHVwXzJmMjYxOWM2Njg2YjRiNGI4ZjE0ODExMzE4ZmJjZjcyLnNldENvbnRlbnQoaHRtbF83Y2NhNzY2MGE2NzQ0NDIwODBiY2U0MGNhNDM0ZWMyNyk7CiAgICAgICAgCgogICAgICAgIGNpcmNsZV9tYXJrZXJfNGYzZjhlNDU5MjJiNGU1ZWJmMWM5OTY0M2I5OWM1YWQuYmluZFBvcHVwKHBvcHVwXzJmMjYxOWM2Njg2YjRiNGI4ZjE0ODExMzE4ZmJjZjcyKQogICAgICAgIDsKCiAgICAgICAgCiAgICAKICAgIAogICAgICAgICAgICB2YXIgY2lyY2xlX21hcmtlcl8yMWQ5OTY3NzUzNDM0OWU4OGMyYzVhMGM0ODdhZjE4YSA9IEwuY2lyY2xlTWFya2VyKAogICAgICAgICAgICAgICAgWzM3Ljc4OTc1NiwgLTEyMi4zOTQ2NDI5OTk5OTk5OV0sCiAgICAgICAgICAgICAgICB7ImJ1YmJsaW5nTW91c2VFdmVudHMiOiB0cnVlLCAiY29sb3IiOiAiIzMzODhmZiIsICJkYXNoQXJyYXkiOiBudWxsLCAiZGFzaE9mZnNldCI6IG51bGwsICJmaWxsIjogdHJ1ZSwgImZpbGxDb2xvciI6ICJncmVlbiIsICJmaWxsT3BhY2l0eSI6IDAuMiwgImZpbGxSdWxlIjogImV2ZW5vZGQiLCAibGluZUNhcCI6ICJyb3VuZCIsICJsaW5lSm9pbiI6ICJyb3VuZCIsICJvcGFjaXR5IjogMS4wLCAicmFkaXVzIjogMjAsICJzdHJva2UiOiB0cnVlLCAid2VpZ2h0IjogM30KICAgICAgICAgICAgKS5hZGRUbyhtYXBfYjE2NzM4Y2MyOThlNDlhODhjOWNiNDhkNWMyOWZiYTgpOwogICAgICAgIAogICAgCiAgICAgICAgdmFyIHBvcHVwXzU0ZmFhMmNlYWU4MTQ4YmQ4OTk5MjAwNWQzNjRiZGI2ID0gTC5wb3B1cCh7Im1heFdpZHRoIjogIjEwMCUifSk7CgogICAgICAgIAogICAgICAgICAgICB2YXIgaHRtbF80OWM2MjE2YmRhNjg0YTUwYmI0MTc3MzdlNDMwYTA3YSA9ICQoYDxkaXYgaWQ9Imh0bWxfNDljNjIxNmJkYTY4NGE1MGJiNDE3NzM3ZTQzMGEwN2EiIHN0eWxlPSJ3aWR0aDogMTAwLjAlOyBoZWlnaHQ6IDEwMC4wJTsiPjwvZGl2PmApWzBdOwogICAgICAgICAgICBwb3B1cF81NGZhYTJjZWFlODE0OGJkODk5OTIwMDVkMzY0YmRiNi5zZXRDb250ZW50KGh0bWxfNDljNjIxNmJkYTY4NGE1MGJiNDE3NzM3ZTQzMGEwN2EpOwogICAgICAgIAoKICAgICAgICBjaXJjbGVfbWFya2VyXzIxZDk5Njc3NTM0MzQ5ZTg4YzJjNWEwYzQ4N2FmMThhLmJpbmRQb3B1cChwb3B1cF81NGZhYTJjZWFlODE0OGJkODk5OTIwMDVkMzY0YmRiNikKICAgICAgICA7CgogICAgICAgIAogICAgCiAgICAKICAgICAgICAgICAgdmFyIGNpcmNsZV9tYXJrZXJfOWZhNDI1YWVmNjYwNDE1MjgwNjVkOTExMTE1YzhlNzQgPSBMLmNpcmNsZU1hcmtlcigKICAgICAgICAgICAgICAgIFszNy43OTIyNTEsIC0xMjIuMzk3MDg2MDAwMDAwMDJdLAogICAgICAgICAgICAgICAgeyJidWJibGluZ01vdXNlRXZlbnRzIjogdHJ1ZSwgImNvbG9yIjogIiMzMzg4ZmYiLCAiZGFzaEFycmF5IjogbnVsbCwgImRhc2hPZmZzZXQiOiBudWxsLCAiZmlsbCI6IHRydWUsICJmaWxsQ29sb3IiOiAiZ3JlZW4iLCAiZmlsbE9wYWNpdHkiOiAwLjIsICJmaWxsUnVsZSI6ICJldmVub2RkIiwgImxpbmVDYXAiOiAicm91bmQiLCAibGluZUpvaW4iOiAicm91bmQiLCAib3BhY2l0eSI6IDEuMCwgInJhZGl1cyI6IDIwLCAic3Ryb2tlIjogdHJ1ZSwgIndlaWdodCI6IDN9CiAgICAgICAgICAgICkuYWRkVG8obWFwX2IxNjczOGNjMjk4ZTQ5YTg4YzljYjQ4ZDVjMjlmYmE4KTsKICAgICAgICAKICAgIAogICAgICAgIHZhciBwb3B1cF85MzRlOGQyZjNhYTE0ZmNkYmU0NTI4YTk1ODU5MDQ2MCA9IEwucG9wdXAoeyJtYXhXaWR0aCI6ICIxMDAlIn0pOwoKICAgICAgICAKICAgICAgICAgICAgdmFyIGh0bWxfZTdhOTk3YjU5ZjA0NGNhNjg0ODAyOTU1NzFkZTIwNjcgPSAkKGA8ZGl2IGlkPSJodG1sX2U3YTk5N2I1OWYwNDRjYTY4NDgwMjk1NTcxZGUyMDY3IiBzdHlsZT0id2lkdGg6IDEwMC4wJTsgaGVpZ2h0OiAxMDAuMCU7Ij48L2Rpdj5gKVswXTsKICAgICAgICAgICAgcG9wdXBfOTM0ZThkMmYzYWExNGZjZGJlNDUyOGE5NTg1OTA0NjAuc2V0Q29udGVudChodG1sX2U3YTk5N2I1OWYwNDRjYTY4NDgwMjk1NTcxZGUyMDY3KTsKICAgICAgICAKCiAgICAgICAgY2lyY2xlX21hcmtlcl85ZmE0MjVhZWY2NjA0MTUyODA2NWQ5MTExMTVjOGU3NC5iaW5kUG9wdXAocG9wdXBfOTM0ZThkMmYzYWExNGZjZGJlNDUyOGE5NTg1OTA0NjApCiAgICAgICAgOwoKICAgICAgICAKICAgIAogICAgCiAgICAgICAgICAgIHZhciBjaXJjbGVfbWFya2VyX2ZkNDFiYTdiMmNlNDQ0ZDY5MTk3NWMwNzJmZWU4NjMzID0gTC5jaXJjbGVNYXJrZXIoCiAgICAgICAgICAgICAgICBbMzcuNzgxNzUyMDAwMDAwMDA0LCAtMTIyLjQwNTEyNzAwMDAwMDAxXSwKICAgICAgICAgICAgICAgIHsiYnViYmxpbmdNb3VzZUV2ZW50cyI6IHRydWUsICJjb2xvciI6ICIjMzM4OGZmIiwgImRhc2hBcnJheSI6IG51bGwsICJkYXNoT2Zmc2V0IjogbnVsbCwgImZpbGwiOiB0cnVlLCAiZmlsbENvbG9yIjogImdyZWVuIiwgImZpbGxPcGFjaXR5IjogMC4yLCAiZmlsbFJ1bGUiOiAiZXZlbm9kZCIsICJsaW5lQ2FwIjogInJvdW5kIiwgImxpbmVKb2luIjogInJvdW5kIiwgIm9wYWNpdHkiOiAxLjAsICJyYWRpdXMiOiAyMCwgInN0cm9rZSI6IHRydWUsICJ3ZWlnaHQiOiAzfQogICAgICAgICAgICApLmFkZFRvKG1hcF9iMTY3MzhjYzI5OGU0OWE4OGM5Y2I0OGQ1YzI5ZmJhOCk7CiAgICAgICAgCiAgICAKICAgICAgICB2YXIgcG9wdXBfYmI2MTQ2Y2U4NzczNDc0NTllNTdlNjU3MGQ1Mzc4N2EgPSBMLnBvcHVwKHsibWF4V2lkdGgiOiAiMTAwJSJ9KTsKCiAgICAgICAgCiAgICAgICAgICAgIHZhciBodG1sXzJmMjljYmQwNTUzYzQ0YThiZTIwYmZjMGFhNTYwZWY0ID0gJChgPGRpdiBpZD0iaHRtbF8yZjI5Y2JkMDU1M2M0NGE4YmUyMGJmYzBhYTU2MGVmNCIgc3R5bGU9IndpZHRoOiAxMDAuMCU7IGhlaWdodDogMTAwLjAlOyI+PC9kaXY+YClbMF07CiAgICAgICAgICAgIHBvcHVwX2JiNjE0NmNlODc3MzQ3NDU5ZTU3ZTY1NzBkNTM3ODdhLnNldENvbnRlbnQoaHRtbF8yZjI5Y2JkMDU1M2M0NGE4YmUyMGJmYzBhYTU2MGVmNCk7CiAgICAgICAgCgogICAgICAgIGNpcmNsZV9tYXJrZXJfZmQ0MWJhN2IyY2U0NDRkNjkxOTc1YzA3MmZlZTg2MzMuYmluZFBvcHVwKHBvcHVwX2JiNjE0NmNlODc3MzQ3NDU5ZTU3ZTY1NzBkNTM3ODdhKQogICAgICAgIDsKCiAgICAgICAgCiAgICAKICAgIAogICAgICAgICAgICB2YXIgY2lyY2xlX21hcmtlcl85MWM1ZTg2NmY4ZDY0ZjkxYTE0MWNhNmRmMTk0NzVhOSA9IEwuY2lyY2xlTWFya2VyKAogICAgICAgICAgICAgICAgWzM3Ljc3ODY1LCAtMTIyLjQxODIzNTAwMDAwMDAxXSwKICAgICAgICAgICAgICAgIHsiYnViYmxpbmdNb3VzZUV2ZW50cyI6IHRydWUsICJjb2xvciI6ICIjMzM4OGZmIiwgImRhc2hBcnJheSI6IG51bGwsICJkYXNoT2Zmc2V0IjogbnVsbCwgImZpbGwiOiB0cnVlLCAiZmlsbENvbG9yIjogImdyZWVuIiwgImZpbGxPcGFjaXR5IjogMC4yLCAiZmlsbFJ1bGUiOiAiZXZlbm9kZCIsICJsaW5lQ2FwIjogInJvdW5kIiwgImxpbmVKb2luIjogInJvdW5kIiwgIm9wYWNpdHkiOiAxLjAsICJyYWRpdXMiOiAyMCwgInN0cm9rZSI6IHRydWUsICJ3ZWlnaHQiOiAzfQogICAgICAgICAgICApLmFkZFRvKG1hcF9iMTY3MzhjYzI5OGU0OWE4OGM5Y2I0OGQ1YzI5ZmJhOCk7CiAgICAgICAgCiAgICAKICAgICAgICB2YXIgcG9wdXBfODNjMTIwNWU4ZGVhNDYzMWEyOTY3NDRiY2IwN2YwYjAgPSBMLnBvcHVwKHsibWF4V2lkdGgiOiAiMTAwJSJ9KTsKCiAgICAgICAgCiAgICAgICAgICAgIHZhciBodG1sX2U3MmMzNTJhY2EyYjQyODBhNGVkNTMwNzcxMjM4ZmU1ID0gJChgPGRpdiBpZD0iaHRtbF9lNzJjMzUyYWNhMmI0MjgwYTRlZDUzMDc3MTIzOGZlNSIgc3R5bGU9IndpZHRoOiAxMDAuMCU7IGhlaWdodDogMTAwLjAlOyI+PC9kaXY+YClbMF07CiAgICAgICAgICAgIHBvcHVwXzgzYzEyMDVlOGRlYTQ2MzFhMjk2NzQ0YmNiMDdmMGIwLnNldENvbnRlbnQoaHRtbF9lNzJjMzUyYWNhMmI0MjgwYTRlZDUzMDc3MTIzOGZlNSk7CiAgICAgICAgCgogICAgICAgIGNpcmNsZV9tYXJrZXJfOTFjNWU4NjZmOGQ2NGY5MWExNDFjYTZkZjE5NDc1YTkuYmluZFBvcHVwKHBvcHVwXzgzYzEyMDVlOGRlYTQ2MzFhMjk2NzQ0YmNiMDdmMGIwKQogICAgICAgIDsKCiAgICAgICAgCiAgICAKICAgIAogICAgICAgICAgICB2YXIgY2lyY2xlX21hcmtlcl9iYmQ5OGIxNjkyZmU0NzQ1YWVkMTQyM2IyY2FkN2FlMCA9IEwuY2lyY2xlTWFya2VyKAogICAgICAgICAgICAgICAgWzM3Ljc4MTMzMiwgLTEyMi40MTg2MDNdLAogICAgICAgICAgICAgICAgeyJidWJibGluZ01vdXNlRXZlbnRzIjogdHJ1ZSwgImNvbG9yIjogIiMzMzg4ZmYiLCAiZGFzaEFycmF5IjogbnVsbCwgImRhc2hPZmZzZXQiOiBudWxsLCAiZmlsbCI6IHRydWUsICJmaWxsQ29sb3IiOiAiZ3JlZW4iLCAiZmlsbE9wYWNpdHkiOiAwLjIsICJmaWxsUnVsZSI6ICJldmVub2RkIiwgImxpbmVDYXAiOiAicm91bmQiLCAibGluZUpvaW4iOiAicm91bmQiLCAib3BhY2l0eSI6IDEuMCwgInJhZGl1cyI6IDIwLCAic3Ryb2tlIjogdHJ1ZSwgIndlaWdodCI6IDN9CiAgICAgICAgICAgICkuYWRkVG8obWFwX2IxNjczOGNjMjk4ZTQ5YTg4YzljYjQ4ZDVjMjlmYmE4KTsKICAgICAgICAKICAgIAogICAgICAgIHZhciBwb3B1cF8yMTg5N2VmNzRmZDE0ZDRkYjBmMjljNzBkZmMzMWM5YSA9IEwucG9wdXAoeyJtYXhXaWR0aCI6ICIxMDAlIn0pOwoKICAgICAgICAKICAgICAgICAgICAgdmFyIGh0bWxfMzU3ODM5NmJlOTZhNGQ0NGEyNDVlNTJmM2NmNDFkNmYgPSAkKGA8ZGl2IGlkPSJodG1sXzM1NzgzOTZiZTk2YTRkNDRhMjQ1ZTUyZjNjZjQxZDZmIiBzdHlsZT0id2lkdGg6IDEwMC4wJTsgaGVpZ2h0OiAxMDAuMCU7Ij48L2Rpdj5gKVswXTsKICAgICAgICAgICAgcG9wdXBfMjE4OTdlZjc0ZmQxNGQ0ZGIwZjI5YzcwZGZjMzFjOWEuc2V0Q29udGVudChodG1sXzM1NzgzOTZiZTk2YTRkNDRhMjQ1ZTUyZjNjZjQxZDZmKTsKICAgICAgICAKCiAgICAgICAgY2lyY2xlX21hcmtlcl9iYmQ5OGIxNjkyZmU0NzQ1YWVkMTQyM2IyY2FkN2FlMC5iaW5kUG9wdXAocG9wdXBfMjE4OTdlZjc0ZmQxNGQ0ZGIwZjI5YzcwZGZjMzFjOWEpCiAgICAgICAgOwoKICAgICAgICAKICAgIAogICAgCiAgICAgICAgICAgIHZhciBjaXJjbGVfbWFya2VyXzRhNTA5MzBhZmM1ZTQ4ODk4ZDU3NmU3MTRjMWNjMmFiID0gTC5jaXJjbGVNYXJrZXIoCiAgICAgICAgICAgICAgICBbMzcuODA0NzcsIC0xMjIuNDAzMjM0MDAwMDAwMDFdLAogICAgICAgICAgICAgICAgeyJidWJibGluZ01vdXNlRXZlbnRzIjogdHJ1ZSwgImNvbG9yIjogIiMzMzg4ZmYiLCAiZGFzaEFycmF5IjogbnVsbCwgImRhc2hPZmZzZXQiOiBudWxsLCAiZmlsbCI6IHRydWUsICJmaWxsQ29sb3IiOiAiZ3JlZW4iLCAiZmlsbE9wYWNpdHkiOiAwLjIsICJmaWxsUnVsZSI6ICJldmVub2RkIiwgImxpbmVDYXAiOiAicm91bmQiLCAibGluZUpvaW4iOiAicm91bmQiLCAib3BhY2l0eSI6IDEuMCwgInJhZGl1cyI6IDIwLCAic3Ryb2tlIjogdHJ1ZSwgIndlaWdodCI6IDN9CiAgICAgICAgICAgICkuYWRkVG8obWFwX2IxNjczOGNjMjk4ZTQ5YTg4YzljYjQ4ZDVjMjlmYmE4KTsKICAgICAgICAKICAgIAogICAgICAgIHZhciBwb3B1cF9kNmJjODIyMWZmZGM0YjA3ODE1ZjE4ZjJlN2FkYmMxMiA9IEwucG9wdXAoeyJtYXhXaWR0aCI6ICIxMDAlIn0pOwoKICAgICAgICAKICAgICAgICAgICAgdmFyIGh0bWxfNTc2MmM1N2RlYzI5NGU4NTlhNDkzMDY2MTQ5NzU5MDkgPSAkKGA8ZGl2IGlkPSJodG1sXzU3NjJjNTdkZWMyOTRlODU5YTQ5MzA2NjE0OTc1OTA5IiBzdHlsZT0id2lkdGg6IDEwMC4wJTsgaGVpZ2h0OiAxMDAuMCU7Ij48L2Rpdj5gKVswXTsKICAgICAgICAgICAgcG9wdXBfZDZiYzgyMjFmZmRjNGIwNzgxNWYxOGYyZTdhZGJjMTIuc2V0Q29udGVudChodG1sXzU3NjJjNTdkZWMyOTRlODU5YTQ5MzA2NjE0OTc1OTA5KTsKICAgICAgICAKCiAgICAgICAgY2lyY2xlX21hcmtlcl80YTUwOTMwYWZjNWU0ODg5OGQ1NzZlNzE0YzFjYzJhYi5iaW5kUG9wdXAocG9wdXBfZDZiYzgyMjFmZmRjNGIwNzgxNWYxOGYyZTdhZGJjMTIpCiAgICAgICAgOwoKICAgICAgICAKICAgIAogICAgCiAgICAgICAgICAgIHZhciBjaXJjbGVfbWFya2VyXzlmZTFjODQ1OWY5NjQyNzY4Mjc3NTRkZTNmNzk3N2FlID0gTC5jaXJjbGVNYXJrZXIoCiAgICAgICAgICAgICAgICBbMzcuNzgwNTI2LCAtMTIyLjM5MDI4Nzk5OTk5OTk4XSwKICAgICAgICAgICAgICAgIHsiYnViYmxpbmdNb3VzZUV2ZW50cyI6IHRydWUsICJjb2xvciI6ICIjMzM4OGZmIiwgImRhc2hBcnJheSI6IG51bGwsICJkYXNoT2Zmc2V0IjogbnVsbCwgImZpbGwiOiB0cnVlLCAiZmlsbENvbG9yIjogImdyZWVuIiwgImZpbGxPcGFjaXR5IjogMC4yLCAiZmlsbFJ1bGUiOiAiZXZlbm9kZCIsICJsaW5lQ2FwIjogInJvdW5kIiwgImxpbmVKb2luIjogInJvdW5kIiwgIm9wYWNpdHkiOiAxLjAsICJyYWRpdXMiOiAyMCwgInN0cm9rZSI6IHRydWUsICJ3ZWlnaHQiOiAzfQogICAgICAgICAgICApLmFkZFRvKG1hcF9iMTY3MzhjYzI5OGU0OWE4OGM5Y2I0OGQ1YzI5ZmJhOCk7CiAgICAgICAgCiAgICAKICAgICAgICB2YXIgcG9wdXBfOWQ4MGU1MzA3N2Y4NDliNWI1NDVlM2EyZDY3NDFkYmEgPSBMLnBvcHVwKHsibWF4V2lkdGgiOiAiMTAwJSJ9KTsKCiAgICAgICAgCiAgICAgICAgICAgIHZhciBodG1sX2E1ZmE0OWFjYzgwYTRjNGRhNzMxYTYyOTY4MmZjMTc1ID0gJChgPGRpdiBpZD0iaHRtbF9hNWZhNDlhY2M4MGE0YzRkYTczMWE2Mjk2ODJmYzE3NSIgc3R5bGU9IndpZHRoOiAxMDAuMCU7IGhlaWdodDogMTAwLjAlOyI+PC9kaXY+YClbMF07CiAgICAgICAgICAgIHBvcHVwXzlkODBlNTMwNzdmODQ5YjViNTQ1ZTNhMmQ2NzQxZGJhLnNldENvbnRlbnQoaHRtbF9hNWZhNDlhY2M4MGE0YzRkYTczMWE2Mjk2ODJmYzE3NSk7CiAgICAgICAgCgogICAgICAgIGNpcmNsZV9tYXJrZXJfOWZlMWM4NDU5Zjk2NDI3NjgyNzc1NGRlM2Y3OTc3YWUuYmluZFBvcHVwKHBvcHVwXzlkODBlNTMwNzdmODQ5YjViNTQ1ZTNhMmQ2NzQxZGJhKQogICAgICAgIDsKCiAgICAgICAgCiAgICAKICAgIAogICAgICAgICAgICB2YXIgY2lyY2xlX21hcmtlcl9jZmRiZTMzYjM2YTE0OWY3ODc4YWI1YmRjZmE4YzU5ZSA9IEwuY2lyY2xlTWFya2VyKAogICAgICAgICAgICAgICAgWzM3Ljc4NTI5OSwgLTEyMi4zOTYyMzYwMDAwMDAwMl0sCiAgICAgICAgICAgICAgICB7ImJ1YmJsaW5nTW91c2VFdmVudHMiOiB0cnVlLCAiY29sb3IiOiAiIzMzODhmZiIsICJkYXNoQXJyYXkiOiBudWxsLCAiZGFzaE9mZnNldCI6IG51bGwsICJmaWxsIjogdHJ1ZSwgImZpbGxDb2xvciI6ICJncmVlbiIsICJmaWxsT3BhY2l0eSI6IDAuMiwgImZpbGxSdWxlIjogImV2ZW5vZGQiLCAibGluZUNhcCI6ICJyb3VuZCIsICJsaW5lSm9pbiI6ICJyb3VuZCIsICJvcGFjaXR5IjogMS4wLCAicmFkaXVzIjogMjAsICJzdHJva2UiOiB0cnVlLCAid2VpZ2h0IjogM30KICAgICAgICAgICAgKS5hZGRUbyhtYXBfYjE2NzM4Y2MyOThlNDlhODhjOWNiNDhkNWMyOWZiYTgpOwogICAgICAgIAogICAgCiAgICAgICAgdmFyIHBvcHVwX2Q1NmRiYmYxNWE2ODRiZjZhYzUyZmQ0Zjc2YjJkOWU4ID0gTC5wb3B1cCh7Im1heFdpZHRoIjogIjEwMCUifSk7CgogICAgICAgIAogICAgICAgICAgICB2YXIgaHRtbF83MGNiMTNhMmVjYTE0ZTA0YjFiMGEzOGRlMjQ3NWM5OSA9ICQoYDxkaXYgaWQ9Imh0bWxfNzBjYjEzYTJlY2ExNGUwNGIxYjBhMzhkZTI0NzVjOTkiIHN0eWxlPSJ3aWR0aDogMTAwLjAlOyBoZWlnaHQ6IDEwMC4wJTsiPjwvZGl2PmApWzBdOwogICAgICAgICAgICBwb3B1cF9kNTZkYmJmMTVhNjg0YmY2YWM1MmZkNGY3NmIyZDllOC5zZXRDb250ZW50KGh0bWxfNzBjYjEzYTJlY2ExNGUwNGIxYjBhMzhkZTI0NzVjOTkpOwogICAgICAgIAoKICAgICAgICBjaXJjbGVfbWFya2VyX2NmZGJlMzNiMzZhMTQ5Zjc4NzhhYjViZGNmYThjNTllLmJpbmRQb3B1cChwb3B1cF9kNTZkYmJmMTVhNjg0YmY2YWM1MmZkNGY3NmIyZDllOCkKICAgICAgICA7CgogICAgICAgIAogICAgCiAgICAKICAgICAgICAgICAgdmFyIGNpcmNsZV9tYXJrZXJfNDJkMmRjMzNmZmNhNGMyMWFkOWMwZDYyZTU3YjllNDMgPSBMLmNpcmNsZU1hcmtlcigKICAgICAgICAgICAgICAgIFszNy43ODY5NzgwMDAwMDAwMDUsIC0xMjIuMzk4MTA4MDAwMDAwMDFdLAogICAgICAgICAgICAgICAgeyJidWJibGluZ01vdXNlRXZlbnRzIjogdHJ1ZSwgImNvbG9yIjogIiMzMzg4ZmYiLCAiZGFzaEFycmF5IjogbnVsbCwgImRhc2hPZmZzZXQiOiBudWxsLCAiZmlsbCI6IHRydWUsICJmaWxsQ29sb3IiOiAiZ3JlZW4iLCAiZmlsbE9wYWNpdHkiOiAwLjIsICJmaWxsUnVsZSI6ICJldmVub2RkIiwgImxpbmVDYXAiOiAicm91bmQiLCAibGluZUpvaW4iOiAicm91bmQiLCAib3BhY2l0eSI6IDEuMCwgInJhZGl1cyI6IDIwLCAic3Ryb2tlIjogdHJ1ZSwgIndlaWdodCI6IDN9CiAgICAgICAgICAgICkuYWRkVG8obWFwX2IxNjczOGNjMjk4ZTQ5YTg4YzljYjQ4ZDVjMjlmYmE4KTsKICAgICAgICAKICAgIAogICAgICAgIHZhciBwb3B1cF80ZTdhZjA5ODZlMmY0NThiYTc2OTY3NzA2NDYxZDc0YiA9IEwucG9wdXAoeyJtYXhXaWR0aCI6ICIxMDAlIn0pOwoKICAgICAgICAKICAgICAgICAgICAgdmFyIGh0bWxfOTU5MTA1YmZlMDA3NDg0YWI3N2VlOTk0YjViNzg5YmQgPSAkKGA8ZGl2IGlkPSJodG1sXzk1OTEwNWJmZTAwNzQ4NGFiNzdlZTk5NGI1Yjc4OWJkIiBzdHlsZT0id2lkdGg6IDEwMC4wJTsgaGVpZ2h0OiAxMDAuMCU7Ij48L2Rpdj5gKVswXTsKICAgICAgICAgICAgcG9wdXBfNGU3YWYwOTg2ZTJmNDU4YmE3Njk2NzcwNjQ2MWQ3NGIuc2V0Q29udGVudChodG1sXzk1OTEwNWJmZTAwNzQ4NGFiNzdlZTk5NGI1Yjc4OWJkKTsKICAgICAgICAKCiAgICAgICAgY2lyY2xlX21hcmtlcl80MmQyZGMzM2ZmY2E0YzIxYWQ5YzBkNjJlNTdiOWU0My5iaW5kUG9wdXAocG9wdXBfNGU3YWYwOTg2ZTJmNDU4YmE3Njk2NzcwNjQ2MWQ3NGIpCiAgICAgICAgOwoKICAgICAgICAKICAgIAogICAgCiAgICAgICAgICAgIHZhciBjaXJjbGVfbWFya2VyXzUxNDQzYjVhMzkwZjQwMjFiYWJlNzI4YzcxNDFhYzhlID0gTC5jaXJjbGVNYXJrZXIoCiAgICAgICAgICAgICAgICBbMzcuNzgyMjU5LCAtMTIyLjM5MjczOF0sCiAgICAgICAgICAgICAgICB7ImJ1YmJsaW5nTW91c2VFdmVudHMiOiB0cnVlLCAiY29sb3IiOiAiIzMzODhmZiIsICJkYXNoQXJyYXkiOiBudWxsLCAiZGFzaE9mZnNldCI6IG51bGwsICJmaWxsIjogdHJ1ZSwgImZpbGxDb2xvciI6ICJncmVlbiIsICJmaWxsT3BhY2l0eSI6IDAuMiwgImZpbGxSdWxlIjogImV2ZW5vZGQiLCAibGluZUNhcCI6ICJyb3VuZCIsICJsaW5lSm9pbiI6ICJyb3VuZCIsICJvcGFjaXR5IjogMS4wLCAicmFkaXVzIjogMjAsICJzdHJva2UiOiB0cnVlLCAid2VpZ2h0IjogM30KICAgICAgICAgICAgKS5hZGRUbyhtYXBfYjE2NzM4Y2MyOThlNDlhODhjOWNiNDhkNWMyOWZiYTgpOwogICAgICAgIAogICAgCiAgICAgICAgdmFyIHBvcHVwXzUzZDhmNzYzZDBlMDQ3OTNiMDk5YmU2ZWEzZDA5NTQ5ID0gTC5wb3B1cCh7Im1heFdpZHRoIjogIjEwMCUifSk7CgogICAgICAgIAogICAgICAgICAgICB2YXIgaHRtbF85NGJlMWU2ZGM0ZDE0YzQxOGQ2MTJmYjJlNzM1YTBmZSA9ICQoYDxkaXYgaWQ9Imh0bWxfOTRiZTFlNmRjNGQxNGM0MThkNjEyZmIyZTczNWEwZmUiIHN0eWxlPSJ3aWR0aDogMTAwLjAlOyBoZWlnaHQ6IDEwMC4wJTsiPjwvZGl2PmApWzBdOwogICAgICAgICAgICBwb3B1cF81M2Q4Zjc2M2QwZTA0NzkzYjA5OWJlNmVhM2QwOTU0OS5zZXRDb250ZW50KGh0bWxfOTRiZTFlNmRjNGQxNGM0MThkNjEyZmIyZTczNWEwZmUpOwogICAgICAgIAoKICAgICAgICBjaXJjbGVfbWFya2VyXzUxNDQzYjVhMzkwZjQwMjFiYWJlNzI4YzcxNDFhYzhlLmJpbmRQb3B1cChwb3B1cF81M2Q4Zjc2M2QwZTA0NzkzYjA5OWJlNmVhM2QwOTU0OSkKICAgICAgICA7CgogICAgICAgIAogICAgCiAgICAKICAgICAgICAgICAgdmFyIGNpcmNsZV9tYXJrZXJfNjVlODI0ZDcwMjY0NDEyNDhjMGQwYmY4NGRkNWQwYzkgPSBMLmNpcmNsZU1hcmtlcigKICAgICAgICAgICAgICAgIFszNy43NzEwNTgwMDAwMDAwMDQsIC0xMjIuNDAyNzE3XSwKICAgICAgICAgICAgICAgIHsiYnViYmxpbmdNb3VzZUV2ZW50cyI6IHRydWUsICJjb2xvciI6ICIjMzM4OGZmIiwgImRhc2hBcnJheSI6IG51bGwsICJkYXNoT2Zmc2V0IjogbnVsbCwgImZpbGwiOiB0cnVlLCAiZmlsbENvbG9yIjogImdyZWVuIiwgImZpbGxPcGFjaXR5IjogMC4yLCAiZmlsbFJ1bGUiOiAiZXZlbm9kZCIsICJsaW5lQ2FwIjogInJvdW5kIiwgImxpbmVKb2luIjogInJvdW5kIiwgIm9wYWNpdHkiOiAxLjAsICJyYWRpdXMiOiAyMCwgInN0cm9rZSI6IHRydWUsICJ3ZWlnaHQiOiAzfQogICAgICAgICAgICApLmFkZFRvKG1hcF9iMTY3MzhjYzI5OGU0OWE4OGM5Y2I0OGQ1YzI5ZmJhOCk7CiAgICAgICAgCiAgICAKICAgICAgICB2YXIgcG9wdXBfMWY4MTJiYzcwOTAxNDgxMzgwOTM4YzVjMTA5MjRkYzIgPSBMLnBvcHVwKHsibWF4V2lkdGgiOiAiMTAwJSJ9KTsKCiAgICAgICAgCiAgICAgICAgICAgIHZhciBodG1sXzgyOGQ4NjJiNmViMDQwNmU4NjMyMmRiZTc3MDkzMjE3ID0gJChgPGRpdiBpZD0iaHRtbF84MjhkODYyYjZlYjA0MDZlODYzMjJkYmU3NzA5MzIxNyIgc3R5bGU9IndpZHRoOiAxMDAuMCU7IGhlaWdodDogMTAwLjAlOyI+PC9kaXY+YClbMF07CiAgICAgICAgICAgIHBvcHVwXzFmODEyYmM3MDkwMTQ4MTM4MDkzOGM1YzEwOTI0ZGMyLnNldENvbnRlbnQoaHRtbF84MjhkODYyYjZlYjA0MDZlODYzMjJkYmU3NzA5MzIxNyk7CiAgICAgICAgCgogICAgICAgIGNpcmNsZV9tYXJrZXJfNjVlODI0ZDcwMjY0NDEyNDhjMGQwYmY4NGRkNWQwYzkuYmluZFBvcHVwKHBvcHVwXzFmODEyYmM3MDkwMTQ4MTM4MDkzOGM1YzEwOTI0ZGMyKQogICAgICAgIDsKCiAgICAgICAgCiAgICAKICAgIAogICAgICAgICAgICB2YXIgY2lyY2xlX21hcmtlcl9kNDY0N2I3MjFkNjk0MDA5OWQyYTZiMDc1ZTU4MTE3ZSA9IEwuY2lyY2xlTWFya2VyKAogICAgICAgICAgICAgICAgWzM3Ljc3NDgxNCwgLTEyMi40MTg5NTRdLAogICAgICAgICAgICAgICAgeyJidWJibGluZ01vdXNlRXZlbnRzIjogdHJ1ZSwgImNvbG9yIjogIiMzMzg4ZmYiLCAiZGFzaEFycmF5IjogbnVsbCwgImRhc2hPZmZzZXQiOiBudWxsLCAiZmlsbCI6IHRydWUsICJmaWxsQ29sb3IiOiAiZ3JlZW4iLCAiZmlsbE9wYWNpdHkiOiAwLjIsICJmaWxsUnVsZSI6ICJldmVub2RkIiwgImxpbmVDYXAiOiAicm91bmQiLCAibGluZUpvaW4iOiAicm91bmQiLCAib3BhY2l0eSI6IDEuMCwgInJhZGl1cyI6IDIwLCAic3Ryb2tlIjogdHJ1ZSwgIndlaWdodCI6IDN9CiAgICAgICAgICAgICkuYWRkVG8obWFwX2IxNjczOGNjMjk4ZTQ5YTg4YzljYjQ4ZDVjMjlmYmE4KTsKICAgICAgICAKICAgIAogICAgICAgIHZhciBwb3B1cF8wYTFhNWEyNjk0YTA0YzU3OWM5MDQ2OGZiZTc4OGYwOSA9IEwucG9wdXAoeyJtYXhXaWR0aCI6ICIxMDAlIn0pOwoKICAgICAgICAKICAgICAgICAgICAgdmFyIGh0bWxfZDMwMzg5NGZmNjc4NDgxYTg1ZmE2ZDljMGFjZWU4Y2IgPSAkKGA8ZGl2IGlkPSJodG1sX2QzMDM4OTRmZjY3ODQ4MWE4NWZhNmQ5YzBhY2VlOGNiIiBzdHlsZT0id2lkdGg6IDEwMC4wJTsgaGVpZ2h0OiAxMDAuMCU7Ij48L2Rpdj5gKVswXTsKICAgICAgICAgICAgcG9wdXBfMGExYTVhMjY5NGEwNGM1NzljOTA0NjhmYmU3ODhmMDkuc2V0Q29udGVudChodG1sX2QzMDM4OTRmZjY3ODQ4MWE4NWZhNmQ5YzBhY2VlOGNiKTsKICAgICAgICAKCiAgICAgICAgY2lyY2xlX21hcmtlcl9kNDY0N2I3MjFkNjk0MDA5OWQyYTZiMDc1ZTU4MTE3ZS5iaW5kUG9wdXAocG9wdXBfMGExYTVhMjY5NGEwNGM1NzljOTA0NjhmYmU3ODhmMDkpCiAgICAgICAgOwoKICAgICAgICAKICAgIAogICAgCiAgICAgICAgICAgIHZhciBjaXJjbGVfbWFya2VyXzlkNDczYmQ3OTY4NzQ4N2RiNzY0MTU2YWZmMDFkYTA1ID0gTC5jaXJjbGVNYXJrZXIoCiAgICAgICAgICAgICAgICBbMzcuNzc2NjE5MDAwMDAwMDA0LCAtMTIyLjQxNzM4NTAwMDAwMDAxXSwKICAgICAgICAgICAgICAgIHsiYnViYmxpbmdNb3VzZUV2ZW50cyI6IHRydWUsICJjb2xvciI6ICIjMzM4OGZmIiwgImRhc2hBcnJheSI6IG51bGwsICJkYXNoT2Zmc2V0IjogbnVsbCwgImZpbGwiOiB0cnVlLCAiZmlsbENvbG9yIjogImdyZWVuIiwgImZpbGxPcGFjaXR5IjogMC4yLCAiZmlsbFJ1bGUiOiAiZXZlbm9kZCIsICJsaW5lQ2FwIjogInJvdW5kIiwgImxpbmVKb2luIjogInJvdW5kIiwgIm9wYWNpdHkiOiAxLjAsICJyYWRpdXMiOiAyMCwgInN0cm9rZSI6IHRydWUsICJ3ZWlnaHQiOiAzfQogICAgICAgICAgICApLmFkZFRvKG1hcF9iMTY3MzhjYzI5OGU0OWE4OGM5Y2I0OGQ1YzI5ZmJhOCk7CiAgICAgICAgCiAgICAKICAgICAgICB2YXIgcG9wdXBfNWQ2ZGZmMjFmYjMyNDBlZThmNmNiMDI2MDM5M2YzNTQgPSBMLnBvcHVwKHsibWF4V2lkdGgiOiAiMTAwJSJ9KTsKCiAgICAgICAgCiAgICAgICAgICAgIHZhciBodG1sX2ZjZjdhMTI3NmNhOTRjZjI5ZGFkYWVjMmM5NWRhYTk2ID0gJChgPGRpdiBpZD0iaHRtbF9mY2Y3YTEyNzZjYTk0Y2YyOWRhZGFlYzJjOTVkYWE5NiIgc3R5bGU9IndpZHRoOiAxMDAuMCU7IGhlaWdodDogMTAwLjAlOyI+PC9kaXY+YClbMF07CiAgICAgICAgICAgIHBvcHVwXzVkNmRmZjIxZmIzMjQwZWU4ZjZjYjAyNjAzOTNmMzU0LnNldENvbnRlbnQoaHRtbF9mY2Y3YTEyNzZjYTk0Y2YyOWRhZGFlYzJjOTVkYWE5Nik7CiAgICAgICAgCgogICAgICAgIGNpcmNsZV9tYXJrZXJfOWQ0NzNiZDc5Njg3NDg3ZGI3NjQxNTZhZmYwMWRhMDUuYmluZFBvcHVwKHBvcHVwXzVkNmRmZjIxZmIzMjQwZWU4ZjZjYjAyNjAzOTNmMzU0KQogICAgICAgIDsKCiAgICAgICAgCiAgICAKICAgIAogICAgICAgICAgICB2YXIgY2lyY2xlX21hcmtlcl85YWMwOTU5NDE4MzI0MzY4OTVhNjMxNzdiMzhmNDRhYiA9IEwuY2lyY2xlTWFya2VyKAogICAgICAgICAgICAgICAgWzM3Ljc4NDg3ODAwMDAwMDAwNiwgLTEyMi40MDEwMTM5OTk5OTk5OV0sCiAgICAgICAgICAgICAgICB7ImJ1YmJsaW5nTW91c2VFdmVudHMiOiB0cnVlLCAiY29sb3IiOiAiIzMzODhmZiIsICJkYXNoQXJyYXkiOiBudWxsLCAiZGFzaE9mZnNldCI6IG51bGwsICJmaWxsIjogdHJ1ZSwgImZpbGxDb2xvciI6ICJncmVlbiIsICJmaWxsT3BhY2l0eSI6IDAuMiwgImZpbGxSdWxlIjogImV2ZW5vZGQiLCAibGluZUNhcCI6ICJyb3VuZCIsICJsaW5lSm9pbiI6ICJyb3VuZCIsICJvcGFjaXR5IjogMS4wLCAicmFkaXVzIjogMjAsICJzdHJva2UiOiB0cnVlLCAid2VpZ2h0IjogM30KICAgICAgICAgICAgKS5hZGRUbyhtYXBfYjE2NzM4Y2MyOThlNDlhODhjOWNiNDhkNWMyOWZiYTgpOwogICAgICAgIAogICAgCiAgICAgICAgdmFyIHBvcHVwX2YwNjdmZTMyYWE0ZTQ0MGE4ZWZiMTg2MTI0ZjdkNTE0ID0gTC5wb3B1cCh7Im1heFdpZHRoIjogIjEwMCUifSk7CgogICAgICAgIAogICAgICAgICAgICB2YXIgaHRtbF9kMjNmYzcwODA2NDk0YTNmYmUzY2EzODU3YzUzNTIyMCA9ICQoYDxkaXYgaWQ9Imh0bWxfZDIzZmM3MDgwNjQ5NGEzZmJlM2NhMzg1N2M1MzUyMjAiIHN0eWxlPSJ3aWR0aDogMTAwLjAlOyBoZWlnaHQ6IDEwMC4wJTsiPjwvZGl2PmApWzBdOwogICAgICAgICAgICBwb3B1cF9mMDY3ZmUzMmFhNGU0NDBhOGVmYjE4NjEyNGY3ZDUxNC5zZXRDb250ZW50KGh0bWxfZDIzZmM3MDgwNjQ5NGEzZmJlM2NhMzg1N2M1MzUyMjApOwogICAgICAgIAoKICAgICAgICBjaXJjbGVfbWFya2VyXzlhYzA5NTk0MTgzMjQzNjg5NWE2MzE3N2IzOGY0NGFiLmJpbmRQb3B1cChwb3B1cF9mMDY3ZmUzMmFhNGU0NDBhOGVmYjE4NjEyNGY3ZDUxNCkKICAgICAgICA7CgogICAgICAgIAogICAgCiAgICAKICAgICAgICAgICAgdmFyIGNpcmNsZV9tYXJrZXJfN2MzZjhjMGNiN2M1NGYyZjlmOWRjZmNmZDU5OGFmYzkgPSBMLmNpcmNsZU1hcmtlcigKICAgICAgICAgICAgICAgIFszNy43NzY2LCAtMTIyLjM5NTQ2OTk5OTk5OTk5XSwKICAgICAgICAgICAgICAgIHsiYnViYmxpbmdNb3VzZUV2ZW50cyI6IHRydWUsICJjb2xvciI6ICIjMzM4OGZmIiwgImRhc2hBcnJheSI6IG51bGwsICJkYXNoT2Zmc2V0IjogbnVsbCwgImZpbGwiOiB0cnVlLCAiZmlsbENvbG9yIjogImdyZWVuIiwgImZpbGxPcGFjaXR5IjogMC4yLCAiZmlsbFJ1bGUiOiAiZXZlbm9kZCIsICJsaW5lQ2FwIjogInJvdW5kIiwgImxpbmVKb2luIjogInJvdW5kIiwgIm9wYWNpdHkiOiAxLjAsICJyYWRpdXMiOiAyMCwgInN0cm9rZSI6IHRydWUsICJ3ZWlnaHQiOiAzfQogICAgICAgICAgICApLmFkZFRvKG1hcF9iMTY3MzhjYzI5OGU0OWE4OGM5Y2I0OGQ1YzI5ZmJhOCk7CiAgICAgICAgCiAgICAKICAgICAgICB2YXIgcG9wdXBfMjE3ODgwNDk3YzcwNDFiMTgyYTNhYzBkNjMwYzgyMjkgPSBMLnBvcHVwKHsibWF4V2lkdGgiOiAiMTAwJSJ9KTsKCiAgICAgICAgCiAgICAgICAgICAgIHZhciBodG1sXzg1NWIyMDA2ZjhmYjQxYTI4OTNjOGNlOTNjZTY3YjIxID0gJChgPGRpdiBpZD0iaHRtbF84NTViMjAwNmY4ZmI0MWEyODkzYzhjZTkzY2U2N2IyMSIgc3R5bGU9IndpZHRoOiAxMDAuMCU7IGhlaWdodDogMTAwLjAlOyI+PC9kaXY+YClbMF07CiAgICAgICAgICAgIHBvcHVwXzIxNzg4MDQ5N2M3MDQxYjE4MmEzYWMwZDYzMGM4MjI5LnNldENvbnRlbnQoaHRtbF84NTViMjAwNmY4ZmI0MWEyODkzYzhjZTkzY2U2N2IyMSk7CiAgICAgICAgCgogICAgICAgIGNpcmNsZV9tYXJrZXJfN2MzZjhjMGNiN2M1NGYyZjlmOWRjZmNmZDU5OGFmYzkuYmluZFBvcHVwKHBvcHVwXzIxNzg4MDQ5N2M3MDQxYjE4MmEzYWMwZDYzMGM4MjI5KQogICAgICAgIDsKCiAgICAgICAgCiAgICAKICAgIAogICAgICAgICAgICB2YXIgY2lyY2xlX21hcmtlcl9lMmIzYmM4NjZkNDY0MTg4YjcwZWM0YTc1MzI1MWFhOSA9IEwuY2lyY2xlTWFya2VyKAogICAgICAgICAgICAgICAgWzM3Ljc3NjYxNywgLTEyMi4zOTUyNjAwMDAwMDAwMV0sCiAgICAgICAgICAgICAgICB7ImJ1YmJsaW5nTW91c2VFdmVudHMiOiB0cnVlLCAiY29sb3IiOiAiIzMzODhmZiIsICJkYXNoQXJyYXkiOiBudWxsLCAiZGFzaE9mZnNldCI6IG51bGwsICJmaWxsIjogdHJ1ZSwgImZpbGxDb2xvciI6ICJncmVlbiIsICJmaWxsT3BhY2l0eSI6IDAuMiwgImZpbGxSdWxlIjogImV2ZW5vZGQiLCAibGluZUNhcCI6ICJyb3VuZCIsICJsaW5lSm9pbiI6ICJyb3VuZCIsICJvcGFjaXR5IjogMS4wLCAicmFkaXVzIjogMjAsICJzdHJva2UiOiB0cnVlLCAid2VpZ2h0IjogM30KICAgICAgICAgICAgKS5hZGRUbyhtYXBfYjE2NzM4Y2MyOThlNDlhODhjOWNiNDhkNWMyOWZiYTgpOwogICAgICAgIAogICAgCiAgICAgICAgdmFyIHBvcHVwX2JkY2FhY2NhMTEzYzQ0NTBhOTUzMjkzMWQxYTUyMGViID0gTC5wb3B1cCh7Im1heFdpZHRoIjogIjEwMCUifSk7CgogICAgICAgIAogICAgICAgICAgICB2YXIgaHRtbF82ZTE3MzE4ZGQyM2M0Yjc3OGZlZmVmMWQxNDg0NGRjZSA9ICQoYDxkaXYgaWQ9Imh0bWxfNmUxNzMxOGRkMjNjNGI3NzhmZWZlZjFkMTQ4NDRkY2UiIHN0eWxlPSJ3aWR0aDogMTAwLjAlOyBoZWlnaHQ6IDEwMC4wJTsiPjwvZGl2PmApWzBdOwogICAgICAgICAgICBwb3B1cF9iZGNhYWNjYTExM2M0NDUwYTk1MzI5MzFkMWE1MjBlYi5zZXRDb250ZW50KGh0bWxfNmUxNzMxOGRkMjNjNGI3NzhmZWZlZjFkMTQ4NDRkY2UpOwogICAgICAgIAoKICAgICAgICBjaXJjbGVfbWFya2VyX2UyYjNiYzg2NmQ0NjQxODhiNzBlYzRhNzUzMjUxYWE5LmJpbmRQb3B1cChwb3B1cF9iZGNhYWNjYTExM2M0NDUwYTk1MzI5MzFkMWE1MjBlYikKICAgICAgICA7CgogICAgICAgIAogICAgCiAgICAKICAgICAgICAgICAgdmFyIGNpcmNsZV9tYXJrZXJfN2ZlOWJjODJjYTIzNGQzYzk1MDkxZDU2MDhhMDVkNWIgPSBMLmNpcmNsZU1hcmtlcigKICAgICAgICAgICAgICAgIFszNy43ODg0NDYsIC0xMjIuNDA4NDk5XSwKICAgICAgICAgICAgICAgIHsiYnViYmxpbmdNb3VzZUV2ZW50cyI6IHRydWUsICJjb2xvciI6ICIjMzM4OGZmIiwgImRhc2hBcnJheSI6IG51bGwsICJkYXNoT2Zmc2V0IjogbnVsbCwgImZpbGwiOiB0cnVlLCAiZmlsbENvbG9yIjogImdyZWVuIiwgImZpbGxPcGFjaXR5IjogMC4yLCAiZmlsbFJ1bGUiOiAiZXZlbm9kZCIsICJsaW5lQ2FwIjogInJvdW5kIiwgImxpbmVKb2luIjogInJvdW5kIiwgIm9wYWNpdHkiOiAxLjAsICJyYWRpdXMiOiAyMCwgInN0cm9rZSI6IHRydWUsICJ3ZWlnaHQiOiAzfQogICAgICAgICAgICApLmFkZFRvKG1hcF9iMTY3MzhjYzI5OGU0OWE4OGM5Y2I0OGQ1YzI5ZmJhOCk7CiAgICAgICAgCiAgICAKICAgICAgICB2YXIgcG9wdXBfYTlmMGE5M2JlYWIzNDY5MDkyNmZiYWJhMTZkZTcyOWIgPSBMLnBvcHVwKHsibWF4V2lkdGgiOiAiMTAwJSJ9KTsKCiAgICAgICAgCiAgICAgICAgICAgIHZhciBodG1sXzVkNDI3ZmNlYTZiYjQ3ZmE4MGFlZDM3NDA4MGIzZmEyID0gJChgPGRpdiBpZD0iaHRtbF81ZDQyN2ZjZWE2YmI0N2ZhODBhZWQzNzQwODBiM2ZhMiIgc3R5bGU9IndpZHRoOiAxMDAuMCU7IGhlaWdodDogMTAwLjAlOyI+PC9kaXY+YClbMF07CiAgICAgICAgICAgIHBvcHVwX2E5ZjBhOTNiZWFiMzQ2OTA5MjZmYmFiYTE2ZGU3MjliLnNldENvbnRlbnQoaHRtbF81ZDQyN2ZjZWE2YmI0N2ZhODBhZWQzNzQwODBiM2ZhMik7CiAgICAgICAgCgogICAgICAgIGNpcmNsZV9tYXJrZXJfN2ZlOWJjODJjYTIzNGQzYzk1MDkxZDU2MDhhMDVkNWIuYmluZFBvcHVwKHBvcHVwX2E5ZjBhOTNiZWFiMzQ2OTA5MjZmYmFiYTE2ZGU3MjliKQogICAgICAgIDsKCiAgICAgICAgCiAgICAKICAgIAogICAgICAgICAgICB2YXIgY2lyY2xlX21hcmtlcl8yZTE5ZWExOTIxYmI0OTI3OWYyNGQ5YmM2ZWJjNWU1ZCA9IEwuY2lyY2xlTWFya2VyKAogICAgICAgICAgICAgICAgWzM3Ljc4MTAzOSwgLTEyMi40MTE3NDhdLAogICAgICAgICAgICAgICAgeyJidWJibGluZ01vdXNlRXZlbnRzIjogdHJ1ZSwgImNvbG9yIjogIiMzMzg4ZmYiLCAiZGFzaEFycmF5IjogbnVsbCwgImRhc2hPZmZzZXQiOiBudWxsLCAiZmlsbCI6IHRydWUsICJmaWxsQ29sb3IiOiAiZ3JlZW4iLCAiZmlsbE9wYWNpdHkiOiAwLjIsICJmaWxsUnVsZSI6ICJldmVub2RkIiwgImxpbmVDYXAiOiAicm91bmQiLCAibGluZUpvaW4iOiAicm91bmQiLCAib3BhY2l0eSI6IDEuMCwgInJhZGl1cyI6IDIwLCAic3Ryb2tlIjogdHJ1ZSwgIndlaWdodCI6IDN9CiAgICAgICAgICAgICkuYWRkVG8obWFwX2IxNjczOGNjMjk4ZTQ5YTg4YzljYjQ4ZDVjMjlmYmE4KTsKICAgICAgICAKICAgIAogICAgICAgIHZhciBwb3B1cF9hNTZlMGQxNWY1NTE0ZDdjYTAyYTc0ZjBlOTBiODE1ZiA9IEwucG9wdXAoeyJtYXhXaWR0aCI6ICIxMDAlIn0pOwoKICAgICAgICAKICAgICAgICAgICAgdmFyIGh0bWxfNzc4MDBlYjYyNTc3NDEzNTliNDEzMjZhNjI4OGFlMDkgPSAkKGA8ZGl2IGlkPSJodG1sXzc3ODAwZWI2MjU3NzQxMzU5YjQxMzI2YTYyODhhZTA5IiBzdHlsZT0id2lkdGg6IDEwMC4wJTsgaGVpZ2h0OiAxMDAuMCU7Ij48L2Rpdj5gKVswXTsKICAgICAgICAgICAgcG9wdXBfYTU2ZTBkMTVmNTUxNGQ3Y2EwMmE3NGYwZTkwYjgxNWYuc2V0Q29udGVudChodG1sXzc3ODAwZWI2MjU3NzQxMzU5YjQxMzI2YTYyODhhZTA5KTsKICAgICAgICAKCiAgICAgICAgY2lyY2xlX21hcmtlcl8yZTE5ZWExOTIxYmI0OTI3OWYyNGQ5YmM2ZWJjNWU1ZC5iaW5kUG9wdXAocG9wdXBfYTU2ZTBkMTVmNTUxNGQ3Y2EwMmE3NGYwZTkwYjgxNWYpCiAgICAgICAgOwoKICAgICAgICAKICAgIAogICAgCiAgICAgICAgICAgIHZhciBjaXJjbGVfbWFya2VyXzY3NGQxMDQzMGIyMDQ4MTI5OGVlNzQxYWU5ZDI5ZGQzID0gTC5jaXJjbGVNYXJrZXIoCiAgICAgICAgICAgICAgICBbMzcuNzk4NTIyLCAtMTIyLjQwNzI0NDk5OTk5OTk5XSwKICAgICAgICAgICAgICAgIHsiYnViYmxpbmdNb3VzZUV2ZW50cyI6IHRydWUsICJjb2xvciI6ICIjMzM4OGZmIiwgImRhc2hBcnJheSI6IG51bGwsICJkYXNoT2Zmc2V0IjogbnVsbCwgImZpbGwiOiB0cnVlLCAiZmlsbENvbG9yIjogImdyZWVuIiwgImZpbGxPcGFjaXR5IjogMC4yLCAiZmlsbFJ1bGUiOiAiZXZlbm9kZCIsICJsaW5lQ2FwIjogInJvdW5kIiwgImxpbmVKb2luIjogInJvdW5kIiwgIm9wYWNpdHkiOiAxLjAsICJyYWRpdXMiOiAyMCwgInN0cm9rZSI6IHRydWUsICJ3ZWlnaHQiOiAzfQogICAgICAgICAgICApLmFkZFRvKG1hcF9iMTY3MzhjYzI5OGU0OWE4OGM5Y2I0OGQ1YzI5ZmJhOCk7CiAgICAgICAgCiAgICAKICAgICAgICB2YXIgcG9wdXBfZTIwMjc0NjhkMGU0NDZiYTg1MzI1ZWZiYTFkYzEyMzUgPSBMLnBvcHVwKHsibWF4V2lkdGgiOiAiMTAwJSJ9KTsKCiAgICAgICAgCiAgICAgICAgICAgIHZhciBodG1sX2Y0NTFjYTZiMWY2ZjQ1M2M5ZmMyODE5NjUwZDlhNTIzID0gJChgPGRpdiBpZD0iaHRtbF9mNDUxY2E2YjFmNmY0NTNjOWZjMjgxOTY1MGQ5YTUyMyIgc3R5bGU9IndpZHRoOiAxMDAuMCU7IGhlaWdodDogMTAwLjAlOyI+PC9kaXY+YClbMF07CiAgICAgICAgICAgIHBvcHVwX2UyMDI3NDY4ZDBlNDQ2YmE4NTMyNWVmYmExZGMxMjM1LnNldENvbnRlbnQoaHRtbF9mNDUxY2E2YjFmNmY0NTNjOWZjMjgxOTY1MGQ5YTUyMyk7CiAgICAgICAgCgogICAgICAgIGNpcmNsZV9tYXJrZXJfNjc0ZDEwNDMwYjIwNDgxMjk4ZWU3NDFhZTlkMjlkZDMuYmluZFBvcHVwKHBvcHVwX2UyMDI3NDY4ZDBlNDQ2YmE4NTMyNWVmYmExZGMxMjM1KQogICAgICAgIDsKCiAgICAgICAgCiAgICAKICAgIAogICAgICAgICAgICB2YXIgY2lyY2xlX21hcmtlcl9mZGFmYzk2MmY1MWI0YmRiYjA2OWQyZjQwYWQ2MDhjOSA9IEwuY2lyY2xlTWFya2VyKAogICAgICAgICAgICAgICAgWzM3Ljc5NDEzOSwgLTEyMi4zOTQ0MzRdLAogICAgICAgICAgICAgICAgeyJidWJibGluZ01vdXNlRXZlbnRzIjogdHJ1ZSwgImNvbG9yIjogIiMzMzg4ZmYiLCAiZGFzaEFycmF5IjogbnVsbCwgImRhc2hPZmZzZXQiOiBudWxsLCAiZmlsbCI6IHRydWUsICJmaWxsQ29sb3IiOiAiZ3JlZW4iLCAiZmlsbE9wYWNpdHkiOiAwLjIsICJmaWxsUnVsZSI6ICJldmVub2RkIiwgImxpbmVDYXAiOiAicm91bmQiLCAibGluZUpvaW4iOiAicm91bmQiLCAib3BhY2l0eSI6IDEuMCwgInJhZGl1cyI6IDIwLCAic3Ryb2tlIjogdHJ1ZSwgIndlaWdodCI6IDN9CiAgICAgICAgICAgICkuYWRkVG8obWFwX2IxNjczOGNjMjk4ZTQ5YTg4YzljYjQ4ZDVjMjlmYmE4KTsKICAgICAgICAKICAgIAogICAgICAgIHZhciBwb3B1cF82ZGM3ODE5MzJiYzc0OTc5YTkyNjY3YjBmMDc5YTQ3ZCA9IEwucG9wdXAoeyJtYXhXaWR0aCI6ICIxMDAlIn0pOwoKICAgICAgICAKICAgICAgICAgICAgdmFyIGh0bWxfZjdlM2RiYjY0YjMwNGIyZWEzZGMxMDJmODUwNmUwMzQgPSAkKGA8ZGl2IGlkPSJodG1sX2Y3ZTNkYmI2NGIzMDRiMmVhM2RjMTAyZjg1MDZlMDM0IiBzdHlsZT0id2lkdGg6IDEwMC4wJTsgaGVpZ2h0OiAxMDAuMCU7Ij48L2Rpdj5gKVswXTsKICAgICAgICAgICAgcG9wdXBfNmRjNzgxOTMyYmM3NDk3OWE5MjY2N2IwZjA3OWE0N2Quc2V0Q29udGVudChodG1sX2Y3ZTNkYmI2NGIzMDRiMmVhM2RjMTAyZjg1MDZlMDM0KTsKICAgICAgICAKCiAgICAgICAgY2lyY2xlX21hcmtlcl9mZGFmYzk2MmY1MWI0YmRiYjA2OWQyZjQwYWQ2MDhjOS5iaW5kUG9wdXAocG9wdXBfNmRjNzgxOTMyYmM3NDk3OWE5MjY2N2IwZjA3OWE0N2QpCiAgICAgICAgOwoKICAgICAgICAKICAgIAogICAgCiAgICAgICAgICAgIHZhciBjaXJjbGVfbWFya2VyX2RiOTM0MzNiMWFhZDRmNDM4YWI4ZGViZDg5N2EwNTZlID0gTC5jaXJjbGVNYXJrZXIoCiAgICAgICAgICAgICAgICBbMzcuNzkxMywgLTEyMi4zOTkwNTFdLAogICAgICAgICAgICAgICAgeyJidWJibGluZ01vdXNlRXZlbnRzIjogdHJ1ZSwgImNvbG9yIjogIiMzMzg4ZmYiLCAiZGFzaEFycmF5IjogbnVsbCwgImRhc2hPZmZzZXQiOiBudWxsLCAiZmlsbCI6IHRydWUsICJmaWxsQ29sb3IiOiAiZ3JlZW4iLCAiZmlsbE9wYWNpdHkiOiAwLjIsICJmaWxsUnVsZSI6ICJldmVub2RkIiwgImxpbmVDYXAiOiAicm91bmQiLCAibGluZUpvaW4iOiAicm91bmQiLCAib3BhY2l0eSI6IDEuMCwgInJhZGl1cyI6IDIwLCAic3Ryb2tlIjogdHJ1ZSwgIndlaWdodCI6IDN9CiAgICAgICAgICAgICkuYWRkVG8obWFwX2IxNjczOGNjMjk4ZTQ5YTg4YzljYjQ4ZDVjMjlmYmE4KTsKICAgICAgICAKICAgIAogICAgICAgIHZhciBwb3B1cF8zY2M3M2FiMWFlZGE0ZTA4ODY1NjNlZjg3MTMxMzAxNyA9IEwucG9wdXAoeyJtYXhXaWR0aCI6ICIxMDAlIn0pOwoKICAgICAgICAKICAgICAgICAgICAgdmFyIGh0bWxfMTM1MzdmYWY0YTdiNDk3MDlmMmMyZDFmZjM5ODc2MGMgPSAkKGA8ZGl2IGlkPSJodG1sXzEzNTM3ZmFmNGE3YjQ5NzA5ZjJjMmQxZmYzOTg3NjBjIiBzdHlsZT0id2lkdGg6IDEwMC4wJTsgaGVpZ2h0OiAxMDAuMCU7Ij48L2Rpdj5gKVswXTsKICAgICAgICAgICAgcG9wdXBfM2NjNzNhYjFhZWRhNGUwODg2NTYzZWY4NzEzMTMwMTcuc2V0Q29udGVudChodG1sXzEzNTM3ZmFmNGE3YjQ5NzA5ZjJjMmQxZmYzOTg3NjBjKTsKICAgICAgICAKCiAgICAgICAgY2lyY2xlX21hcmtlcl9kYjkzNDMzYjFhYWQ0ZjQzOGFiOGRlYmQ4OTdhMDU2ZS5iaW5kUG9wdXAocG9wdXBfM2NjNzNhYjFhZWRhNGUwODg2NTYzZWY4NzEzMTMwMTcpCiAgICAgICAgOwoKICAgICAgICAKICAgIAogICAgCiAgICAgICAgICAgIHZhciBjaXJjbGVfbWFya2VyXzY4ZGY0ZWNkYjlmZjRlYjM4MGJlZGZjYWE0ODdiNjI0ID0gTC5jaXJjbGVNYXJrZXIoCiAgICAgICAgICAgICAgICBbMzcuNzg2MzA1LCAtMTIyLjQwNDk2NTk5OTk5OTk5XSwKICAgICAgICAgICAgICAgIHsiYnViYmxpbmdNb3VzZUV2ZW50cyI6IHRydWUsICJjb2xvciI6ICIjMzM4OGZmIiwgImRhc2hBcnJheSI6IG51bGwsICJkYXNoT2Zmc2V0IjogbnVsbCwgImZpbGwiOiB0cnVlLCAiZmlsbENvbG9yIjogImdyZWVuIiwgImZpbGxPcGFjaXR5IjogMC4yLCAiZmlsbFJ1bGUiOiAiZXZlbm9kZCIsICJsaW5lQ2FwIjogInJvdW5kIiwgImxpbmVKb2luIjogInJvdW5kIiwgIm9wYWNpdHkiOiAxLjAsICJyYWRpdXMiOiAyMCwgInN0cm9rZSI6IHRydWUsICJ3ZWlnaHQiOiAzfQogICAgICAgICAgICApLmFkZFRvKG1hcF9iMTY3MzhjYzI5OGU0OWE4OGM5Y2I0OGQ1YzI5ZmJhOCk7CiAgICAgICAgCiAgICAKICAgICAgICB2YXIgcG9wdXBfMzE4YmQzYjM5YTE3NGNhNmIzMDFlNTI5YTZmMmYzMzMgPSBMLnBvcHVwKHsibWF4V2lkdGgiOiAiMTAwJSJ9KTsKCiAgICAgICAgCiAgICAgICAgICAgIHZhciBodG1sX2Y2ZjdiMjE1MzE2MDQ2ODVhNGY2NzhhODI5NmFkYjI5ID0gJChgPGRpdiBpZD0iaHRtbF9mNmY3YjIxNTMxNjA0Njg1YTRmNjc4YTgyOTZhZGIyOSIgc3R5bGU9IndpZHRoOiAxMDAuMCU7IGhlaWdodDogMTAwLjAlOyI+PC9kaXY+YClbMF07CiAgICAgICAgICAgIHBvcHVwXzMxOGJkM2IzOWExNzRjYTZiMzAxZTUyOWE2ZjJmMzMzLnNldENvbnRlbnQoaHRtbF9mNmY3YjIxNTMxNjA0Njg1YTRmNjc4YTgyOTZhZGIyOSk7CiAgICAgICAgCgogICAgICAgIGNpcmNsZV9tYXJrZXJfNjhkZjRlY2RiOWZmNGViMzgwYmVkZmNhYTQ4N2I2MjQuYmluZFBvcHVwKHBvcHVwXzMxOGJkM2IzOWExNzRjYTZiMzAxZTUyOWE2ZjJmMzMzKQogICAgICAgIDsKCiAgICAgICAgCiAgICAKICAgIAogICAgICAgICAgICB2YXIgY2lyY2xlX21hcmtlcl8wZjQzYzA2M2UwOGU0NjJiODY2YzQwZjE0ODAwMzhkYiA9IEwuY2lyY2xlTWFya2VyKAogICAgICAgICAgICAgICAgWzM3Ljc4OTYyNSwgLTEyMi40MDA4MTFdLAogICAgICAgICAgICAgICAgeyJidWJibGluZ01vdXNlRXZlbnRzIjogdHJ1ZSwgImNvbG9yIjogIiMzMzg4ZmYiLCAiZGFzaEFycmF5IjogbnVsbCwgImRhc2hPZmZzZXQiOiBudWxsLCAiZmlsbCI6IHRydWUsICJmaWxsQ29sb3IiOiAiZ3JlZW4iLCAiZmlsbE9wYWNpdHkiOiAwLjIsICJmaWxsUnVsZSI6ICJldmVub2RkIiwgImxpbmVDYXAiOiAicm91bmQiLCAibGluZUpvaW4iOiAicm91bmQiLCAib3BhY2l0eSI6IDEuMCwgInJhZGl1cyI6IDIwLCAic3Ryb2tlIjogdHJ1ZSwgIndlaWdodCI6IDN9CiAgICAgICAgICAgICkuYWRkVG8obWFwX2IxNjczOGNjMjk4ZTQ5YTg4YzljYjQ4ZDVjMjlmYmE4KTsKICAgICAgICAKICAgIAogICAgICAgIHZhciBwb3B1cF8xYTAxZmZjOTcxZGQ0MjJlOTY4YTRhYzJiZGYwNDhmNyA9IEwucG9wdXAoeyJtYXhXaWR0aCI6ICIxMDAlIn0pOwoKICAgICAgICAKICAgICAgICAgICAgdmFyIGh0bWxfODI0ZTJhZDIyMzM1NDhmNjhjODQwMTNmNTU0Y2Q3NGIgPSAkKGA8ZGl2IGlkPSJodG1sXzgyNGUyYWQyMjMzNTQ4ZjY4Yzg0MDEzZjU1NGNkNzRiIiBzdHlsZT0id2lkdGg6IDEwMC4wJTsgaGVpZ2h0OiAxMDAuMCU7Ij48L2Rpdj5gKVswXTsKICAgICAgICAgICAgcG9wdXBfMWEwMWZmYzk3MWRkNDIyZTk2OGE0YWMyYmRmMDQ4Zjcuc2V0Q29udGVudChodG1sXzgyNGUyYWQyMjMzNTQ4ZjY4Yzg0MDEzZjU1NGNkNzRiKTsKICAgICAgICAKCiAgICAgICAgY2lyY2xlX21hcmtlcl8wZjQzYzA2M2UwOGU0NjJiODY2YzQwZjE0ODAwMzhkYi5iaW5kUG9wdXAocG9wdXBfMWEwMWZmYzk3MWRkNDIyZTk2OGE0YWMyYmRmMDQ4ZjcpCiAgICAgICAgOwoKICAgICAgICAKICAgIAogICAgCiAgICAgICAgICAgIHZhciBjaXJjbGVfbWFya2VyXzI0YzYzYzQ1Yjc4OTQxZTBhOWUxMzBmNDFmMzJkZjk4ID0gTC5jaXJjbGVNYXJrZXIoCiAgICAgICAgICAgICAgICBbMzcuNzk4NTQxLCAtMTIyLjQwMDg2MjAwMDAwMDAyXSwKICAgICAgICAgICAgICAgIHsiYnViYmxpbmdNb3VzZUV2ZW50cyI6IHRydWUsICJjb2xvciI6ICIjMzM4OGZmIiwgImRhc2hBcnJheSI6IG51bGwsICJkYXNoT2Zmc2V0IjogbnVsbCwgImZpbGwiOiB0cnVlLCAiZmlsbENvbG9yIjogImdyZWVuIiwgImZpbGxPcGFjaXR5IjogMC4yLCAiZmlsbFJ1bGUiOiAiZXZlbm9kZCIsICJsaW5lQ2FwIjogInJvdW5kIiwgImxpbmVKb2luIjogInJvdW5kIiwgIm9wYWNpdHkiOiAxLjAsICJyYWRpdXMiOiAyMCwgInN0cm9rZSI6IHRydWUsICJ3ZWlnaHQiOiAzfQogICAgICAgICAgICApLmFkZFRvKG1hcF9iMTY3MzhjYzI5OGU0OWE4OGM5Y2I0OGQ1YzI5ZmJhOCk7CiAgICAgICAgCiAgICAKICAgICAgICB2YXIgcG9wdXBfZDk5Nzk5YmYxYWVkNGFhZGFhMDlkN2NiNWIyMzY5YWUgPSBMLnBvcHVwKHsibWF4V2lkdGgiOiAiMTAwJSJ9KTsKCiAgICAgICAgCiAgICAgICAgICAgIHZhciBodG1sXzE3ODkzOWUzMDIwMDQ3ZGFhNzc4ZTE4MTUyNWU3Y2I0ID0gJChgPGRpdiBpZD0iaHRtbF8xNzg5MzllMzAyMDA0N2RhYTc3OGUxODE1MjVlN2NiNCIgc3R5bGU9IndpZHRoOiAxMDAuMCU7IGhlaWdodDogMTAwLjAlOyI+PC9kaXY+YClbMF07CiAgICAgICAgICAgIHBvcHVwX2Q5OTc5OWJmMWFlZDRhYWRhYTA5ZDdjYjViMjM2OWFlLnNldENvbnRlbnQoaHRtbF8xNzg5MzllMzAyMDA0N2RhYTc3OGUxODE1MjVlN2NiNCk7CiAgICAgICAgCgogICAgICAgIGNpcmNsZV9tYXJrZXJfMjRjNjNjNDViNzg5NDFlMGE5ZTEzMGY0MWYzMmRmOTguYmluZFBvcHVwKHBvcHVwX2Q5OTc5OWJmMWFlZDRhYWRhYTA5ZDdjYjViMjM2OWFlKQogICAgICAgIDsKCiAgICAgICAgCiAgICAKPC9zY3JpcHQ+\" style=\"position:absolute;width:100%;height:100%;left:0;top:0;border:none !important;\" allowfullscreen webkitallowfullscreen mozallowfullscreen></iframe></div></div>"
      ],
      "text/plain": [
       "<datascience.maps.Map at 0x7f81980b3390>"
      ]
     },
     "execution_count": 115,
     "metadata": {},
     "output_type": "execute_result"
    }
   ],
   "source": [
    "sf = stations.where('landmark', 'San Francisco')\n",
    "Circle.map_table(sf.select('lat', 'long', 'name'), color='green', radius=20)"
   ]
  },
  {
   "cell_type": "code",
   "execution_count": 116,
   "metadata": {
    "scrolled": true
   },
   "outputs": [
    {
     "data": {
      "text/html": [
       "<table border=\"1\" class=\"dataframe\">\n",
       "    <thead>\n",
       "        <tr>\n",
       "            <th>Start Station</th> <th>End Station</th> <th>Duration min</th>\n",
       "        </tr>\n",
       "    </thead>\n",
       "    <tbody>\n",
       "        <tr>\n",
       "            <td>Civic Center BART (7th at Market)</td> <td>Civic Center BART (7th at Market)</td> <td>60          </td>\n",
       "        </tr>\n",
       "        <tr>\n",
       "            <td>Civic Center BART (7th at Market)</td> <td>Powell Street BART               </td> <td>97          </td>\n",
       "        </tr>\n",
       "        <tr>\n",
       "            <td>Civic Center BART (7th at Market)</td> <td>Market at 10th                   </td> <td>104         </td>\n",
       "        </tr>\n",
       "        <tr>\n",
       "            <td>Civic Center BART (7th at Market)</td> <td>Golden Gate at Polk              </td> <td>141         </td>\n",
       "        </tr>\n",
       "        <tr>\n",
       "            <td>Civic Center BART (7th at Market)</td> <td>San Francisco City Hall          </td> <td>151         </td>\n",
       "        </tr>\n",
       "        <tr>\n",
       "            <td>Civic Center BART (7th at Market)</td> <td>Market at 4th                    </td> <td>164         </td>\n",
       "        </tr>\n",
       "        <tr>\n",
       "            <td>Civic Center BART (7th at Market)</td> <td>5th at Howard                    </td> <td>179         </td>\n",
       "        </tr>\n",
       "        <tr>\n",
       "            <td>Civic Center BART (7th at Market)</td> <td>South Van Ness at Market         </td> <td>199         </td>\n",
       "        </tr>\n",
       "        <tr>\n",
       "            <td>Civic Center BART (7th at Market)</td> <td>Market at Sansome                </td> <td>254         </td>\n",
       "        </tr>\n",
       "        <tr>\n",
       "            <td>Civic Center BART (7th at Market)</td> <td>Powell at Post (Union Square)    </td> <td>254         </td>\n",
       "        </tr>\n",
       "    </tbody>\n",
       "</table>\n",
       "<p>... (25 rows omitted)</p>"
      ],
      "text/plain": [
       "Start Station                     | End Station                       | Duration min\n",
       "Civic Center BART (7th at Market) | Civic Center BART (7th at Market) | 60\n",
       "Civic Center BART (7th at Market) | Powell Street BART                | 97\n",
       "Civic Center BART (7th at Market) | Market at 10th                    | 104\n",
       "Civic Center BART (7th at Market) | Golden Gate at Polk               | 141\n",
       "Civic Center BART (7th at Market) | San Francisco City Hall           | 151\n",
       "Civic Center BART (7th at Market) | Market at 4th                     | 164\n",
       "Civic Center BART (7th at Market) | 5th at Howard                     | 179\n",
       "Civic Center BART (7th at Market) | South Van Ness at Market          | 199\n",
       "Civic Center BART (7th at Market) | Market at Sansome                 | 254\n",
       "Civic Center BART (7th at Market) | Powell at Post (Union Square)     | 254\n",
       "... (25 rows omitted)"
      ]
     },
     "execution_count": 116,
     "metadata": {},
     "output_type": "execute_result"
    }
   ],
   "source": [
    "from_cc"
   ]
  },
  {
   "cell_type": "code",
   "execution_count": 117,
   "metadata": {},
   "outputs": [
    {
     "data": {
      "text/html": [
       "<table border=\"1\" class=\"dataframe\">\n",
       "    <thead>\n",
       "        <tr>\n",
       "            <th>station_id</th> <th>name</th> <th>lat</th> <th>long</th> <th>dockcount</th> <th>landmark</th> <th>installation</th>\n",
       "        </tr>\n",
       "    </thead>\n",
       "    <tbody>\n",
       "        <tr>\n",
       "            <td>2         </td> <td>San Jose Diridon Caltrain Station</td> <td>37.3297</td> <td>-121.902</td> <td>27       </td> <td>San Jose</td> <td>8/6/2013    </td>\n",
       "        </tr>\n",
       "        <tr>\n",
       "            <td>3         </td> <td>San Jose Civic Center            </td> <td>37.3307</td> <td>-121.889</td> <td>15       </td> <td>San Jose</td> <td>8/5/2013    </td>\n",
       "        </tr>\n",
       "        <tr>\n",
       "            <td>4         </td> <td>Santa Clara at Almaden           </td> <td>37.334 </td> <td>-121.895</td> <td>11       </td> <td>San Jose</td> <td>8/6/2013    </td>\n",
       "        </tr>\n",
       "        <tr>\n",
       "            <td>5         </td> <td>Adobe on Almaden                 </td> <td>37.3314</td> <td>-121.893</td> <td>19       </td> <td>San Jose</td> <td>8/5/2013    </td>\n",
       "        </tr>\n",
       "        <tr>\n",
       "            <td>6         </td> <td>San Pedro Square                 </td> <td>37.3367</td> <td>-121.894</td> <td>15       </td> <td>San Jose</td> <td>8/7/2013    </td>\n",
       "        </tr>\n",
       "        <tr>\n",
       "            <td>7         </td> <td>Paseo de San Antonio             </td> <td>37.3338</td> <td>-121.887</td> <td>15       </td> <td>San Jose</td> <td>8/7/2013    </td>\n",
       "        </tr>\n",
       "        <tr>\n",
       "            <td>8         </td> <td>San Salvador at 1st              </td> <td>37.3302</td> <td>-121.886</td> <td>15       </td> <td>San Jose</td> <td>8/5/2013    </td>\n",
       "        </tr>\n",
       "        <tr>\n",
       "            <td>9         </td> <td>Japantown                        </td> <td>37.3487</td> <td>-121.895</td> <td>15       </td> <td>San Jose</td> <td>8/5/2013    </td>\n",
       "        </tr>\n",
       "        <tr>\n",
       "            <td>10        </td> <td>San Jose City Hall               </td> <td>37.3374</td> <td>-121.887</td> <td>15       </td> <td>San Jose</td> <td>8/6/2013    </td>\n",
       "        </tr>\n",
       "        <tr>\n",
       "            <td>11        </td> <td>MLK Library                      </td> <td>37.3359</td> <td>-121.886</td> <td>19       </td> <td>San Jose</td> <td>8/6/2013    </td>\n",
       "        </tr>\n",
       "    </tbody>\n",
       "</table>\n",
       "<p>... (60 rows omitted)</p>"
      ],
      "text/plain": [
       "station_id | name                              | lat     | long     | dockcount | landmark | installation\n",
       "2          | San Jose Diridon Caltrain Station | 37.3297 | -121.902 | 27        | San Jose | 8/6/2013\n",
       "3          | San Jose Civic Center             | 37.3307 | -121.889 | 15        | San Jose | 8/5/2013\n",
       "4          | Santa Clara at Almaden            | 37.334  | -121.895 | 11        | San Jose | 8/6/2013\n",
       "5          | Adobe on Almaden                  | 37.3314 | -121.893 | 19        | San Jose | 8/5/2013\n",
       "6          | San Pedro Square                  | 37.3367 | -121.894 | 15        | San Jose | 8/7/2013\n",
       "7          | Paseo de San Antonio              | 37.3338 | -121.887 | 15        | San Jose | 8/7/2013\n",
       "8          | San Salvador at 1st               | 37.3302 | -121.886 | 15        | San Jose | 8/5/2013\n",
       "9          | Japantown                         | 37.3487 | -121.895 | 15        | San Jose | 8/5/2013\n",
       "10         | San Jose City Hall                | 37.3374 | -121.887 | 15        | San Jose | 8/6/2013\n",
       "11         | MLK Library                       | 37.3359 | -121.886 | 19        | San Jose | 8/6/2013\n",
       "... (60 rows omitted)"
      ]
     },
     "execution_count": 117,
     "metadata": {},
     "output_type": "execute_result"
    }
   ],
   "source": [
    "stations"
   ]
  },
  {
   "cell_type": "code",
   "execution_count": 118,
   "metadata": {},
   "outputs": [
    {
     "data": {
      "text/html": [
       "<table border=\"1\" class=\"dataframe\">\n",
       "    <thead>\n",
       "        <tr>\n",
       "            <th>landmark</th> <th>count</th> <th>color</th>\n",
       "        </tr>\n",
       "    </thead>\n",
       "    <tbody>\n",
       "        <tr>\n",
       "            <td>Mountain View</td> <td>7    </td> <td>blue  </td>\n",
       "        </tr>\n",
       "        <tr>\n",
       "            <td>Palo Alto    </td> <td>5    </td> <td>red   </td>\n",
       "        </tr>\n",
       "        <tr>\n",
       "            <td>Redwood City </td> <td>7    </td> <td>green </td>\n",
       "        </tr>\n",
       "        <tr>\n",
       "            <td>San Francisco</td> <td>35   </td> <td>orange</td>\n",
       "        </tr>\n",
       "        <tr>\n",
       "            <td>San Jose     </td> <td>16   </td> <td>purple</td>\n",
       "        </tr>\n",
       "    </tbody>\n",
       "</table>"
      ],
      "text/plain": [
       "landmark      | count | color\n",
       "Mountain View | 7     | blue\n",
       "Palo Alto     | 5     | red\n",
       "Redwood City  | 7     | green\n",
       "San Francisco | 35    | orange\n",
       "San Jose      | 16    | purple"
      ]
     },
     "execution_count": 118,
     "metadata": {},
     "output_type": "execute_result"
    }
   ],
   "source": [
    "colors = stations.group('landmark').with_column(\n",
    "    'color', make_array('blue', 'red', 'green', 'orange', 'purple'))\n",
    "colors"
   ]
  },
  {
   "cell_type": "code",
   "execution_count": 119,
   "metadata": {
    "scrolled": true
   },
   "outputs": [
    {
     "data": {
      "text/html": [
       "<table border=\"1\" class=\"dataframe\">\n",
       "    <thead>\n",
       "        <tr>\n",
       "            <th>lat</th> <th>long</th> <th>name</th> <th>color</th>\n",
       "        </tr>\n",
       "    </thead>\n",
       "    <tbody>\n",
       "        <tr>\n",
       "            <td>37.3892</td> <td>-122.082</td> <td>Mountain View City Hall              </td> <td>blue </td>\n",
       "        </tr>\n",
       "        <tr>\n",
       "            <td>37.3944</td> <td>-122.077</td> <td>Mountain View Caltrain Station       </td> <td>blue </td>\n",
       "        </tr>\n",
       "        <tr>\n",
       "            <td>37.4069</td> <td>-122.107</td> <td>San Antonio Caltrain Station         </td> <td>blue </td>\n",
       "        </tr>\n",
       "        <tr>\n",
       "            <td>37.3903</td> <td>-122.067</td> <td>Evelyn Park and Ride                 </td> <td>blue </td>\n",
       "        </tr>\n",
       "        <tr>\n",
       "            <td>37.4004</td> <td>-122.108</td> <td>San Antonio Shopping Center          </td> <td>blue </td>\n",
       "        </tr>\n",
       "        <tr>\n",
       "            <td>37.386 </td> <td>-122.084</td> <td>Castro Street and El Camino Real     </td> <td>blue </td>\n",
       "        </tr>\n",
       "        <tr>\n",
       "            <td>37.4002</td> <td>-122.099</td> <td>Rengstorff Avenue / California Street</td> <td>blue </td>\n",
       "        </tr>\n",
       "        <tr>\n",
       "            <td>37.444 </td> <td>-122.165</td> <td>Palo Alto Caltrain Station           </td> <td>red  </td>\n",
       "        </tr>\n",
       "        <tr>\n",
       "            <td>37.4445</td> <td>-122.163</td> <td>University and Emerson               </td> <td>red  </td>\n",
       "        </tr>\n",
       "        <tr>\n",
       "            <td>37.4291</td> <td>-122.143</td> <td>California Ave Caltrain Station      </td> <td>red  </td>\n",
       "        </tr>\n",
       "    </tbody>\n",
       "</table>\n",
       "<p>... (60 rows omitted)</p>"
      ],
      "text/plain": [
       "lat     | long     | name                                  | color\n",
       "37.3892 | -122.082 | Mountain View City Hall               | blue\n",
       "37.3944 | -122.077 | Mountain View Caltrain Station        | blue\n",
       "37.4069 | -122.107 | San Antonio Caltrain Station          | blue\n",
       "37.3903 | -122.067 | Evelyn Park and Ride                  | blue\n",
       "37.4004 | -122.108 | San Antonio Shopping Center           | blue\n",
       "37.386  | -122.084 | Castro Street and El Camino Real      | blue\n",
       "37.4002 | -122.099 | Rengstorff Avenue / California Street | blue\n",
       "37.444  | -122.165 | Palo Alto Caltrain Station            | red\n",
       "37.4445 | -122.163 | University and Emerson                | red\n",
       "37.4291 | -122.143 | California Ave Caltrain Station       | red\n",
       "... (60 rows omitted)"
      ]
     },
     "execution_count": 119,
     "metadata": {},
     "output_type": "execute_result"
    }
   ],
   "source": [
    "colored = stations.join('landmark', colors).select('lat', 'long', 'name', 'color')\n",
    "colored"
   ]
  },
  {
   "cell_type": "code",
   "execution_count": 120,
   "metadata": {},
   "outputs": [
    {
     "data": {
      "text/html": [
       "<div style=\"width:100%;\"><div style=\"position:relative;width:100%;height:0;padding-bottom:60%;\"><iframe src=\"data:text/html;charset=utf-8;base64,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\" style=\"position:absolute;width:100%;height:100%;left:0;top:0;border:none !important;\" allowfullscreen webkitallowfullscreen mozallowfullscreen></iframe></div></div>"
      ],
      "text/plain": [
       "<datascience.maps.Map at 0x7f81c9424710>"
      ]
     },
     "execution_count": 120,
     "metadata": {},
     "output_type": "execute_result"
    }
   ],
   "source": [
    "Marker.map_table(colored)"
   ]
  },
  {
   "cell_type": "markdown",
   "metadata": {},
   "source": [
    "Let's make the marker relative to the number of trips"
   ]
  },
  {
   "cell_type": "code",
   "execution_count": 121,
   "metadata": {
    "scrolled": true
   },
   "outputs": [
    {
     "data": {
      "text/html": [
       "<table border=\"1\" class=\"dataframe\">\n",
       "    <thead>\n",
       "        <tr>\n",
       "            <th>Start Station</th> <th>count</th>\n",
       "        </tr>\n",
       "    </thead>\n",
       "    <tbody>\n",
       "        <tr>\n",
       "            <td>San Francisco Caltrain (Townsend at 4th)     </td> <td>25858</td>\n",
       "        </tr>\n",
       "        <tr>\n",
       "            <td>San Francisco Caltrain 2 (330 Townsend)      </td> <td>21523</td>\n",
       "        </tr>\n",
       "        <tr>\n",
       "            <td>Harry Bridges Plaza (Ferry Building)         </td> <td>15543</td>\n",
       "        </tr>\n",
       "        <tr>\n",
       "            <td>Temporary Transbay Terminal (Howard at Beale)</td> <td>14298</td>\n",
       "        </tr>\n",
       "        <tr>\n",
       "            <td>2nd at Townsend                              </td> <td>13674</td>\n",
       "        </tr>\n",
       "        <tr>\n",
       "            <td>Townsend at 7th                              </td> <td>13579</td>\n",
       "        </tr>\n",
       "        <tr>\n",
       "            <td>Steuart at Market                            </td> <td>13215</td>\n",
       "        </tr>\n",
       "        <tr>\n",
       "            <td>Embarcadero at Sansome                       </td> <td>12842</td>\n",
       "        </tr>\n",
       "        <tr>\n",
       "            <td>Market at 10th                               </td> <td>11523</td>\n",
       "        </tr>\n",
       "        <tr>\n",
       "            <td>Market at Sansome                            </td> <td>11023</td>\n",
       "        </tr>\n",
       "    </tbody>\n",
       "</table>\n",
       "<p>... (60 rows omitted)</p>"
      ],
      "text/plain": [
       "Start Station                                 | count\n",
       "San Francisco Caltrain (Townsend at 4th)      | 25858\n",
       "San Francisco Caltrain 2 (330 Townsend)       | 21523\n",
       "Harry Bridges Plaza (Ferry Building)          | 15543\n",
       "Temporary Transbay Terminal (Howard at Beale) | 14298\n",
       "2nd at Townsend                               | 13674\n",
       "Townsend at 7th                               | 13579\n",
       "Steuart at Market                             | 13215\n",
       "Embarcadero at Sansome                        | 12842\n",
       "Market at 10th                                | 11523\n",
       "Market at Sansome                             | 11023\n",
       "... (60 rows omitted)"
      ]
     },
     "execution_count": 121,
     "metadata": {},
     "output_type": "execute_result"
    }
   ],
   "source": [
    "starts"
   ]
  },
  {
   "cell_type": "code",
   "execution_count": 122,
   "metadata": {},
   "outputs": [
    {
     "data": {
      "text/html": [
       "<table border=\"1\" class=\"dataframe\">\n",
       "    <thead>\n",
       "        <tr>\n",
       "            <th>name</th> <th>station_id</th> <th>lat</th> <th>long</th> <th>dockcount</th> <th>landmark</th> <th>installation</th> <th>count</th>\n",
       "        </tr>\n",
       "    </thead>\n",
       "    <tbody>\n",
       "        <tr>\n",
       "            <td>2nd at Folsom                   </td> <td>62        </td> <td>37.7853</td> <td>-122.396</td> <td>19       </td> <td>San Francisco</td> <td>8/22/2013   </td> <td>7841 </td>\n",
       "        </tr>\n",
       "        <tr>\n",
       "            <td>2nd at South Park               </td> <td>64        </td> <td>37.7823</td> <td>-122.393</td> <td>15       </td> <td>San Francisco</td> <td>8/22/2013   </td> <td>9274 </td>\n",
       "        </tr>\n",
       "        <tr>\n",
       "            <td>2nd at Townsend                 </td> <td>61        </td> <td>37.7805</td> <td>-122.39 </td> <td>27       </td> <td>San Francisco</td> <td>8/22/2013   </td> <td>13674</td>\n",
       "        </tr>\n",
       "        <tr>\n",
       "            <td>5th at Howard                   </td> <td>57        </td> <td>37.7818</td> <td>-122.405</td> <td>15       </td> <td>San Francisco</td> <td>8/21/2013   </td> <td>7394 </td>\n",
       "        </tr>\n",
       "        <tr>\n",
       "            <td>Adobe on Almaden                </td> <td>5         </td> <td>37.3314</td> <td>-121.893</td> <td>19       </td> <td>San Jose     </td> <td>8/5/2013    </td> <td>522  </td>\n",
       "        </tr>\n",
       "        <tr>\n",
       "            <td>Arena Green / SAP Center        </td> <td>14        </td> <td>37.3327</td> <td>-121.9  </td> <td>19       </td> <td>San Jose     </td> <td>8/5/2013    </td> <td>590  </td>\n",
       "        </tr>\n",
       "        <tr>\n",
       "            <td>Beale at Market                 </td> <td>56        </td> <td>37.7923</td> <td>-122.397</td> <td>19       </td> <td>San Francisco</td> <td>8/20/2013   </td> <td>8135 </td>\n",
       "        </tr>\n",
       "        <tr>\n",
       "            <td>Broadway St at Battery St       </td> <td>82        </td> <td>37.7985</td> <td>-122.401</td> <td>15       </td> <td>San Francisco</td> <td>1/22/2014   </td> <td>7460 </td>\n",
       "        </tr>\n",
       "        <tr>\n",
       "            <td>California Ave Caltrain Station </td> <td>36        </td> <td>37.4291</td> <td>-122.143</td> <td>15       </td> <td>Palo Alto    </td> <td>8/14/2013   </td> <td>300  </td>\n",
       "        </tr>\n",
       "        <tr>\n",
       "            <td>Castro Street and El Camino Real</td> <td>32        </td> <td>37.386 </td> <td>-122.084</td> <td>11       </td> <td>Mountain View</td> <td>12/31/2013  </td> <td>1137 </td>\n",
       "        </tr>\n",
       "    </tbody>\n",
       "</table>\n",
       "<p>... (58 rows omitted)</p>"
      ],
      "text/plain": [
       "name                             | station_id | lat     | long     | dockcount | landmark      | installation | count\n",
       "2nd at Folsom                    | 62         | 37.7853 | -122.396 | 19        | San Francisco | 8/22/2013    | 7841\n",
       "2nd at South Park                | 64         | 37.7823 | -122.393 | 15        | San Francisco | 8/22/2013    | 9274\n",
       "2nd at Townsend                  | 61         | 37.7805 | -122.39  | 27        | San Francisco | 8/22/2013    | 13674\n",
       "5th at Howard                    | 57         | 37.7818 | -122.405 | 15        | San Francisco | 8/21/2013    | 7394\n",
       "Adobe on Almaden                 | 5          | 37.3314 | -121.893 | 19        | San Jose      | 8/5/2013     | 522\n",
       "Arena Green / SAP Center         | 14         | 37.3327 | -121.9   | 19        | San Jose      | 8/5/2013     | 590\n",
       "Beale at Market                  | 56         | 37.7923 | -122.397 | 19        | San Francisco | 8/20/2013    | 8135\n",
       "Broadway St at Battery St        | 82         | 37.7985 | -122.401 | 15        | San Francisco | 1/22/2014    | 7460\n",
       "California Ave Caltrain Station  | 36         | 37.4291 | -122.143 | 15        | Palo Alto     | 8/14/2013    | 300\n",
       "Castro Street and El Camino Real | 32         | 37.386  | -122.084 | 11        | Mountain View | 12/31/2013   | 1137\n",
       "... (58 rows omitted)"
      ]
     },
     "execution_count": 122,
     "metadata": {},
     "output_type": "execute_result"
    }
   ],
   "source": [
    "station_starts = stations.join('name', starts, 'Start Station')\n",
    "station_starts"
   ]
  },
  {
   "cell_type": "code",
   "execution_count": 123,
   "metadata": {},
   "outputs": [
    {
     "data": {
      "text/html": [
       "<table border=\"1\" class=\"dataframe\">\n",
       "    <thead>\n",
       "        <tr>\n",
       "            <th>lat</th> <th>long</th> <th>name</th> <th>color</th> <th>radius</th>\n",
       "        </tr>\n",
       "    </thead>\n",
       "    <tbody>\n",
       "        <tr>\n",
       "            <td>37.7853</td> <td>-122.396</td> <td>2nd at Folsom                   </td> <td>blue </td> <td>15.682</td>\n",
       "        </tr>\n",
       "        <tr>\n",
       "            <td>37.7823</td> <td>-122.393</td> <td>2nd at South Park               </td> <td>blue </td> <td>18.548</td>\n",
       "        </tr>\n",
       "        <tr>\n",
       "            <td>37.7805</td> <td>-122.39 </td> <td>2nd at Townsend                 </td> <td>blue </td> <td>27.348</td>\n",
       "        </tr>\n",
       "        <tr>\n",
       "            <td>37.7818</td> <td>-122.405</td> <td>5th at Howard                   </td> <td>blue </td> <td>14.788</td>\n",
       "        </tr>\n",
       "        <tr>\n",
       "            <td>37.3314</td> <td>-121.893</td> <td>Adobe on Almaden                </td> <td>blue </td> <td>1.044 </td>\n",
       "        </tr>\n",
       "        <tr>\n",
       "            <td>37.3327</td> <td>-121.9  </td> <td>Arena Green / SAP Center        </td> <td>blue </td> <td>1.18  </td>\n",
       "        </tr>\n",
       "        <tr>\n",
       "            <td>37.7923</td> <td>-122.397</td> <td>Beale at Market                 </td> <td>blue </td> <td>16.27 </td>\n",
       "        </tr>\n",
       "        <tr>\n",
       "            <td>37.7985</td> <td>-122.401</td> <td>Broadway St at Battery St       </td> <td>blue </td> <td>14.92 </td>\n",
       "        </tr>\n",
       "        <tr>\n",
       "            <td>37.4291</td> <td>-122.143</td> <td>California Ave Caltrain Station </td> <td>blue </td> <td>0.6   </td>\n",
       "        </tr>\n",
       "        <tr>\n",
       "            <td>37.386 </td> <td>-122.084</td> <td>Castro Street and El Camino Real</td> <td>blue </td> <td>2.274 </td>\n",
       "        </tr>\n",
       "    </tbody>\n",
       "</table>\n",
       "<p>... (58 rows omitted)</p>"
      ],
      "text/plain": [
       "lat     | long     | name                             | color | radius\n",
       "37.7853 | -122.396 | 2nd at Folsom                    | blue  | 15.682\n",
       "37.7823 | -122.393 | 2nd at South Park                | blue  | 18.548\n",
       "37.7805 | -122.39  | 2nd at Townsend                  | blue  | 27.348\n",
       "37.7818 | -122.405 | 5th at Howard                    | blue  | 14.788\n",
       "37.3314 | -121.893 | Adobe on Almaden                 | blue  | 1.044\n",
       "37.3327 | -121.9   | Arena Green / SAP Center         | blue  | 1.18\n",
       "37.7923 | -122.397 | Beale at Market                  | blue  | 16.27\n",
       "37.7985 | -122.401 | Broadway St at Battery St        | blue  | 14.92\n",
       "37.4291 | -122.143 | California Ave Caltrain Station  | blue  | 0.6\n",
       "37.386  | -122.084 | Castro Street and El Camino Real | blue  | 2.274\n",
       "... (58 rows omitted)"
      ]
     },
     "execution_count": 123,
     "metadata": {},
     "output_type": "execute_result"
    }
   ],
   "source": [
    "ready_to_map = station_starts.select('lat', 'long', 'name').with_columns(\n",
    "    'color', 'blue',\n",
    "    'radius', station_starts.column('count') /500\n",
    ")\n",
    "ready_to_map"
   ]
  },
  {
   "cell_type": "code",
   "execution_count": 124,
   "metadata": {},
   "outputs": [
    {
     "data": {
      "text/html": [
       "<div style=\"width:100%;\"><div style=\"position:relative;width:100%;height:0;padding-bottom:60%;\"><iframe src=\"data:text/html;charset=utf-8;base64,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\" style=\"position:absolute;width:100%;height:100%;left:0;top:0;border:none !important;\" allowfullscreen webkitallowfullscreen mozallowfullscreen></iframe></div></div>"
      ],
      "text/plain": [
       "<datascience.maps.Map at 0x7f819a6ce940>"
      ]
     },
     "execution_count": 124,
     "metadata": {},
     "output_type": "execute_result"
    }
   ],
   "source": [
    "Circle.map_table(ready_to_map)"
   ]
  },
  {
   "cell_type": "markdown",
   "metadata": {},
   "source": [
    "## Take Home Question"
   ]
  },
  {
   "cell_type": "code",
   "execution_count": null,
   "metadata": {},
   "outputs": [],
   "source": [
    "# Solution to take-home question:\n",
    "# How do you make a table of the highest paid players for each team & position\n",
    "indexed = nba.with_column('INDEX', np.arange(nba.num_rows))\n",
    "def highest_paid(indices):\n",
    "    return indexed.take(indices).sort('SALARY', descending=True).column('PLAYER').item(0)\n",
    "indexed.pivot('POSITION', 'TEAM', 'INDEX', highest_paid)"
   ]
  },
  {
   "cell_type": "code",
   "execution_count": null,
   "metadata": {},
   "outputs": [],
   "source": [
    "# The solution above does not assume that the nba table is already sorted.\n",
    "# Since nba is sorted in decreasing order of salary by team, the following works too\n",
    "def first(players):\n",
    "    return players.item(0)\n",
    "indexed.pivot('POSITION', 'TEAM', 'PLAYER', first)"
   ]
  }
 ],
 "metadata": {
  "kernelspec": {
   "display_name": "Python 3",
   "language": "python",
   "name": "python3"
  },
  "language_info": {
   "codemirror_mode": {
    "name": "ipython",
    "version": 3
   },
   "file_extension": ".py",
   "mimetype": "text/x-python",
   "name": "python",
   "nbconvert_exporter": "python",
   "pygments_lexer": "ipython3",
   "version": "3.6.7"
  }
 },
 "nbformat": 4,
 "nbformat_minor": 2
}
