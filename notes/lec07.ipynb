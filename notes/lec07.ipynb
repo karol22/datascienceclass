{
 "cells": [
  {
   "cell_type": "code",
   "execution_count": 1,
   "metadata": {},
   "outputs": [],
   "source": [
    "from datascience import *\n",
    "import numpy as np\n",
    "\n",
    "import matplotlib.pyplot as plots\n",
    "plots.style.use('fivethirtyeight')\n",
    "%matplotlib inline\n",
    "\n",
    "from ipywidgets import interact, interactive, fixed, interact_manual\n",
    "import ipywidgets as widgets"
   ]
  },
  {
   "cell_type": "code",
   "execution_count": 2,
   "metadata": {},
   "outputs": [
    {
     "data": {
      "text/html": [
       "<table border=\"1\" class=\"dataframe\">\n",
       "    <thead>\n",
       "        <tr>\n",
       "            <th>face</th>\n",
       "        </tr>\n",
       "    </thead>\n",
       "    <tbody>\n",
       "        <tr>\n",
       "            <td>1   </td>\n",
       "        </tr>\n",
       "        <tr>\n",
       "            <td>2   </td>\n",
       "        </tr>\n",
       "        <tr>\n",
       "            <td>3   </td>\n",
       "        </tr>\n",
       "        <tr>\n",
       "            <td>4   </td>\n",
       "        </tr>\n",
       "        <tr>\n",
       "            <td>5   </td>\n",
       "        </tr>\n",
       "        <tr>\n",
       "            <td>6   </td>\n",
       "        </tr>\n",
       "    </tbody>\n",
       "</table>"
      ],
      "text/plain": [
       "face\n",
       "1\n",
       "2\n",
       "3\n",
       "4\n",
       "5\n",
       "6"
      ]
     },
     "execution_count": 2,
     "metadata": {},
     "output_type": "execute_result"
    }
   ],
   "source": [
    "die = Table().with_column('face', np.arange(6)+1)\n",
    "die"
   ]
  },
  {
   "cell_type": "code",
   "execution_count": 14,
   "metadata": {},
   "outputs": [
    {
     "data": {
      "text/html": [
       "<table border=\"1\" class=\"dataframe\">\n",
       "    <thead>\n",
       "        <tr>\n",
       "            <th>face</th>\n",
       "        </tr>\n",
       "    </thead>\n",
       "    <tbody>\n",
       "        <tr>\n",
       "            <td>5   </td>\n",
       "        </tr>\n",
       "    </tbody>\n",
       "</table>"
      ],
      "text/plain": [
       "face\n",
       "5"
      ]
     },
     "execution_count": 14,
     "metadata": {},
     "output_type": "execute_result"
    }
   ],
   "source": [
    "die.sample(1)"
   ]
  },
  {
   "cell_type": "code",
   "execution_count": 15,
   "metadata": {},
   "outputs": [
    {
     "data": {
      "image/png": "[encoded data removed]",
      "text/plain": [
       "<Figure size 432x288 with 1 Axes>"
      ]
     },
     "metadata": {
      "needs_background": "light"
     },
     "output_type": "display_data"
    }
   ],
   "source": [
    "def face_hist(t):\n",
    "    t.hist('face', bins=np.arange(0.5, 7, 1), unit='face')\n",
    "    plots.xlabel('Face')\n",
    "    \n",
    "face_hist(die)"
   ]
  },
  {
   "cell_type": "code",
   "execution_count": 23,
   "metadata": {},
   "outputs": [
    {
     "data": {
      "image/png": "[encoded data removed]",
      "text/plain": [
       "<Figure size 432x288 with 1 Axes>"
      ]
     },
     "metadata": {
      "needs_background": "light"
     },
     "output_type": "display_data"
    }
   ],
   "source": [
    "face_hist(die.sample(100000))"
   ]
  },
  {
   "cell_type": "code",
   "execution_count": null,
   "metadata": {},
   "outputs": [],
   "source": []
  },
  {
   "cell_type": "markdown",
   "metadata": {},
   "source": [
    "## At least one 6"
   ]
  },
  {
   "cell_type": "markdown",
   "metadata": {},
   "source": [
    "Roll a die 4 times. What's P(at least one 6)."
   ]
  },
  {
   "cell_type": "code",
   "execution_count": 26,
   "metadata": {},
   "outputs": [
    {
     "data": {
      "text/plain": [
       "0.9739159466954111"
      ]
     },
     "execution_count": 26,
     "metadata": {},
     "output_type": "execute_result"
    }
   ],
   "source": [
    "1 - (5/6) ** 20"
   ]
  },
  {
   "cell_type": "code",
   "execution_count": 27,
   "metadata": {
    "scrolled": true
   },
   "outputs": [
    {
     "data": {
      "text/html": [
       "<table border=\"1\" class=\"dataframe\">\n",
       "    <thead>\n",
       "        <tr>\n",
       "            <th>Rolls</th> <th>Chance of at least one 6</th>\n",
       "        </tr>\n",
       "    </thead>\n",
       "    <tbody>\n",
       "        <tr>\n",
       "            <td>1    </td> <td>16.6667%                </td>\n",
       "        </tr>\n",
       "        <tr>\n",
       "            <td>2    </td> <td>30.5556%                </td>\n",
       "        </tr>\n",
       "        <tr>\n",
       "            <td>3    </td> <td>42.1296%                </td>\n",
       "        </tr>\n",
       "        <tr>\n",
       "            <td>4    </td> <td>51.7747%                </td>\n",
       "        </tr>\n",
       "        <tr>\n",
       "            <td>5    </td> <td>59.8122%                </td>\n",
       "        </tr>\n",
       "        <tr>\n",
       "            <td>6    </td> <td>66.5102%                </td>\n",
       "        </tr>\n",
       "        <tr>\n",
       "            <td>7    </td> <td>72.0918%                </td>\n",
       "        </tr>\n",
       "        <tr>\n",
       "            <td>8    </td> <td>76.7432%                </td>\n",
       "        </tr>\n",
       "        <tr>\n",
       "            <td>9    </td> <td>80.6193%                </td>\n",
       "        </tr>\n",
       "        <tr>\n",
       "            <td>10   </td> <td>83.8494%                </td>\n",
       "        </tr>\n",
       "    </tbody>\n",
       "</table>\n",
       "<p>... (40 rows omitted)</p>"
      ],
      "text/plain": [
       "Rolls | Chance of at least one 6\n",
       "1     | 16.6667%\n",
       "2     | 30.5556%\n",
       "3     | 42.1296%\n",
       "4     | 51.7747%\n",
       "5     | 59.8122%\n",
       "6     | 66.5102%\n",
       "7     | 72.0918%\n",
       "8     | 76.7432%\n",
       "9     | 80.6193%\n",
       "10    | 83.8494%\n",
       "... (40 rows omitted)"
      ]
     },
     "execution_count": 27,
     "metadata": {},
     "output_type": "execute_result"
    }
   ],
   "source": [
    "rolls = np.arange(1, 51, 1)\n",
    "at_least_one = Table().with_columns(\n",
    "    'Rolls', rolls,\n",
    "    'Chance of at least one 6', 1 - (5/6)**rolls\n",
    ")\n",
    "at_least_one.set_format(1, PercentFormatter(4))"
   ]
  },
  {
   "cell_type": "code",
   "execution_count": 28,
   "metadata": {},
   "outputs": [
    {
     "data": {
      "image/png": "[encoded data removed]",
      "text/plain": [
       "<Figure size 360x360 with 1 Axes>"
      ]
     },
     "metadata": {
      "needs_background": "light"
     },
     "output_type": "display_data"
    }
   ],
   "source": [
    "at_least_one.scatter('Rolls')"
   ]
  },
  {
   "cell_type": "code",
   "execution_count": 29,
   "metadata": {},
   "outputs": [
    {
     "data": {
      "text/html": [
       "<table border=\"1\" class=\"dataframe\">\n",
       "    <thead>\n",
       "        <tr>\n",
       "            <th>Rolls</th> <th>Chance of at least one 6</th>\n",
       "        </tr>\n",
       "    </thead>\n",
       "    <tbody>\n",
       "        <tr>\n",
       "            <td>20   </td> <td>97.3916%                </td>\n",
       "        </tr>\n",
       "    </tbody>\n",
       "</table>"
      ],
      "text/plain": [
       "Rolls | Chance of at least one 6\n",
       "20    | 97.3916%"
      ]
     },
     "execution_count": 29,
     "metadata": {},
     "output_type": "execute_result"
    }
   ],
   "source": [
    "at_least_one.where('Rolls', 20)"
   ]
  },
  {
   "cell_type": "markdown",
   "metadata": {},
   "source": [
    "Now let's do the same empirically, using the power of computer"
   ]
  },
  {
   "cell_type": "code",
   "execution_count": 35,
   "metadata": {},
   "outputs": [
    {
     "data": {
      "text/plain": [
       "array([2, 3, 1, 6, 3, 3, 4, 3, 2, 4, 3, 1, 5, 2, 6, 4, 5, 4, 5, 4])"
      ]
     },
     "execution_count": 35,
     "metadata": {},
     "output_type": "execute_result"
    }
   ],
   "source": [
    "faces = np.arange(6)+1\n",
    "outcomes = np.random.choice(faces, 20)\n",
    "outcomes"
   ]
  },
  {
   "cell_type": "code",
   "execution_count": 37,
   "metadata": {},
   "outputs": [
    {
     "data": {
      "text/plain": [
       "array([False, False, False,  True, False, False, False, False, False,\n",
       "       False, False, False, False, False,  True, False, False, False,\n",
       "       False, False])"
      ]
     },
     "execution_count": 37,
     "metadata": {},
     "output_type": "execute_result"
    }
   ],
   "source": [
    "outcomes==6"
   ]
  },
  {
   "cell_type": "code",
   "execution_count": 36,
   "metadata": {},
   "outputs": [
    {
     "data": {
      "text/plain": [
       "2"
      ]
     },
     "execution_count": 36,
     "metadata": {},
     "output_type": "execute_result"
    }
   ],
   "source": [
    "np.count_nonzero(outcomes==6)"
   ]
  },
  {
   "cell_type": "code",
   "execution_count": 40,
   "metadata": {},
   "outputs": [
    {
     "data": {
      "text/plain": [
       "0.97372"
      ]
     },
     "execution_count": 40,
     "metadata": {},
     "output_type": "execute_result"
    }
   ],
   "source": [
    "trials = 100000\n",
    "successes = 0\n",
    "\n",
    "for i in np.arange(trials):\n",
    "    outcomes = np.random.choice(faces, 20)\n",
    "    if np.count_nonzero(outcomes==6) > 0:\n",
    "        successes = successes + 1\n",
    "\n",
    "successes/trials"
   ]
  },
  {
   "cell_type": "markdown",
   "metadata": {},
   "source": [
    "## Statistics"
   ]
  },
  {
   "cell_type": "markdown",
   "metadata": {},
   "source": [
    "## Estimation"
   ]
  },
  {
   "cell_type": "code",
   "execution_count": 42,
   "metadata": {},
   "outputs": [
    {
     "data": {
      "text/html": [
       "<table border=\"1\" class=\"dataframe\">\n",
       "    <thead>\n",
       "        <tr>\n",
       "            <th>estimate</th>\n",
       "        </tr>\n",
       "    </thead>\n",
       "    <tbody>\n",
       "        <tr>\n",
       "            <td>0.968   </td>\n",
       "        </tr>\n",
       "        <tr>\n",
       "            <td>0.975   </td>\n",
       "        </tr>\n",
       "        <tr>\n",
       "            <td>0.971   </td>\n",
       "        </tr>\n",
       "        <tr>\n",
       "            <td>0.976   </td>\n",
       "        </tr>\n",
       "        <tr>\n",
       "            <td>0.976   </td>\n",
       "        </tr>\n",
       "        <tr>\n",
       "            <td>0.974   </td>\n",
       "        </tr>\n",
       "        <tr>\n",
       "            <td>0.974   </td>\n",
       "        </tr>\n",
       "        <tr>\n",
       "            <td>0.974   </td>\n",
       "        </tr>\n",
       "        <tr>\n",
       "            <td>0.969   </td>\n",
       "        </tr>\n",
       "        <tr>\n",
       "            <td>0.975   </td>\n",
       "        </tr>\n",
       "    </tbody>\n",
       "</table>\n",
       "<p>... (190 rows omitted)</p>"
      ],
      "text/plain": [
       "estimate\n",
       "0.968\n",
       "0.975\n",
       "0.971\n",
       "0.976\n",
       "0.976\n",
       "0.974\n",
       "0.974\n",
       "0.974\n",
       "0.969\n",
       "0.975\n",
       "... (190 rows omitted)"
      ]
     },
     "execution_count": 42,
     "metadata": {},
     "output_type": "execute_result"
    }
   ],
   "source": [
    "def roll_20(trials):\n",
    "    successes = 0\n",
    "\n",
    "    for i in np.arange(trials):\n",
    "        outcomes = np.random.choice(faces, 20)\n",
    "        if np.count_nonzero(outcomes==6) > 0:\n",
    "            successes = successes + 1\n",
    "\n",
    "    return successes/trials\n",
    "\n",
    "estimates = Table(['estimate'])\n",
    "for k in np.arange(200):\n",
    "    estimates.append([roll_20(1000)])\n",
    "estimates"
   ]
  },
  {
   "cell_type": "code",
   "execution_count": 43,
   "metadata": {},
   "outputs": [
    {
     "data": {
      "image/png": "[encoded data removed]",
      "text/plain": [
       "<Figure size 432x864 with 1 Axes>"
      ]
     },
     "metadata": {
      "needs_background": "light"
     },
     "output_type": "display_data"
    }
   ],
   "source": [
    "estimates.group(0).barh(0)"
   ]
  },
  {
   "cell_type": "code",
   "execution_count": 44,
   "metadata": {},
   "outputs": [
    {
     "data": {
      "image/png": "[encoded data removed]",
      "text/plain": [
       "<Figure size 432x288 with 1 Axes>"
      ]
     },
     "metadata": {
      "needs_background": "light"
     },
     "output_type": "display_data"
    }
   ],
   "source": [
    "estimates.hist('estimate', bins=10)"
   ]
  },
  {
   "cell_type": "markdown",
   "metadata": {},
   "source": [
    "## Planes"
   ]
  },
  {
   "cell_type": "code",
   "execution_count": 45,
   "metadata": {},
   "outputs": [
    {
     "data": {
      "text/html": [
       "<table border=\"1\" class=\"dataframe\">\n",
       "    <thead>\n",
       "        <tr>\n",
       "            <th>Serial number</th>\n",
       "        </tr>\n",
       "    </thead>\n",
       "    <tbody>\n",
       "        <tr>\n",
       "            <td>1            </td>\n",
       "        </tr>\n",
       "        <tr>\n",
       "            <td>2            </td>\n",
       "        </tr>\n",
       "        <tr>\n",
       "            <td>3            </td>\n",
       "        </tr>\n",
       "        <tr>\n",
       "            <td>4            </td>\n",
       "        </tr>\n",
       "        <tr>\n",
       "            <td>5            </td>\n",
       "        </tr>\n",
       "        <tr>\n",
       "            <td>6            </td>\n",
       "        </tr>\n",
       "        <tr>\n",
       "            <td>7            </td>\n",
       "        </tr>\n",
       "        <tr>\n",
       "            <td>8            </td>\n",
       "        </tr>\n",
       "        <tr>\n",
       "            <td>9            </td>\n",
       "        </tr>\n",
       "        <tr>\n",
       "            <td>10           </td>\n",
       "        </tr>\n",
       "    </tbody>\n",
       "</table>\n",
       "<p>... (290 rows omitted)</p>"
      ],
      "text/plain": [
       "Serial number\n",
       "1\n",
       "2\n",
       "3\n",
       "4\n",
       "5\n",
       "6\n",
       "7\n",
       "8\n",
       "9\n",
       "10\n",
       "... (290 rows omitted)"
      ]
     },
     "execution_count": 45,
     "metadata": {},
     "output_type": "execute_result"
    }
   ],
   "source": [
    "N = 300\n",
    "serialno = Table().with_column('Serial number', np.arange(N)+1)\n",
    "serialno"
   ]
  },
  {
   "cell_type": "code",
   "execution_count": 54,
   "metadata": {},
   "outputs": [
    {
     "data": {
      "text/plain": [
       "288"
      ]
     },
     "execution_count": 54,
     "metadata": {},
     "output_type": "execute_result"
    }
   ],
   "source": [
    "serialno.sample(30).column(0).max()"
   ]
  },
  {
   "cell_type": "code",
   "execution_count": 55,
   "metadata": {},
   "outputs": [
    {
     "data": {
      "text/plain": [
       "278"
      ]
     },
     "execution_count": 55,
     "metadata": {},
     "output_type": "execute_result"
    }
   ],
   "source": [
    "max(serialno.sample(30).column(0))"
   ]
  },
  {
   "cell_type": "code",
   "execution_count": 56,
   "metadata": {},
   "outputs": [
    {
     "data": {
      "text/html": [
       "<table border=\"1\" class=\"dataframe\">\n",
       "    <thead>\n",
       "        <tr>\n",
       "            <th>Max serial number</th>\n",
       "        </tr>\n",
       "    </thead>\n",
       "    <tbody>\n",
       "        <tr>\n",
       "            <td>293              </td>\n",
       "        </tr>\n",
       "        <tr>\n",
       "            <td>293              </td>\n",
       "        </tr>\n",
       "        <tr>\n",
       "            <td>288              </td>\n",
       "        </tr>\n",
       "        <tr>\n",
       "            <td>299              </td>\n",
       "        </tr>\n",
       "        <tr>\n",
       "            <td>282              </td>\n",
       "        </tr>\n",
       "        <tr>\n",
       "            <td>295              </td>\n",
       "        </tr>\n",
       "        <tr>\n",
       "            <td>287              </td>\n",
       "        </tr>\n",
       "        <tr>\n",
       "            <td>283              </td>\n",
       "        </tr>\n",
       "        <tr>\n",
       "            <td>300              </td>\n",
       "        </tr>\n",
       "        <tr>\n",
       "            <td>300              </td>\n",
       "        </tr>\n",
       "    </tbody>\n",
       "</table>\n",
       "<p>... (990 rows omitted)</p>"
      ],
      "text/plain": [
       "Max serial number\n",
       "293\n",
       "293\n",
       "288\n",
       "299\n",
       "282\n",
       "295\n",
       "287\n",
       "283\n",
       "300\n",
       "300\n",
       "... (990 rows omitted)"
      ]
     },
     "execution_count": 56,
     "metadata": {},
     "output_type": "execute_result"
    }
   ],
   "source": [
    "sample_size = 30\n",
    "repetitions = 1000\n",
    "\n",
    "maxes = make_array()\n",
    "\n",
    "for i in np.arange(repetitions):\n",
    "    sampled_numbers = serialno.sample(sample_size).column(0)\n",
    "    maxes = np.append(maxes, sampled_numbers.max())  \n",
    "\n",
    "estimates = Table().with_column('Max serial number', maxes)\n",
    "estimates"
   ]
  },
  {
   "cell_type": "code",
   "execution_count": 57,
   "metadata": {
    "scrolled": true
   },
   "outputs": [
    {
     "data": {
      "image/png": "[encoded data removed]",
      "text/plain": [
       "<Figure size 432x288 with 1 Axes>"
      ]
     },
     "metadata": {
      "needs_background": "light"
     },
     "output_type": "display_data"
    }
   ],
   "source": [
    "every_ten = np.arange(1, N+100, 10)\n",
    "estimates.hist(bins=every_ten)"
   ]
  },
  {
   "cell_type": "markdown",
   "metadata": {},
   "source": [
    "Back to slides"
   ]
  },
  {
   "cell_type": "code",
   "execution_count": 58,
   "metadata": {},
   "outputs": [
    {
     "data": {
      "text/html": [
       "<table border=\"1\" class=\"dataframe\">\n",
       "    <thead>\n",
       "        <tr>\n",
       "            <th>Max</th> <th>2 * average</th>\n",
       "        </tr>\n",
       "    </thead>\n",
       "    <tbody>\n",
       "        <tr>\n",
       "            <td>283 </td> <td>292.867    </td>\n",
       "        </tr>\n",
       "        <tr>\n",
       "            <td>293 </td> <td>329.533    </td>\n",
       "        </tr>\n",
       "        <tr>\n",
       "            <td>297 </td> <td>274.6      </td>\n",
       "        </tr>\n",
       "        <tr>\n",
       "            <td>278 </td> <td>284.733    </td>\n",
       "        </tr>\n",
       "        <tr>\n",
       "            <td>279 </td> <td>268.267    </td>\n",
       "        </tr>\n",
       "        <tr>\n",
       "            <td>300 </td> <td>318.6      </td>\n",
       "        </tr>\n",
       "        <tr>\n",
       "            <td>287 </td> <td>320.733    </td>\n",
       "        </tr>\n",
       "        <tr>\n",
       "            <td>299 </td> <td>323.867    </td>\n",
       "        </tr>\n",
       "        <tr>\n",
       "            <td>281 </td> <td>278.333    </td>\n",
       "        </tr>\n",
       "        <tr>\n",
       "            <td>295 </td> <td>304.133    </td>\n",
       "        </tr>\n",
       "    </tbody>\n",
       "</table>\n",
       "<p>... (990 rows omitted)</p>"
      ],
      "text/plain": [
       "Max  | 2 * average\n",
       "283  | 292.867\n",
       "293  | 329.533\n",
       "297  | 274.6\n",
       "278  | 284.733\n",
       "279  | 268.267\n",
       "300  | 318.6\n",
       "287  | 320.733\n",
       "299  | 323.867\n",
       "281  | 278.333\n",
       "295  | 304.133\n",
       "... (990 rows omitted)"
      ]
     },
     "execution_count": 58,
     "metadata": {},
     "output_type": "execute_result"
    }
   ],
   "source": [
    "maxes = make_array()\n",
    "doubles = make_array()\n",
    "\n",
    "for i in np.arange(repetitions):\n",
    "    sampled_numbers = serialno.sample(sample_size).column(0)\n",
    "    maxes = np.append(maxes, sampled_numbers.max())  \n",
    "    doubles = np.append(doubles, 2 * sampled_numbers.mean())\n",
    "\n",
    "estimates = Table().with_columns(\n",
    "    'Max', maxes,\n",
    "    '2 * average', doubles\n",
    ")\n",
    "\n",
    "estimates"
   ]
  },
  {
   "cell_type": "code",
   "execution_count": 59,
   "metadata": {},
   "outputs": [
    {
     "data": {
      "image/png": "[encoded data removed]",
      "text/plain": [
       "<Figure size 432x288 with 1 Axes>"
      ]
     },
     "metadata": {
      "needs_background": "light"
     },
     "output_type": "display_data"
    }
   ],
   "source": [
    "estimates.hist(bins=every_ten)"
   ]
  },
  {
   "cell_type": "markdown",
   "metadata": {},
   "source": [
    "Discussion uestion"
   ]
  },
  {
   "cell_type": "code",
   "execution_count": null,
   "metadata": {},
   "outputs": [],
   "source": []
  },
  {
   "cell_type": "code",
   "execution_count": null,
   "metadata": {},
   "outputs": [],
   "source": []
  },
  {
   "cell_type": "code",
   "execution_count": null,
   "metadata": {},
   "outputs": [],
   "source": []
  },
  {
   "cell_type": "code",
   "execution_count": null,
   "metadata": {},
   "outputs": [],
   "source": []
  },
  {
   "cell_type": "code",
   "execution_count": null,
   "metadata": {},
   "outputs": [],
   "source": []
  },
  {
   "cell_type": "code",
   "execution_count": 60,
   "metadata": {},
   "outputs": [
    {
     "data": {
      "text/plain": [
       "array([729, 301, 564, 751, 682, 275, 936, 804,  50, 177, 781, 393, 625,\n",
       "       519, 791,  78, 117, 314, 210, 443, 701, 198,  13, 679, 763, 107,\n",
       "       395, 660, 283, 913])"
      ]
     },
     "execution_count": 60,
     "metadata": {},
     "output_type": "execute_result"
    }
   ],
   "source": [
    "N = 1020 # The number of z's in Shakespeare's 37 plays.\n",
    "sample_size = 30\n",
    "population = Table().with_column('Serial number', np.arange(N)+1)\n",
    "observation = population.sample(sample_size).column(0)\n",
    "observation"
   ]
  },
  {
   "cell_type": "code",
   "execution_count": 61,
   "metadata": {},
   "outputs": [
    {
     "data": {
      "text/plain": [
       "475.06666666666666"
      ]
     },
     "execution_count": 61,
     "metadata": {},
     "output_type": "execute_result"
    }
   ],
   "source": [
    "np.average(observation)"
   ]
  },
  {
   "cell_type": "code",
   "execution_count": 62,
   "metadata": {},
   "outputs": [
    {
     "data": {
      "text/plain": [
       "936"
      ]
     },
     "execution_count": 62,
     "metadata": {},
     "output_type": "execute_result"
    }
   ],
   "source": [
    "max(observation)"
   ]
  },
  {
   "cell_type": "code",
   "execution_count": 63,
   "metadata": {},
   "outputs": [
    {
     "data": {
      "text/html": [
       "<table border=\"1\" class=\"dataframe\">\n",
       "    <thead>\n",
       "        <tr>\n",
       "            <th>Max</th> <th>2 * average</th>\n",
       "        </tr>\n",
       "    </thead>\n",
       "    <tbody>\n",
       "        <tr>\n",
       "            <td>1018</td> <td>1220.2     </td>\n",
       "        </tr>\n",
       "        <tr>\n",
       "            <td>933 </td> <td>885.333    </td>\n",
       "        </tr>\n",
       "        <tr>\n",
       "            <td>971 </td> <td>969.067    </td>\n",
       "        </tr>\n",
       "        <tr>\n",
       "            <td>976 </td> <td>838.067    </td>\n",
       "        </tr>\n",
       "        <tr>\n",
       "            <td>969 </td> <td>1094.4     </td>\n",
       "        </tr>\n",
       "        <tr>\n",
       "            <td>1009</td> <td>983.267    </td>\n",
       "        </tr>\n",
       "        <tr>\n",
       "            <td>960 </td> <td>1047.73    </td>\n",
       "        </tr>\n",
       "        <tr>\n",
       "            <td>990 </td> <td>1131.47    </td>\n",
       "        </tr>\n",
       "        <tr>\n",
       "            <td>1005</td> <td>1064.47    </td>\n",
       "        </tr>\n",
       "        <tr>\n",
       "            <td>1020</td> <td>958        </td>\n",
       "        </tr>\n",
       "    </tbody>\n",
       "</table>\n",
       "<p>... (990 rows omitted)</p>"
      ],
      "text/plain": [
       "Max  | 2 * average\n",
       "1018 | 1220.2\n",
       "933  | 885.333\n",
       "971  | 969.067\n",
       "976  | 838.067\n",
       "969  | 1094.4\n",
       "1009 | 983.267\n",
       "960  | 1047.73\n",
       "990  | 1131.47\n",
       "1005 | 1064.47\n",
       "1020 | 958\n",
       "... (990 rows omitted)"
      ]
     },
     "execution_count": 63,
     "metadata": {},
     "output_type": "execute_result"
    }
   ],
   "source": [
    "maxes = make_array()   # max(observations)\n",
    "doubles = make_array() # 2 * np.average(observations)\n",
    "\n",
    "for i in np.arange(1000):\n",
    "    observation = population.sample(sample_size).column(0)\n",
    "    maxes = np.append(maxes, max(observation))\n",
    "    doubles = np.append(doubles, 2 * np.average(observation))\n",
    "\n",
    "estimates = Table().with_columns(\n",
    "    'Max', maxes,\n",
    "    '2 * average', doubles\n",
    ")\n",
    "\n",
    "estimates"
   ]
  },
  {
   "cell_type": "code",
   "execution_count": 64,
   "metadata": {},
   "outputs": [
    {
     "data": {
      "image/png": "[encoded data removed]",
      "text/plain": [
       "<Figure size 432x288 with 1 Axes>"
      ]
     },
     "metadata": {
      "needs_background": "light"
     },
     "output_type": "display_data"
    }
   ],
   "source": [
    "estimates.hist(bins=np.arange(1, N+300, 10))"
   ]
  },
  {
   "cell_type": "code",
   "execution_count": null,
   "metadata": {},
   "outputs": [],
   "source": []
  },
  {
   "cell_type": "code",
   "execution_count": null,
   "metadata": {},
   "outputs": [],
   "source": []
  },
  {
   "cell_type": "code",
   "execution_count": null,
   "metadata": {},
   "outputs": [],
   "source": [
    "maxes = make_array()   # max(observations)\n",
    "doubles = make_array() # 2 * np.average(observations)\n",
    "doubles_median = make_array() # 2 * np.median(observations)\n",
    "\n",
    "for i in np.arange(1000):\n",
    "    observation = population.sample(sample_size).column(0)\n",
    "    maxes = np.append(maxes, max(observation))\n",
    "    doubles = np.append(doubles, 2 * np.average(observation))\n",
    "    doubles_median = np.append(doubles_median, 2 * np.median(observation))\n",
    "\n",
    "estimates = Table().with_columns(\n",
    "    'Max', maxes,\n",
    "    '2 * average', doubles,\n",
    "    '2 * median', doubles_median\n",
    ")\n",
    "\n",
    "estimates"
   ]
  },
  {
   "cell_type": "code",
   "execution_count": null,
   "metadata": {},
   "outputs": [],
   "source": [
    "estimates.hist(bins=np.arange(1, N+300, 10))"
   ]
  },
  {
   "cell_type": "code",
   "execution_count": null,
   "metadata": {},
   "outputs": [],
   "source": []
  },
  {
   "cell_type": "code",
   "execution_count": null,
   "metadata": {},
   "outputs": [],
   "source": []
  },
  {
   "cell_type": "code",
   "execution_count": null,
   "metadata": {},
   "outputs": [],
   "source": []
  },
  {
   "cell_type": "code",
   "execution_count": null,
   "metadata": {},
   "outputs": [],
   "source": []
  },
  {
   "cell_type": "code",
   "execution_count": null,
   "metadata": {},
   "outputs": [],
   "source": []
  },
  {
   "cell_type": "code",
   "execution_count": null,
   "metadata": {},
   "outputs": [],
   "source": []
  },
  {
   "cell_type": "markdown",
   "metadata": {},
   "source": [
    "## A clever estimator"
   ]
  },
  {
   "cell_type": "code",
   "execution_count": 73,
   "metadata": {},
   "outputs": [
    {
     "data": {
      "text/html": [
       "<table border=\"1\" class=\"dataframe\">\n",
       "    <thead>\n",
       "        <tr>\n",
       "            <th>Max</th> <th>2 * average</th> <th>Max + min</th>\n",
       "        </tr>\n",
       "    </thead>\n",
       "    <tbody>\n",
       "        <tr>\n",
       "            <td>1005</td> <td>1121.4     </td> <td>1040     </td>\n",
       "        </tr>\n",
       "        <tr>\n",
       "            <td>993 </td> <td>1087.4     </td> <td>1006     </td>\n",
       "        </tr>\n",
       "        <tr>\n",
       "            <td>1004</td> <td>1049.27    </td> <td>1018     </td>\n",
       "        </tr>\n",
       "        <tr>\n",
       "            <td>996 </td> <td>1115.33    </td> <td>1040     </td>\n",
       "        </tr>\n",
       "        <tr>\n",
       "            <td>1011</td> <td>989.267    </td> <td>1025     </td>\n",
       "        </tr>\n",
       "        <tr>\n",
       "            <td>924 </td> <td>1063.4     </td> <td>932      </td>\n",
       "        </tr>\n",
       "        <tr>\n",
       "            <td>994 </td> <td>902.267    </td> <td>1000     </td>\n",
       "        </tr>\n",
       "        <tr>\n",
       "            <td>1002</td> <td>772.6      </td> <td>1022     </td>\n",
       "        </tr>\n",
       "        <tr>\n",
       "            <td>849 </td> <td>964.333    </td> <td>850      </td>\n",
       "        </tr>\n",
       "        <tr>\n",
       "            <td>918 </td> <td>899.467    </td> <td>940      </td>\n",
       "        </tr>\n",
       "    </tbody>\n",
       "</table>\n",
       "<p>... (990 rows omitted)</p>"
      ],
      "text/plain": [
       "Max  | 2 * average | Max + min\n",
       "1005 | 1121.4      | 1040\n",
       "993  | 1087.4      | 1006\n",
       "1004 | 1049.27     | 1018\n",
       "996  | 1115.33     | 1040\n",
       "1011 | 989.267     | 1025\n",
       "924  | 1063.4      | 932\n",
       "994  | 902.267     | 1000\n",
       "1002 | 772.6       | 1022\n",
       "849  | 964.333     | 850\n",
       "918  | 899.467     | 940\n",
       "... (990 rows omitted)"
      ]
     },
     "execution_count": 73,
     "metadata": {},
     "output_type": "execute_result"
    }
   ],
   "source": [
    "maxes = make_array()    # max(observations)\n",
    "doubles = make_array()  # 2 * np.average(observations)\n",
    "max_plus = make_array() # clever(observation)\n",
    "\n",
    "for i in np.arange(1000):\n",
    "    observation = population.sample(sample_size).column(0)\n",
    "    maxes = np.append(maxes, max(observation))\n",
    "    doubles = np.append(doubles, 2 * np.average(observation))\n",
    "    max_plus = np.append(max_plus, observation.max() + observation.min())\n",
    "\n",
    "estimates = Table().with_columns(\n",
    "    'Max', maxes,\n",
    "    '2 * average', doubles,\n",
    "    'Max + min', max_plus\n",
    ")\n",
    "\n",
    "estimates"
   ]
  },
  {
   "cell_type": "code",
   "execution_count": 74,
   "metadata": {},
   "outputs": [
    {
     "data": {
      "image/png": "[encoded data removed]",
      "text/plain": [
       "<Figure size 432x288 with 1 Axes>"
      ]
     },
     "metadata": {
      "needs_background": "light"
     },
     "output_type": "display_data"
    }
   ],
   "source": [
    "estimates.hist(bins=np.arange(1, N+300, 10))"
   ]
  },
  {
   "cell_type": "markdown",
   "metadata": {},
   "source": [
    "## Bias & Variability"
   ]
  },
  {
   "cell_type": "markdown",
   "metadata": {},
   "source": [
    "### Variability"
   ]
  },
  {
   "cell_type": "code",
   "execution_count": 65,
   "metadata": {},
   "outputs": [
    {
     "data": {
      "text/html": [
       "<table border=\"1\" class=\"dataframe\">\n",
       "    <thead>\n",
       "        <tr>\n",
       "            <th>Max</th> <th>2 * average</th>\n",
       "        </tr>\n",
       "    </thead>\n",
       "    <tbody>\n",
       "        <tr>\n",
       "            <td>1018</td> <td>1220.2     </td>\n",
       "        </tr>\n",
       "        <tr>\n",
       "            <td>933 </td> <td>885.333    </td>\n",
       "        </tr>\n",
       "        <tr>\n",
       "            <td>971 </td> <td>969.067    </td>\n",
       "        </tr>\n",
       "        <tr>\n",
       "            <td>976 </td> <td>838.067    </td>\n",
       "        </tr>\n",
       "        <tr>\n",
       "            <td>969 </td> <td>1094.4     </td>\n",
       "        </tr>\n",
       "        <tr>\n",
       "            <td>1009</td> <td>983.267    </td>\n",
       "        </tr>\n",
       "        <tr>\n",
       "            <td>960 </td> <td>1047.73    </td>\n",
       "        </tr>\n",
       "        <tr>\n",
       "            <td>990 </td> <td>1131.47    </td>\n",
       "        </tr>\n",
       "        <tr>\n",
       "            <td>1005</td> <td>1064.47    </td>\n",
       "        </tr>\n",
       "        <tr>\n",
       "            <td>1020</td> <td>958        </td>\n",
       "        </tr>\n",
       "    </tbody>\n",
       "</table>\n",
       "<p>... (990 rows omitted)</p>"
      ],
      "text/plain": [
       "Max  | 2 * average\n",
       "1018 | 1220.2\n",
       "933  | 885.333\n",
       "971  | 969.067\n",
       "976  | 838.067\n",
       "969  | 1094.4\n",
       "1009 | 983.267\n",
       "960  | 1047.73\n",
       "990  | 1131.47\n",
       "1005 | 1064.47\n",
       "1020 | 958\n",
       "... (990 rows omitted)"
      ]
     },
     "execution_count": 65,
     "metadata": {},
     "output_type": "execute_result"
    }
   ],
   "source": [
    "estimates"
   ]
  },
  {
   "cell_type": "code",
   "execution_count": 66,
   "metadata": {},
   "outputs": [
    {
     "data": {
      "text/plain": [
       "32.931"
      ]
     },
     "execution_count": 66,
     "metadata": {},
     "output_type": "execute_result"
    }
   ],
   "source": [
    "np.abs(estimates.column(0) - N).mean()"
   ]
  },
  {
   "cell_type": "code",
   "execution_count": 67,
   "metadata": {},
   "outputs": [
    {
     "data": {
      "text/plain": [
       "86.97073333333333"
      ]
     },
     "execution_count": 67,
     "metadata": {},
     "output_type": "execute_result"
    }
   ],
   "source": [
    "np.abs(estimates.column(1) - N).mean()"
   ]
  },
  {
   "cell_type": "code",
   "execution_count": 68,
   "metadata": {
    "scrolled": false
   },
   "outputs": [
    {
     "name": "stdout",
     "output_type": "stream",
     "text": [
      "Average absolute difference for Max : 32.931\n",
      "Average absolute difference for 2 * average : 86.97073333333333\n"
     ]
    }
   ],
   "source": [
    "# Variability\n",
    "\n",
    "for label in estimates.labels:\n",
    "    print('Average absolute difference for', label, ':', np.abs(N - estimates.column(label)).mean())"
   ]
  },
  {
   "cell_type": "markdown",
   "metadata": {},
   "source": [
    "### Bias"
   ]
  },
  {
   "cell_type": "code",
   "execution_count": 70,
   "metadata": {},
   "outputs": [
    {
     "data": {
      "text/plain": [
       "32.93100000000004"
      ]
     },
     "execution_count": 70,
     "metadata": {},
     "output_type": "execute_result"
    }
   ],
   "source": [
    "N - estimates.column(0).mean()"
   ]
  },
  {
   "cell_type": "code",
   "execution_count": 71,
   "metadata": {},
   "outputs": [
    {
     "data": {
      "text/plain": [
       "0.0018000000000029104"
      ]
     },
     "execution_count": 71,
     "metadata": {},
     "output_type": "execute_result"
    }
   ],
   "source": [
    "N - estimates.column(1).mean()"
   ]
  },
  {
   "cell_type": "code",
   "execution_count": 72,
   "metadata": {},
   "outputs": [
    {
     "name": "stdout",
     "output_type": "stream",
     "text": [
      "Average difference for Max : 32.931\n",
      "Average difference for 2 * average : 0.0018000000000000683\n"
     ]
    }
   ],
   "source": [
    "# Bias\n",
    "\n",
    "for label in estimates.labels:\n",
    "    print('Average difference for', label, ':', (N - estimates.column(label)).mean())"
   ]
  },
  {
   "cell_type": "markdown",
   "metadata": {},
   "source": [
    "## Swain v Alabama"
   ]
  },
  {
   "cell_type": "markdown",
   "metadata": {},
   "source": [
    "What is the probability of getting the actual panel with 8/100 blacks?\n",
    "\n",
    "1. Start with the distributions of eligible jurors and the actual panel.\n",
    "2. Draw panels at random from the eligible jurors.\n",
    "3. See if my actual panel is likely."
   ]
  },
  {
   "cell_type": "code",
   "execution_count": 75,
   "metadata": {},
   "outputs": [
    {
     "data": {
      "text/html": [
       "<table border=\"1\" class=\"dataframe\">\n",
       "    <thead>\n",
       "        <tr>\n",
       "            <th>Ethnicity</th> <th>Eligible</th> <th>Panel</th>\n",
       "        </tr>\n",
       "    </thead>\n",
       "    <tbody>\n",
       "        <tr>\n",
       "            <td>Black    </td> <td>26%     </td> <td>8%   </td>\n",
       "        </tr>\n",
       "        <tr>\n",
       "            <td>Other    </td> <td>74%     </td> <td>92%  </td>\n",
       "        </tr>\n",
       "    </tbody>\n",
       "</table>"
      ],
      "text/plain": [
       "Ethnicity | Eligible | Panel\n",
       "Black     | 26%      | 8%\n",
       "Other     | 74%      | 92%"
      ]
     },
     "execution_count": 75,
     "metadata": {},
     "output_type": "execute_result"
    }
   ],
   "source": [
    "swain = Table().with_columns(\n",
    "    'Ethnicity', make_array('Black', 'Other'),\n",
    "    'Eligible', make_array(0.26, 0.74),\n",
    "    'Panel', make_array(0.08, 0.92)\n",
    ")\n",
    "\n",
    "swain.set_format([1, 2], PercentFormatter(0))"
   ]
  },
  {
   "cell_type": "code",
   "execution_count": 76,
   "metadata": {},
   "outputs": [
    {
     "data": {
      "image/png": "[encoded data removed]",
      "text/plain": [
       "<Figure size 432x288 with 1 Axes>"
      ]
     },
     "metadata": {
      "needs_background": "light"
     },
     "output_type": "display_data"
    }
   ],
   "source": [
    "swain.barh(0)"
   ]
  },
  {
   "cell_type": "markdown",
   "metadata": {},
   "source": [
    "## Total Variation Distance (TVD)"
   ]
  },
  {
   "cell_type": "code",
   "execution_count": 77,
   "metadata": {},
   "outputs": [
    {
     "data": {
      "text/plain": [
       "array([ 0.18, -0.18])"
      ]
     },
     "execution_count": 77,
     "metadata": {},
     "output_type": "execute_result"
    }
   ],
   "source": [
    "swain.column(1) - swain.column(2)"
   ]
  },
  {
   "cell_type": "code",
   "execution_count": 78,
   "metadata": {
    "scrolled": false
   },
   "outputs": [
    {
     "data": {
      "text/html": [
       "<table border=\"1\" class=\"dataframe\">\n",
       "    <thead>\n",
       "        <tr>\n",
       "            <th>Ethnicity</th> <th>Eligible</th> <th>Panel</th>\n",
       "        </tr>\n",
       "    </thead>\n",
       "    <tbody>\n",
       "        <tr>\n",
       "            <td>Black    </td> <td>26%     </td> <td>8%   </td>\n",
       "        </tr>\n",
       "        <tr>\n",
       "            <td>Other    </td> <td>74%     </td> <td>92%  </td>\n",
       "        </tr>\n",
       "    </tbody>\n",
       "</table>"
      ],
      "text/plain": [
       "Ethnicity | Eligible | Panel\n",
       "Black     | 26%      | 8%\n",
       "Other     | 74%      | 92%"
      ]
     },
     "execution_count": 78,
     "metadata": {},
     "output_type": "execute_result"
    }
   ],
   "source": [
    "swain"
   ]
  },
  {
   "cell_type": "code",
   "execution_count": 79,
   "metadata": {},
   "outputs": [
    {
     "data": {
      "text/plain": [
       "0.18000000000000002"
      ]
     },
     "execution_count": 79,
     "metadata": {},
     "output_type": "execute_result"
    }
   ],
   "source": [
    "abs(swain.column(1) - swain.column(2)).sum()/2"
   ]
  },
  {
   "cell_type": "code",
   "execution_count": 81,
   "metadata": {},
   "outputs": [],
   "source": [
    "def total_variation_distance(distribution_1, distribution_2):\n",
    "    \"\"\"Each distribution is an array of proportions that sums to 1.\"\"\"\n",
    "    return np.abs(distribution_1 - distribution_2).sum()/2"
   ]
  },
  {
   "cell_type": "code",
   "execution_count": 82,
   "metadata": {},
   "outputs": [
    {
     "data": {
      "text/plain": [
       "0.18000000000000002"
      ]
     },
     "execution_count": 82,
     "metadata": {},
     "output_type": "execute_result"
    }
   ],
   "source": [
    "def table_tvd(table, label_1, label_2):\n",
    "    return total_variation_distance(table.column(label_1), table.column(label_2))\n",
    "\n",
    "table_tvd(swain, 'Eligible', 'Panel')"
   ]
  },
  {
   "cell_type": "markdown",
   "metadata": {},
   "source": [
    "### Simulating the statistics"
   ]
  },
  {
   "cell_type": "code",
   "execution_count": 83,
   "metadata": {},
   "outputs": [
    {
     "data": {
      "text/html": [
       "<table border=\"1\" class=\"dataframe\">\n",
       "    <thead>\n",
       "        <tr>\n",
       "            <th>Ethnicity</th> <th>Eligible</th> <th>Panel</th>\n",
       "        </tr>\n",
       "    </thead>\n",
       "    <tbody>\n",
       "        <tr>\n",
       "            <td>Black    </td> <td>26%     </td> <td>8%   </td>\n",
       "        </tr>\n",
       "        <tr>\n",
       "            <td>Black    </td> <td>26%     </td> <td>8%   </td>\n",
       "        </tr>\n",
       "        <tr>\n",
       "            <td>Other    </td> <td>74%     </td> <td>92%  </td>\n",
       "        </tr>\n",
       "        <tr>\n",
       "            <td>Black    </td> <td>26%     </td> <td>8%   </td>\n",
       "        </tr>\n",
       "        <tr>\n",
       "            <td>Other    </td> <td>74%     </td> <td>92%  </td>\n",
       "        </tr>\n",
       "        <tr>\n",
       "            <td>Other    </td> <td>74%     </td> <td>92%  </td>\n",
       "        </tr>\n",
       "        <tr>\n",
       "            <td>Other    </td> <td>74%     </td> <td>92%  </td>\n",
       "        </tr>\n",
       "        <tr>\n",
       "            <td>Other    </td> <td>74%     </td> <td>92%  </td>\n",
       "        </tr>\n",
       "        <tr>\n",
       "            <td>Other    </td> <td>74%     </td> <td>92%  </td>\n",
       "        </tr>\n",
       "        <tr>\n",
       "            <td>Black    </td> <td>26%     </td> <td>8%   </td>\n",
       "        </tr>\n",
       "    </tbody>\n",
       "</table>"
      ],
      "text/plain": [
       "Ethnicity | Eligible | Panel\n",
       "Black     | 26%      | 8%\n",
       "Black     | 26%      | 8%\n",
       "Other     | 74%      | 92%\n",
       "Black     | 26%      | 8%\n",
       "Other     | 74%      | 92%\n",
       "Other     | 74%      | 92%\n",
       "Other     | 74%      | 92%\n",
       "Other     | 74%      | 92%\n",
       "Other     | 74%      | 92%\n",
       "Black     | 26%      | 8%"
      ]
     },
     "execution_count": 83,
     "metadata": {},
     "output_type": "execute_result"
    }
   ],
   "source": [
    "swain.sample(10)"
   ]
  },
  {
   "cell_type": "code",
   "execution_count": null,
   "metadata": {},
   "outputs": [],
   "source": []
  },
  {
   "cell_type": "code",
   "execution_count": 84,
   "metadata": {},
   "outputs": [
    {
     "data": {
      "text/html": [
       "<table border=\"1\" class=\"dataframe\">\n",
       "    <thead>\n",
       "        <tr>\n",
       "            <th>Ethnicity</th>\n",
       "        </tr>\n",
       "    </thead>\n",
       "    <tbody>\n",
       "        <tr>\n",
       "            <td>Black    </td>\n",
       "        </tr>\n",
       "        <tr>\n",
       "            <td>Other    </td>\n",
       "        </tr>\n",
       "    </tbody>\n",
       "</table>"
      ],
      "text/plain": [
       "Ethnicity\n",
       "Black\n",
       "Other"
      ]
     },
     "execution_count": 84,
     "metadata": {},
     "output_type": "execute_result"
    }
   ],
   "source": [
    "ethnicity = swain.select(0)\n",
    "ethnicity"
   ]
  },
  {
   "cell_type": "code",
   "execution_count": 86,
   "metadata": {
    "scrolled": false
   },
   "outputs": [
    {
     "data": {
      "text/html": [
       "<table border=\"1\" class=\"dataframe\">\n",
       "    <thead>\n",
       "        <tr>\n",
       "            <th>Ethnicity</th>\n",
       "        </tr>\n",
       "    </thead>\n",
       "    <tbody>\n",
       "        <tr>\n",
       "            <td>Other    </td>\n",
       "        </tr>\n",
       "        <tr>\n",
       "            <td>Other    </td>\n",
       "        </tr>\n",
       "        <tr>\n",
       "            <td>Black    </td>\n",
       "        </tr>\n",
       "        <tr>\n",
       "            <td>Other    </td>\n",
       "        </tr>\n",
       "        <tr>\n",
       "            <td>Other    </td>\n",
       "        </tr>\n",
       "        <tr>\n",
       "            <td>Other    </td>\n",
       "        </tr>\n",
       "        <tr>\n",
       "            <td>Other    </td>\n",
       "        </tr>\n",
       "        <tr>\n",
       "            <td>Black    </td>\n",
       "        </tr>\n",
       "        <tr>\n",
       "            <td>Other    </td>\n",
       "        </tr>\n",
       "        <tr>\n",
       "            <td>Other    </td>\n",
       "        </tr>\n",
       "    </tbody>\n",
       "</table>\n",
       "<p>... (10 rows omitted)</p>"
      ],
      "text/plain": [
       "Ethnicity\n",
       "Other\n",
       "Other\n",
       "Black\n",
       "Other\n",
       "Other\n",
       "Other\n",
       "Other\n",
       "Black\n",
       "Other\n",
       "Other\n",
       "... (10 rows omitted)"
      ]
     },
     "execution_count": 86,
     "metadata": {},
     "output_type": "execute_result"
    }
   ],
   "source": [
    "ethnicity.sample(20)"
   ]
  },
  {
   "cell_type": "code",
   "execution_count": 102,
   "metadata": {},
   "outputs": [
    {
     "data": {
      "text/html": [
       "<table border=\"1\" class=\"dataframe\">\n",
       "    <thead>\n",
       "        <tr>\n",
       "            <th>Ethnicity</th> <th>count</th>\n",
       "        </tr>\n",
       "    </thead>\n",
       "    <tbody>\n",
       "        <tr>\n",
       "            <td>Black    </td> <td>46   </td>\n",
       "        </tr>\n",
       "        <tr>\n",
       "            <td>Other    </td> <td>54   </td>\n",
       "        </tr>\n",
       "    </tbody>\n",
       "</table>"
      ],
      "text/plain": [
       "Ethnicity | count\n",
       "Black     | 46\n",
       "Other     | 54"
      ]
     },
     "execution_count": 102,
     "metadata": {},
     "output_type": "execute_result"
    }
   ],
   "source": [
    "counts = ethnicity.sample(100).group(0)\n",
    "counts "
   ]
  },
  {
   "cell_type": "code",
   "execution_count": 103,
   "metadata": {},
   "outputs": [
    {
     "data": {
      "text/plain": [
       "array([0.26, 0.74])"
      ]
     },
     "execution_count": 103,
     "metadata": {},
     "output_type": "execute_result"
    }
   ],
   "source": [
    "population_distribution = swain.column('Eligible')\n",
    "population_distribution"
   ]
  },
  {
   "cell_type": "code",
   "execution_count": 106,
   "metadata": {
    "scrolled": false
   },
   "outputs": [
    {
     "data": {
      "text/html": [
       "<table border=\"1\" class=\"dataframe\">\n",
       "    <thead>\n",
       "        <tr>\n",
       "            <th>Ethnicity</th>\n",
       "        </tr>\n",
       "    </thead>\n",
       "    <tbody>\n",
       "        <tr>\n",
       "            <td>Other    </td>\n",
       "        </tr>\n",
       "        <tr>\n",
       "            <td>Other    </td>\n",
       "        </tr>\n",
       "        <tr>\n",
       "            <td>Other    </td>\n",
       "        </tr>\n",
       "        <tr>\n",
       "            <td>Other    </td>\n",
       "        </tr>\n",
       "        <tr>\n",
       "            <td>Other    </td>\n",
       "        </tr>\n",
       "        <tr>\n",
       "            <td>Other    </td>\n",
       "        </tr>\n",
       "        <tr>\n",
       "            <td>Other    </td>\n",
       "        </tr>\n",
       "        <tr>\n",
       "            <td>Black    </td>\n",
       "        </tr>\n",
       "        <tr>\n",
       "            <td>Black    </td>\n",
       "        </tr>\n",
       "        <tr>\n",
       "            <td>Other    </td>\n",
       "        </tr>\n",
       "    </tbody>\n",
       "</table>"
      ],
      "text/plain": [
       "Ethnicity\n",
       "Other\n",
       "Other\n",
       "Other\n",
       "Other\n",
       "Other\n",
       "Other\n",
       "Other\n",
       "Black\n",
       "Black\n",
       "Other"
      ]
     },
     "execution_count": 106,
     "metadata": {},
     "output_type": "execute_result"
    }
   ],
   "source": [
    "ethnicity.sample(10, weights=population_distribution)"
   ]
  },
  {
   "cell_type": "code",
   "execution_count": 107,
   "metadata": {},
   "outputs": [
    {
     "data": {
      "text/html": [
       "<table border=\"1\" class=\"dataframe\">\n",
       "    <thead>\n",
       "        <tr>\n",
       "            <th>Ethnicity</th> <th>count</th>\n",
       "        </tr>\n",
       "    </thead>\n",
       "    <tbody>\n",
       "        <tr>\n",
       "            <td>Black    </td> <td>19   </td>\n",
       "        </tr>\n",
       "        <tr>\n",
       "            <td>Other    </td> <td>81   </td>\n",
       "        </tr>\n",
       "    </tbody>\n",
       "</table>"
      ],
      "text/plain": [
       "Ethnicity | count\n",
       "Black     | 19\n",
       "Other     | 81"
      ]
     },
     "execution_count": 107,
     "metadata": {},
     "output_type": "execute_result"
    }
   ],
   "source": [
    "counts = ethnicity.sample(100, weights=population_distribution).group(0)\n",
    "counts "
   ]
  },
  {
   "cell_type": "code",
   "execution_count": 108,
   "metadata": {
    "scrolled": true
   },
   "outputs": [
    {
     "data": {
      "text/html": [
       "<table border=\"1\" class=\"dataframe\">\n",
       "    <thead>\n",
       "        <tr>\n",
       "            <th>Ethnicity</th>\n",
       "        </tr>\n",
       "    </thead>\n",
       "    <tbody>\n",
       "        <tr>\n",
       "            <td>Other    </td>\n",
       "        </tr>\n",
       "        <tr>\n",
       "            <td>Other    </td>\n",
       "        </tr>\n",
       "        <tr>\n",
       "            <td>Other    </td>\n",
       "        </tr>\n",
       "        <tr>\n",
       "            <td>Black    </td>\n",
       "        </tr>\n",
       "        <tr>\n",
       "            <td>Other    </td>\n",
       "        </tr>\n",
       "        <tr>\n",
       "            <td>Black    </td>\n",
       "        </tr>\n",
       "        <tr>\n",
       "            <td>Other    </td>\n",
       "        </tr>\n",
       "        <tr>\n",
       "            <td>Other    </td>\n",
       "        </tr>\n",
       "        <tr>\n",
       "            <td>Other    </td>\n",
       "        </tr>\n",
       "        <tr>\n",
       "            <td>Black    </td>\n",
       "        </tr>\n",
       "    </tbody>\n",
       "</table>\n",
       "<p>... (90 rows omitted)</p>"
      ],
      "text/plain": [
       "Ethnicity\n",
       "Other\n",
       "Other\n",
       "Other\n",
       "Black\n",
       "Other\n",
       "Black\n",
       "Other\n",
       "Other\n",
       "Other\n",
       "Black\n",
       "... (90 rows omitted)"
      ]
     },
     "execution_count": 108,
     "metadata": {},
     "output_type": "execute_result"
    }
   ],
   "source": [
    "panel_size = 100\n",
    "swain.select(0).sample(panel_size, weights=swain.column('Eligible'))"
   ]
  },
  {
   "cell_type": "code",
   "execution_count": 136,
   "metadata": {},
   "outputs": [
    {
     "data": {
      "text/html": [
       "<table border=\"1\" class=\"dataframe\">\n",
       "    <thead>\n",
       "        <tr>\n",
       "            <th>Ethnicity</th> <th>Random</th>\n",
       "        </tr>\n",
       "    </thead>\n",
       "    <tbody>\n",
       "        <tr>\n",
       "            <td>Black    </td> <td>20%   </td>\n",
       "        </tr>\n",
       "        <tr>\n",
       "            <td>Other    </td> <td>80%   </td>\n",
       "        </tr>\n",
       "    </tbody>\n",
       "</table>"
      ],
      "text/plain": [
       "Ethnicity | Random\n",
       "Black     | 20%\n",
       "Other     | 80%"
      ]
     },
     "execution_count": 136,
     "metadata": {},
     "output_type": "execute_result"
    }
   ],
   "source": [
    "panel = swain.select(0).sample(panel_size, weights=swain.column('Eligible'))\n",
    "counts = panel.group(0)\n",
    "sample_proportions = counts.select(0).with_column('Random', counts.column(1) / 100)\n",
    "sample_proportions.set_format(1, PercentFormatter(0))"
   ]
  },
  {
   "cell_type": "code",
   "execution_count": 137,
   "metadata": {},
   "outputs": [
    {
     "data": {
      "text/html": [
       "<table border=\"1\" class=\"dataframe\">\n",
       "    <thead>\n",
       "        <tr>\n",
       "            <th>Ethnicity</th> <th>Eligible</th> <th>Panel</th> <th>Random</th>\n",
       "        </tr>\n",
       "    </thead>\n",
       "    <tbody>\n",
       "        <tr>\n",
       "            <td>Black    </td> <td>26%     </td> <td>8%   </td> <td>20%   </td>\n",
       "        </tr>\n",
       "        <tr>\n",
       "            <td>Other    </td> <td>74%     </td> <td>92%  </td> <td>80%   </td>\n",
       "        </tr>\n",
       "    </tbody>\n",
       "</table>"
      ],
      "text/plain": [
       "Ethnicity | Eligible | Panel | Random\n",
       "Black     | 26%      | 8%    | 20%\n",
       "Other     | 74%      | 92%   | 80%"
      ]
     },
     "execution_count": 137,
     "metadata": {},
     "output_type": "execute_result"
    }
   ],
   "source": [
    "swain.join('Ethnicity', sample_proportions)"
   ]
  },
  {
   "cell_type": "code",
   "execution_count": 141,
   "metadata": {},
   "outputs": [
    {
     "data": {
      "text/html": [
       "<table border=\"1\" class=\"dataframe\">\n",
       "    <thead>\n",
       "        <tr>\n",
       "            <th>Ethnicity</th> <th>Eligible</th> <th>Panel</th> <th>Random</th>\n",
       "        </tr>\n",
       "    </thead>\n",
       "    <tbody>\n",
       "        <tr>\n",
       "            <td>Black    </td> <td>26%     </td> <td>8%   </td> <td>25%   </td>\n",
       "        </tr>\n",
       "        <tr>\n",
       "            <td>Other    </td> <td>74%     </td> <td>92%  </td> <td>75%   </td>\n",
       "        </tr>\n",
       "    </tbody>\n",
       "</table>"
      ],
      "text/plain": [
       "Ethnicity | Eligible | Panel | Random\n",
       "Black     | 26%      | 8%    | 25%\n",
       "Other     | 74%      | 92%   | 75%"
      ]
     },
     "execution_count": 141,
     "metadata": {},
     "output_type": "execute_result"
    }
   ],
   "source": [
    "def random_jury_panel():\n",
    "    panel = swain.select(0).sample(panel_size, weights=swain.column('Eligible'))\n",
    "    counts = panel.group(0)\n",
    "    sample_proportions = counts.select(0).with_column('Random', counts.column(1) / panel_size)\n",
    "    sample_proportions.set_format(1, PercentFormatter(0))\n",
    "    return swain.join('Ethnicity', sample_proportions)\n",
    "\n",
    "random_jury_panel()"
   ]
  },
  {
   "cell_type": "markdown",
   "metadata": {},
   "source": [
    "### Repeated trials"
   ]
  },
  {
   "cell_type": "code",
   "execution_count": 146,
   "metadata": {},
   "outputs": [
    {
     "data": {
      "text/html": [
       "<table border=\"1\" class=\"dataframe\">\n",
       "    <thead>\n",
       "        <tr>\n",
       "            <th>TVD between the population & a random sample</th>\n",
       "        </tr>\n",
       "    </thead>\n",
       "    <tbody>\n",
       "        <tr>\n",
       "            <td>0.05                                        </td>\n",
       "        </tr>\n",
       "        <tr>\n",
       "            <td>0.04                                        </td>\n",
       "        </tr>\n",
       "        <tr>\n",
       "            <td>0.06                                        </td>\n",
       "        </tr>\n",
       "        <tr>\n",
       "            <td>0.02                                        </td>\n",
       "        </tr>\n",
       "        <tr>\n",
       "            <td>0.03                                        </td>\n",
       "        </tr>\n",
       "        <tr>\n",
       "            <td>0                                           </td>\n",
       "        </tr>\n",
       "        <tr>\n",
       "            <td>0.03                                        </td>\n",
       "        </tr>\n",
       "        <tr>\n",
       "            <td>0.02                                        </td>\n",
       "        </tr>\n",
       "        <tr>\n",
       "            <td>0.03                                        </td>\n",
       "        </tr>\n",
       "        <tr>\n",
       "            <td>0.07                                        </td>\n",
       "        </tr>\n",
       "    </tbody>\n",
       "</table>\n",
       "<p>... (9990 rows omitted)</p>"
      ],
      "text/plain": [
       "TVD between the population & a random sample\n",
       "0.05\n",
       "0.04\n",
       "0.06\n",
       "0.02\n",
       "0.03\n",
       "0\n",
       "0.03\n",
       "0.02\n",
       "0.03\n",
       "0.07\n",
       "... (9990 rows omitted)"
      ]
     },
     "execution_count": 146,
     "metadata": {},
     "output_type": "execute_result"
    }
   ],
   "source": [
    "# Compute the empirical distribution of TVDs\n",
    "\n",
    "Repetitions = 10000\n",
    "tvds = make_array()\n",
    "\n",
    "for i in np.arange(Repetitions): \n",
    "    new_sample = random_jury_panel()\n",
    "    tvds = np.append(tvds, table_tvd(new_sample, 'Eligible', 'Random'))\n",
    "\n",
    "results = Table().with_column('TVD between the population & a random sample', tvds)\n",
    "results"
   ]
  },
  {
   "cell_type": "code",
   "execution_count": 147,
   "metadata": {},
   "outputs": [
    {
     "data": {
      "image/png": "[encoded data removed]",
      "text/plain": [
       "<Figure size 432x288 with 1 Axes>"
      ]
     },
     "metadata": {
      "needs_background": "light"
     },
     "output_type": "display_data"
    }
   ],
   "source": [
    "results.hist(bins=np.arange(0, 0.2, 0.01))"
   ]
  },
  {
   "cell_type": "code",
   "execution_count": 144,
   "metadata": {},
   "outputs": [
    {
     "data": {
      "text/html": [
       "<table border=\"1\" class=\"dataframe\">\n",
       "    <thead>\n",
       "        <tr>\n",
       "            <th>Ethnicity</th> <th>Eligible</th> <th>Panel</th>\n",
       "        </tr>\n",
       "    </thead>\n",
       "    <tbody>\n",
       "        <tr>\n",
       "            <td>Black    </td> <td>26%     </td> <td>8%   </td>\n",
       "        </tr>\n",
       "        <tr>\n",
       "            <td>Other    </td> <td>74%     </td> <td>92%  </td>\n",
       "        </tr>\n",
       "    </tbody>\n",
       "</table>"
      ],
      "text/plain": [
       "Ethnicity | Eligible | Panel\n",
       "Black     | 26%      | 8%\n",
       "Other     | 74%      | 92%"
      ]
     },
     "execution_count": 144,
     "metadata": {},
     "output_type": "execute_result"
    }
   ],
   "source": [
    "swain"
   ]
  },
  {
   "cell_type": "code",
   "execution_count": 145,
   "metadata": {
    "scrolled": true
   },
   "outputs": [
    {
     "data": {
      "text/plain": [
       "0.18000000000000002"
      ]
     },
     "execution_count": 145,
     "metadata": {},
     "output_type": "execute_result"
    }
   ],
   "source": [
    "abs(swain.column(1) - swain.column(2)).sum()/2"
   ]
  },
  {
   "cell_type": "code",
   "execution_count": null,
   "metadata": {},
   "outputs": [],
   "source": []
  }
 ],
 "metadata": {
  "kernelspec": {
   "display_name": "Python 3",
   "language": "python",
   "name": "python3"
  },
  "language_info": {
   "codemirror_mode": {
    "name": "ipython",
    "version": 3
   },
   "file_extension": ".py",
   "mimetype": "text/x-python",
   "name": "python",
   "nbconvert_exporter": "python",
   "pygments_lexer": "ipython3",
   "version": "3.7.4"
  }
 },
 "nbformat": 4,
 "nbformat_minor": 2
}
