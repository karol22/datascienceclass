{
 "cells": [
  {
   "cell_type": "markdown",
   "metadata": {},
   "source": [
    "# homework: covid-19\n",
    "\n",
    "### Deadline: Tuesday, March 31 at 11:59 PM\n",
    "\n",
    "Do some data analysis of your choice with the available data about the covid-19. Try to just use whatever we talked so far in the class. But if you decided to go beyound, feel free to do so.\n",
    "\n",
    "You can find a lot of data at github, for example at: https://github.com/CSSEGISandData/COVID-19\n",
    "\n",
    "feel free to borrow codes from others, but make your own touch and make it unique.\n",
    "\n",
    "Also make sure you know what you did, as next week we will talk about all the submission during the class.\n",
    "\n",
    "If you are using any csv files, make sure they are uploaded on the internet and you are using the links to those data. So, just having your code I can run it without the need to download any csv.\n",
    "\n",
    "You can use: https://filebin.net/ to upload your csv files. Then use the link like https://filebin.net/267bnv1du3a4u39n/inventory.csv?t=tlsnfpn8 to get the file.\n",
    "\n",
    "As you remember the code would be something like this:\n",
    "\n",
    "*inventory = Table.read_table('https://filebin.net/267bnv1du3a4u39n/inventory.csv?t=tlsnfpn8')*"
   ]
  },
  {
   "cell_type": "code",
   "execution_count": null,
   "metadata": {},
   "outputs": [],
   "source": [
    "# import any extra module that you need and is neccessary\n",
    "\n",
    "from datascience import *\n",
    "import numpy as np\n",
    "\n",
    "import matplotlib.pyplot as plots\n",
    "plots.style.use('fivethirtyeight')\n",
    "%matplotlib inline\n",
    "\n",
    "from ipywidgets import interact, interactive, fixed, interact_manual\n",
    "import ipywidgets as widgets"
   ]
  },
  {
   "cell_type": "code",
   "execution_count": null,
   "metadata": {},
   "outputs": [],
   "source": [
    "# Don't change this cell; just run it. \n",
    "from client.api.notebook import Notebook\n",
    "ok = Notebook('covid19.ok')\n",
    "_ = ok.auth(inline=True)"
   ]
  },
  {
   "cell_type": "markdown",
   "metadata": {},
   "source": [
    "#### use as many cells as you need"
   ]
  },
  {
   "cell_type": "code",
   "execution_count": null,
   "metadata": {},
   "outputs": [],
   "source": []
  },
  {
   "cell_type": "code",
   "execution_count": null,
   "metadata": {},
   "outputs": [],
   "source": []
  },
  {
   "cell_type": "code",
   "execution_count": null,
   "metadata": {},
   "outputs": [],
   "source": []
  },
  {
   "cell_type": "markdown",
   "metadata": {},
   "source": [
    "### after finishing with your codes above, don't forget to submit by running the next cell"
   ]
  },
  {
   "cell_type": "code",
   "execution_count": null,
   "metadata": {},
   "outputs": [],
   "source": [
    "_ = ok.submit()"
   ]
  },
  {
   "cell_type": "code",
   "execution_count": null,
   "metadata": {},
   "outputs": [],
   "source": []
  }
 ],
 "metadata": {
  "kernelspec": {
   "display_name": "Python 3",
   "language": "python",
   "name": "python3"
  },
  "language_info": {
   "codemirror_mode": {
    "name": "ipython",
    "version": 3
   },
   "file_extension": ".py",
   "mimetype": "text/x-python",
   "name": "python",
   "nbconvert_exporter": "python",
   "pygments_lexer": "ipython3",
   "version": "3.7.4"
  }
 },
 "nbformat": 4,
 "nbformat_minor": 2
}
